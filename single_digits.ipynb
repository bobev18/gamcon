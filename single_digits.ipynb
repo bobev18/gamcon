{
 "cells": [
  {
   "cell_type": "code",
   "execution_count": 1,
   "metadata": {
    "collapsed": true
   },
   "outputs": [],
   "source": [
    "import math\n",
    "import numpy as np\n",
    "import matplotlib.pyplot as plt\n",
    "import pandas as pd\n",
    "import itertools\n",
    "\n",
    "# from skimage import data\n",
    "from skimage import transform as tf\n",
    "from skimage.transform import rotate\n",
    "\n",
    "RESIZED_IMAGE_WIDTH = 20\n",
    "RESIZED_IMAGE_HEIGHT = 30\n",
    "\n",
    "classifications = np.loadtxt(\"classifications.txt\") #, , fmt='%i')\n",
    "flattened_images = np.loadtxt(\"flattened_images.txt\")#,  fmt='%i')"
   ]
  },
  {
   "cell_type": "code",
   "execution_count": 2,
   "metadata": {
    "collapsed": true
   },
   "outputs": [],
   "source": [
    "def grouper(iterable, n, fillvalue=None):\n",
    "    \"Collect data into fixed-length chunks or blocks\"\n",
    "    # grouper('ABCDEFG', 3, 'x') --> ABC DEF Gxx\"\n",
    "    args = [iter(iterable)] * n\n",
    "    return itertools.zip_longest(*args, fillvalue=fillvalue)"
   ]
  },
  {
   "cell_type": "markdown",
   "metadata": {},
   "source": [
    "We have a single sample for each digit, so we want to use warpping to produce more samples. To do that, we need the un-flattened images."
   ]
  },
  {
   "cell_type": "code",
   "execution_count": 3,
   "metadata": {
    "collapsed": true
   },
   "outputs": [],
   "source": [
    "images = [ np.reshape(z, (RESIZED_IMAGE_HEIGHT, -1)) for z in flattened_images ]"
   ]
  },
  {
   "cell_type": "code",
   "execution_count": 4,
   "metadata": {
    "collapsed": false
   },
   "outputs": [],
   "source": [
    "def show_raw(images, labels):\n",
    "    \n",
    "    fig, ax = plt.subplots(ncols=len(images), sharex=False, sharey=False)\n",
    "    for i in range(len(images)):\n",
    "        ax[i].imshow(images[i], cmap=plt.cm.gray)\n",
    "        ax[i].axis('off')\n",
    "        if labels is not None:\n",
    "            ax[i].set_title(labels[i])\n",
    "    \n",
    "    plt.show()"
   ]
  },
  {
   "cell_type": "code",
   "execution_count": 5,
   "metadata": {
    "collapsed": true
   },
   "outputs": [],
   "source": [
    "def show_all(images, labels=None):\n",
    "    if labels is not None:\n",
    "        image_sets = list(grouper(images, 6, np.zeros(images[0].shape, dtype=np.int)))\n",
    "        label_sets = list(grouper(labels, 6, ''))\n",
    "        for i, image_set in enumerate(image_sets):\n",
    "            show_raw(image_set, labels=label_sets[i])\n",
    "    else:\n",
    "        [ show_raw(z, ['']*6) for z in grouper(images, 6, np.zeros(images[0].shape, dtype=np.int)) ]"
   ]
  },
  {
   "cell_type": "code",
   "execution_count": 6,
   "metadata": {
    "collapsed": false
   },
   "outputs": [
    {
     "data": {
      "text/plain": [
       "['9', '8', '7', '6', '5', '4', '3', '2', '1', '0']"
      ]
     },
     "execution_count": 6,
     "metadata": {},
     "output_type": "execute_result"
    }
   ],
   "source": [
    "[chr(int(z)) for z in classifications]"
   ]
  },
  {
   "cell_type": "code",
   "execution_count": 7,
   "metadata": {
    "collapsed": false
   },
   "outputs": [
    {
     "data": {
      "image/png": "[encoded data removed]",
      "text/plain": [
       "<matplotlib.figure.Figure at 0x7fc6fbeaaf98>"
      ]
     },
     "metadata": {},
     "output_type": "display_data"
    },
    {
     "data": {
      "image/png": "[encoded data removed]",
      "text/plain": [
       "<matplotlib.figure.Figure at 0x7fc6f9e39518>"
      ]
     },
     "metadata": {},
     "output_type": "display_data"
    }
   ],
   "source": [
    "show_all(images, labels=[chr(int(z)) for z in classifications])"
   ]
  },
  {
   "cell_type": "markdown",
   "metadata": {},
   "source": [
    "Prep sample"
   ]
  },
  {
   "cell_type": "code",
   "execution_count": 8,
   "metadata": {
    "collapsed": true
   },
   "outputs": [],
   "source": [
    "import cv2"
   ]
  },
  {
   "cell_type": "code",
   "execution_count": 9,
   "metadata": {
    "collapsed": false
   },
   "outputs": [],
   "source": [
    "MIN_CONTOUR_AREA = 100\n",
    "\n",
    "RESIZED_IMAGE_WIDTH = 20\n",
    "RESIZED_IMAGE_HEIGHT = 30\n",
    "# font = cv2.FONT_HERSHEY_SIMPLEX\n",
    "font = cv2.FONT_HERSHEY_COMPLEX_SMALL\n",
    "\n",
    "def preprocess_score_image(original):\n",
    "    gray = cv2.cvtColor(original, cv2.COLOR_BGR2GRAY)\n",
    "    _, bw_image = cv2.threshold(gray, 200, 255, cv2.THRESH_BINARY)\n",
    "    image = bw_image.copy()\n",
    "    img_contours, npa_contours, npa_hierarchy = cv2.findContours(image,\n",
    "                                                 cv2.RETR_EXTERNAL,\n",
    "                                                 cv2.CHAIN_APPROX_SIMPLE)\n",
    "\n",
    "    flattened_digits =  np.empty((0, RESIZED_IMAGE_WIDTH * RESIZED_IMAGE_HEIGHT), dtype=np.int)\n",
    "\n",
    "    for i, npa_contour in enumerate(npa_contours):\n",
    "        if cv2.contourArea(npa_contour) > MIN_CONTOUR_AREA:\n",
    "            [intX, intY, intW, intH] = cv2.boundingRect(npa_contour)\n",
    "\n",
    "            cv2.rectangle(original, (intX, intY), (intX+intW,intY+intH), (0, 0, 255), 2)\n",
    "            imgROI = image[intY:intY+intH, intX:intX+intW]\n",
    "            resized = cv2.resize(imgROI, (RESIZED_IMAGE_WIDTH, RESIZED_IMAGE_HEIGHT))\n",
    "            flattened = resized.reshape((1, RESIZED_IMAGE_WIDTH * RESIZED_IMAGE_HEIGHT))\n",
    "            flattened_digits = np.append(flattened_digits, flattened, 0)\n",
    "\n",
    "\n",
    "    return flattened_digits"
   ]
  },
  {
   "cell_type": "code",
   "execution_count": null,
   "metadata": {
    "collapsed": true
   },
   "outputs": [],
   "source": []
  },
  {
   "cell_type": "code",
   "execution_count": 48,
   "metadata": {
    "collapsed": false
   },
   "outputs": [
    {
     "name": "stdout",
     "output_type": "stream",
     "text": [
      "(600,)\n",
      "(600,)\n"
     ]
    }
   ],
   "source": [
    "test_source = cv2.imread(\"samples/test_score.png\")\n",
    "test = preprocess_score_image(test_source)\n",
    "for digit in test:\n",
    "    print(digit.shape)"
   ]
  },
  {
   "cell_type": "code",
   "execution_count": 11,
   "metadata": {
    "collapsed": false
   },
   "outputs": [
    {
     "data": {
      "image/png": "[encoded data removed]",
      "text/plain": [
       "<matplotlib.figure.Figure at 0x7fc6f2db9198>"
      ]
     },
     "metadata": {},
     "output_type": "display_data"
    }
   ],
   "source": [
    "test_images = [ np.reshape(z, (RESIZED_IMAGE_HEIGHT, -1)) for z in test ]\n",
    "show_all(test_images)"
   ]
  },
  {
   "cell_type": "markdown",
   "metadata": {},
   "source": [
    "Test sample was taken at 30x30 instead of the 20x30 used by the training samples; will reshape the test sample"
   ]
  },
  {
   "cell_type": "code",
   "execution_count": 12,
   "metadata": {
    "collapsed": false
   },
   "outputs": [],
   "source": [
    "# resized_test = []\n",
    "# for test_image in test:\n",
    "#     resized = cv2.resize(test_image, (RESIZED_IMAGE_WIDTH, RESIZED_IMAGE_HEIGHT))\n",
    "#     resized_test.append(resized)\n",
    "\n",
    "# for image in resized_test:\n",
    "#     print(image.shape)"
   ]
  },
  {
   "cell_type": "code",
   "execution_count": 13,
   "metadata": {
    "collapsed": false
   },
   "outputs": [
    {
     "name": "stdout",
     "output_type": "stream",
     "text": [
      "(10, 600)\n",
      "(10,)\n"
     ]
    }
   ],
   "source": [
    "print(flattened_images.shape)\n",
    "print(classifications.shape)"
   ]
  },
  {
   "cell_type": "code",
   "execution_count": 14,
   "metadata": {
    "collapsed": true
   },
   "outputs": [],
   "source": [
    "from sklearn import svm\n"
   ]
  },
  {
   "cell_type": "code",
   "execution_count": 15,
   "metadata": {
    "collapsed": false
   },
   "outputs": [
    {
     "data": {
      "text/plain": [
       "NuSVC(cache_size=200, class_weight=None, coef0=0.0,\n",
       "   decision_function_shape='ovr', degree=3, gamma='auto', kernel='rbf',\n",
       "   max_iter=-1, nu=0.5, probability=False, random_state=None,\n",
       "   shrinking=True, tol=0.001, verbose=False)"
      ]
     },
     "execution_count": 15,
     "metadata": {},
     "output_type": "execute_result"
    }
   ],
   "source": [
    "clf = svm.NuSVC()\n",
    "clf.fit(flattened_images, classifications)"
   ]
  },
  {
   "cell_type": "code",
   "execution_count": 16,
   "metadata": {
    "collapsed": false
   },
   "outputs": [
    {
     "name": "stdout",
     "output_type": "stream",
     "text": [
      "9\n",
      "9\n"
     ]
    }
   ],
   "source": [
    "for digit in test:\n",
    "    predict = clf.predict([digit])\n",
    "    print(chr(int(predict)))"
   ]
  },
  {
   "cell_type": "code",
   "execution_count": 17,
   "metadata": {
    "collapsed": false
   },
   "outputs": [
    {
     "data": {
      "image/png": "[encoded data removed]",
      "text/plain": [
       "<matplotlib.figure.Figure at 0x7fc6efb43390>"
      ]
     },
     "metadata": {},
     "output_type": "display_data"
    }
   ],
   "source": [
    "predictions = [ clf.predict([z]) for z in test ]\n",
    "show_all(test_images, labels=[ chr(z) for z in predictions])"
   ]
  },
  {
   "cell_type": "markdown",
   "metadata": {},
   "source": [
    "Grid search"
   ]
  },
  {
   "cell_type": "code",
   "execution_count": 18,
   "metadata": {
    "collapsed": true
   },
   "outputs": [],
   "source": [
    "def report(results, n_top=5):\n",
    "    for i in range(1, n_top + 1):\n",
    "        candidates = np.flatnonzero(results['rank_test_score'] == i)\n",
    "        for candidate in candidates:\n",
    "            print(\"Model with rank: {0}\".format(i))\n",
    "            print(\"Mean validation score: {0:.3f} (std: {1:.3f})\".format(\n",
    "                  results['mean_test_score'][candidate],\n",
    "                  results['std_test_score'][candidate]))\n",
    "            print(\"Parameters: {0}\".format(results['params'][candidate]))\n",
    "            print(\"\")"
   ]
  },
  {
   "cell_type": "code",
   "execution_count": 38,
   "metadata": {
    "collapsed": false
   },
   "outputs": [],
   "source": [
    "more_params = {'clf__nu' : [0.8, 0.65, 0.5, 0.35, 0.2],\n",
    "            'clf__kernel' : ['linear', 'poly', 'rbf', 'sigmoid', ],\n",
    "            'clf__shrinking' : [True, False],\n",
    "            'clf__tol' : [0.01, 0.003, 0.001, 0.0003, 0.0001],\n",
    "            'clf__decision_function_shape' : ['ovo', 'ovr'],\n",
    "        }"
   ]
  },
  {
   "cell_type": "code",
   "execution_count": 39,
   "metadata": {
    "collapsed": true
   },
   "outputs": [],
   "source": [
    "from sklearn.model_selection import GridSearchCV\n",
    "from sklearn.pipeline import Pipeline"
   ]
  },
  {
   "cell_type": "code",
   "execution_count": 40,
   "metadata": {
    "collapsed": true
   },
   "outputs": [],
   "source": [
    "# need more samples to have the CV\n",
    "\n",
    "double_samples = np.concatenate((flattened_images, flattened_images), axis=0)\n",
    "double_classes = np.concatenate((classifications, classifications), axis=0)"
   ]
  },
  {
   "cell_type": "code",
   "execution_count": null,
   "metadata": {
    "collapsed": true
   },
   "outputs": [],
   "source": []
  },
  {
   "cell_type": "code",
   "execution_count": 41,
   "metadata": {
    "collapsed": true
   },
   "outputs": [],
   "source": [
    "def random_search():\n",
    "    params = {\n",
    "        'clf__random_state' : [1337]\n",
    "    }\n",
    "\n",
    "    params.update(more_params)\n",
    "\n",
    "    pipeline = Pipeline([\n",
    "        ('clf', svm.NuSVC())\n",
    "    ])\n",
    "\n",
    "    grid_search = GridSearchCV(pipeline, param_grid=params, cv=2, n_jobs=4)\n",
    "\n",
    "    grid_search.fit(double_samples, double_classes )\n",
    "    report(grid_search.cv_results_)"
   ]
  },
  {
   "cell_type": "code",
   "execution_count": 43,
   "metadata": {
    "collapsed": false
   },
   "outputs": [
    {
     "name": "stdout",
     "output_type": "stream",
     "text": [
      "Model with rank: 1\n",
      "Mean validation score: 1.000 (std: 0.000)\n",
      "Parameters: {'clf__decision_function_shape': 'ovo', 'clf__kernel': 'linear', 'clf__nu': 0.8, 'clf__random_state': 1337, 'clf__shrinking': True, 'clf__tol': 0.01}\n",
      "\n",
      "Model with rank: 1\n",
      "Mean validation score: 1.000 (std: 0.000)\n",
      "Parameters: {'clf__decision_function_shape': 'ovo', 'clf__kernel': 'linear', 'clf__nu': 0.8, 'clf__random_state': 1337, 'clf__shrinking': True, 'clf__tol': 0.003}\n",
      "\n",
      "Model with rank: 1\n",
      "Mean validation score: 1.000 (std: 0.000)\n",
      "Parameters: {'clf__decision_function_shape': 'ovo', 'clf__kernel': 'linear', 'clf__nu': 0.8, 'clf__random_state': 1337, 'clf__shrinking': True, 'clf__tol': 0.001}\n",
      "\n",
      "Model with rank: 1\n",
      "Mean validation score: 1.000 (std: 0.000)\n",
      "Parameters: {'clf__decision_function_shape': 'ovo', 'clf__kernel': 'linear', 'clf__nu': 0.8, 'clf__random_state': 1337, 'clf__shrinking': True, 'clf__tol': 0.0003}\n",
      "\n",
      "Model with rank: 1\n",
      "Mean validation score: 1.000 (std: 0.000)\n",
      "Parameters: {'clf__decision_function_shape': 'ovo', 'clf__kernel': 'linear', 'clf__nu': 0.8, 'clf__random_state': 1337, 'clf__shrinking': True, 'clf__tol': 0.0001}\n",
      "\n",
      "Model with rank: 1\n",
      "Mean validation score: 1.000 (std: 0.000)\n",
      "Parameters: {'clf__decision_function_shape': 'ovo', 'clf__kernel': 'linear', 'clf__nu': 0.8, 'clf__random_state': 1337, 'clf__shrinking': False, 'clf__tol': 0.01}\n",
      "\n",
      "Model with rank: 1\n",
      "Mean validation score: 1.000 (std: 0.000)\n",
      "Parameters: {'clf__decision_function_shape': 'ovo', 'clf__kernel': 'linear', 'clf__nu': 0.8, 'clf__random_state': 1337, 'clf__shrinking': False, 'clf__tol': 0.003}\n",
      "\n",
      "Model with rank: 1\n",
      "Mean validation score: 1.000 (std: 0.000)\n",
      "Parameters: {'clf__decision_function_shape': 'ovo', 'clf__kernel': 'linear', 'clf__nu': 0.8, 'clf__random_state': 1337, 'clf__shrinking': False, 'clf__tol': 0.001}\n",
      "\n",
      "Model with rank: 1\n",
      "Mean validation score: 1.000 (std: 0.000)\n",
      "Parameters: {'clf__decision_function_shape': 'ovo', 'clf__kernel': 'linear', 'clf__nu': 0.8, 'clf__random_state': 1337, 'clf__shrinking': False, 'clf__tol': 0.0003}\n",
      "\n",
      "Model with rank: 1\n",
      "Mean validation score: 1.000 (std: 0.000)\n",
      "Parameters: {'clf__decision_function_shape': 'ovo', 'clf__kernel': 'linear', 'clf__nu': 0.8, 'clf__random_state': 1337, 'clf__shrinking': False, 'clf__tol': 0.0001}\n",
      "\n",
      "Model with rank: 1\n",
      "Mean validation score: 1.000 (std: 0.000)\n",
      "Parameters: {'clf__decision_function_shape': 'ovo', 'clf__kernel': 'linear', 'clf__nu': 0.65, 'clf__random_state': 1337, 'clf__shrinking': True, 'clf__tol': 0.01}\n",
      "\n",
      "Model with rank: 1\n",
      "Mean validation score: 1.000 (std: 0.000)\n",
      "Parameters: {'clf__decision_function_shape': 'ovo', 'clf__kernel': 'linear', 'clf__nu': 0.65, 'clf__random_state': 1337, 'clf__shrinking': True, 'clf__tol': 0.003}\n",
      "\n",
      "Model with rank: 1\n",
      "Mean validation score: 1.000 (std: 0.000)\n",
      "Parameters: {'clf__decision_function_shape': 'ovo', 'clf__kernel': 'linear', 'clf__nu': 0.65, 'clf__random_state': 1337, 'clf__shrinking': True, 'clf__tol': 0.001}\n",
      "\n",
      "Model with rank: 1\n",
      "Mean validation score: 1.000 (std: 0.000)\n",
      "Parameters: {'clf__decision_function_shape': 'ovo', 'clf__kernel': 'linear', 'clf__nu': 0.65, 'clf__random_state': 1337, 'clf__shrinking': True, 'clf__tol': 0.0003}\n",
      "\n",
      "Model with rank: 1\n",
      "Mean validation score: 1.000 (std: 0.000)\n",
      "Parameters: {'clf__decision_function_shape': 'ovo', 'clf__kernel': 'linear', 'clf__nu': 0.65, 'clf__random_state': 1337, 'clf__shrinking': True, 'clf__tol': 0.0001}\n",
      "\n",
      "Model with rank: 1\n",
      "Mean validation score: 1.000 (std: 0.000)\n",
      "Parameters: {'clf__decision_function_shape': 'ovo', 'clf__kernel': 'linear', 'clf__nu': 0.65, 'clf__random_state': 1337, 'clf__shrinking': False, 'clf__tol': 0.01}\n",
      "\n",
      "Model with rank: 1\n",
      "Mean validation score: 1.000 (std: 0.000)\n",
      "Parameters: {'clf__decision_function_shape': 'ovo', 'clf__kernel': 'linear', 'clf__nu': 0.65, 'clf__random_state': 1337, 'clf__shrinking': False, 'clf__tol': 0.003}\n",
      "\n",
      "Model with rank: 1\n",
      "Mean validation score: 1.000 (std: 0.000)\n",
      "Parameters: {'clf__decision_function_shape': 'ovo', 'clf__kernel': 'linear', 'clf__nu': 0.65, 'clf__random_state': 1337, 'clf__shrinking': False, 'clf__tol': 0.001}\n",
      "\n",
      "Model with rank: 1\n",
      "Mean validation score: 1.000 (std: 0.000)\n",
      "Parameters: {'clf__decision_function_shape': 'ovo', 'clf__kernel': 'linear', 'clf__nu': 0.65, 'clf__random_state': 1337, 'clf__shrinking': False, 'clf__tol': 0.0003}\n",
      "\n",
      "Model with rank: 1\n",
      "Mean validation score: 1.000 (std: 0.000)\n",
      "Parameters: {'clf__decision_function_shape': 'ovo', 'clf__kernel': 'linear', 'clf__nu': 0.65, 'clf__random_state': 1337, 'clf__shrinking': False, 'clf__tol': 0.0001}\n",
      "\n",
      "Model with rank: 1\n",
      "Mean validation score: 1.000 (std: 0.000)\n",
      "Parameters: {'clf__decision_function_shape': 'ovo', 'clf__kernel': 'linear', 'clf__nu': 0.5, 'clf__random_state': 1337, 'clf__shrinking': True, 'clf__tol': 0.01}\n",
      "\n",
      "Model with rank: 1\n",
      "Mean validation score: 1.000 (std: 0.000)\n",
      "Parameters: {'clf__decision_function_shape': 'ovo', 'clf__kernel': 'linear', 'clf__nu': 0.5, 'clf__random_state': 1337, 'clf__shrinking': True, 'clf__tol': 0.003}\n",
      "\n",
      "Model with rank: 1\n",
      "Mean validation score: 1.000 (std: 0.000)\n",
      "Parameters: {'clf__decision_function_shape': 'ovo', 'clf__kernel': 'linear', 'clf__nu': 0.5, 'clf__random_state': 1337, 'clf__shrinking': True, 'clf__tol': 0.001}\n",
      "\n",
      "Model with rank: 1\n",
      "Mean validation score: 1.000 (std: 0.000)\n",
      "Parameters: {'clf__decision_function_shape': 'ovo', 'clf__kernel': 'linear', 'clf__nu': 0.5, 'clf__random_state': 1337, 'clf__shrinking': True, 'clf__tol': 0.0003}\n",
      "\n",
      "Model with rank: 1\n",
      "Mean validation score: 1.000 (std: 0.000)\n",
      "Parameters: {'clf__decision_function_shape': 'ovo', 'clf__kernel': 'linear', 'clf__nu': 0.5, 'clf__random_state': 1337, 'clf__shrinking': True, 'clf__tol': 0.0001}\n",
      "\n",
      "Model with rank: 1\n",
      "Mean validation score: 1.000 (std: 0.000)\n",
      "Parameters: {'clf__decision_function_shape': 'ovo', 'clf__kernel': 'linear', 'clf__nu': 0.5, 'clf__random_state': 1337, 'clf__shrinking': False, 'clf__tol': 0.01}\n",
      "\n",
      "Model with rank: 1\n",
      "Mean validation score: 1.000 (std: 0.000)\n",
      "Parameters: {'clf__decision_function_shape': 'ovo', 'clf__kernel': 'linear', 'clf__nu': 0.5, 'clf__random_state': 1337, 'clf__shrinking': False, 'clf__tol': 0.003}\n",
      "\n",
      "Model with rank: 1\n",
      "Mean validation score: 1.000 (std: 0.000)\n",
      "Parameters: {'clf__decision_function_shape': 'ovo', 'clf__kernel': 'linear', 'clf__nu': 0.5, 'clf__random_state': 1337, 'clf__shrinking': False, 'clf__tol': 0.001}\n",
      "\n",
      "Model with rank: 1\n",
      "Mean validation score: 1.000 (std: 0.000)\n",
      "Parameters: {'clf__decision_function_shape': 'ovo', 'clf__kernel': 'linear', 'clf__nu': 0.5, 'clf__random_state': 1337, 'clf__shrinking': False, 'clf__tol': 0.0003}\n",
      "\n",
      "Model with rank: 1\n",
      "Mean validation score: 1.000 (std: 0.000)\n",
      "Parameters: {'clf__decision_function_shape': 'ovo', 'clf__kernel': 'linear', 'clf__nu': 0.5, 'clf__random_state': 1337, 'clf__shrinking': False, 'clf__tol': 0.0001}\n",
      "\n",
      "Model with rank: 1\n",
      "Mean validation score: 1.000 (std: 0.000)\n",
      "Parameters: {'clf__decision_function_shape': 'ovo', 'clf__kernel': 'linear', 'clf__nu': 0.35, 'clf__random_state': 1337, 'clf__shrinking': True, 'clf__tol': 0.01}\n",
      "\n",
      "Model with rank: 1\n",
      "Mean validation score: 1.000 (std: 0.000)\n",
      "Parameters: {'clf__decision_function_shape': 'ovo', 'clf__kernel': 'linear', 'clf__nu': 0.35, 'clf__random_state': 1337, 'clf__shrinking': True, 'clf__tol': 0.003}\n",
      "\n",
      "Model with rank: 1\n",
      "Mean validation score: 1.000 (std: 0.000)\n",
      "Parameters: {'clf__decision_function_shape': 'ovo', 'clf__kernel': 'linear', 'clf__nu': 0.35, 'clf__random_state': 1337, 'clf__shrinking': True, 'clf__tol': 0.001}\n",
      "\n",
      "Model with rank: 1\n",
      "Mean validation score: 1.000 (std: 0.000)\n",
      "Parameters: {'clf__decision_function_shape': 'ovo', 'clf__kernel': 'linear', 'clf__nu': 0.35, 'clf__random_state': 1337, 'clf__shrinking': True, 'clf__tol': 0.0003}\n",
      "\n",
      "Model with rank: 1\n",
      "Mean validation score: 1.000 (std: 0.000)\n",
      "Parameters: {'clf__decision_function_shape': 'ovo', 'clf__kernel': 'linear', 'clf__nu': 0.35, 'clf__random_state': 1337, 'clf__shrinking': True, 'clf__tol': 0.0001}\n",
      "\n",
      "Model with rank: 1\n",
      "Mean validation score: 1.000 (std: 0.000)\n",
      "Parameters: {'clf__decision_function_shape': 'ovo', 'clf__kernel': 'linear', 'clf__nu': 0.35, 'clf__random_state': 1337, 'clf__shrinking': False, 'clf__tol': 0.01}\n",
      "\n",
      "Model with rank: 1\n",
      "Mean validation score: 1.000 (std: 0.000)\n",
      "Parameters: {'clf__decision_function_shape': 'ovo', 'clf__kernel': 'linear', 'clf__nu': 0.35, 'clf__random_state': 1337, 'clf__shrinking': False, 'clf__tol': 0.003}\n",
      "\n",
      "Model with rank: 1\n",
      "Mean validation score: 1.000 (std: 0.000)\n",
      "Parameters: {'clf__decision_function_shape': 'ovo', 'clf__kernel': 'linear', 'clf__nu': 0.35, 'clf__random_state': 1337, 'clf__shrinking': False, 'clf__tol': 0.001}\n",
      "\n",
      "Model with rank: 1\n",
      "Mean validation score: 1.000 (std: 0.000)\n",
      "Parameters: {'clf__decision_function_shape': 'ovo', 'clf__kernel': 'linear', 'clf__nu': 0.35, 'clf__random_state': 1337, 'clf__shrinking': False, 'clf__tol': 0.0003}\n",
      "\n",
      "Model with rank: 1\n",
      "Mean validation score: 1.000 (std: 0.000)\n",
      "Parameters: {'clf__decision_function_shape': 'ovo', 'clf__kernel': 'linear', 'clf__nu': 0.35, 'clf__random_state': 1337, 'clf__shrinking': False, 'clf__tol': 0.0001}\n",
      "\n",
      "Model with rank: 1\n",
      "Mean validation score: 1.000 (std: 0.000)\n",
      "Parameters: {'clf__decision_function_shape': 'ovo', 'clf__kernel': 'linear', 'clf__nu': 0.2, 'clf__random_state': 1337, 'clf__shrinking': True, 'clf__tol': 0.01}\n",
      "\n",
      "Model with rank: 1\n",
      "Mean validation score: 1.000 (std: 0.000)\n",
      "Parameters: {'clf__decision_function_shape': 'ovo', 'clf__kernel': 'linear', 'clf__nu': 0.2, 'clf__random_state': 1337, 'clf__shrinking': True, 'clf__tol': 0.003}\n",
      "\n",
      "Model with rank: 1\n",
      "Mean validation score: 1.000 (std: 0.000)\n",
      "Parameters: {'clf__decision_function_shape': 'ovo', 'clf__kernel': 'linear', 'clf__nu': 0.2, 'clf__random_state': 1337, 'clf__shrinking': True, 'clf__tol': 0.001}\n",
      "\n",
      "Model with rank: 1\n",
      "Mean validation score: 1.000 (std: 0.000)\n",
      "Parameters: {'clf__decision_function_shape': 'ovo', 'clf__kernel': 'linear', 'clf__nu': 0.2, 'clf__random_state': 1337, 'clf__shrinking': True, 'clf__tol': 0.0003}\n",
      "\n",
      "Model with rank: 1\n",
      "Mean validation score: 1.000 (std: 0.000)\n",
      "Parameters: {'clf__decision_function_shape': 'ovo', 'clf__kernel': 'linear', 'clf__nu': 0.2, 'clf__random_state': 1337, 'clf__shrinking': True, 'clf__tol': 0.0001}\n",
      "\n",
      "Model with rank: 1\n",
      "Mean validation score: 1.000 (std: 0.000)\n",
      "Parameters: {'clf__decision_function_shape': 'ovo', 'clf__kernel': 'linear', 'clf__nu': 0.2, 'clf__random_state': 1337, 'clf__shrinking': False, 'clf__tol': 0.01}\n",
      "\n",
      "Model with rank: 1\n",
      "Mean validation score: 1.000 (std: 0.000)\n",
      "Parameters: {'clf__decision_function_shape': 'ovo', 'clf__kernel': 'linear', 'clf__nu': 0.2, 'clf__random_state': 1337, 'clf__shrinking': False, 'clf__tol': 0.003}\n",
      "\n",
      "Model with rank: 1\n",
      "Mean validation score: 1.000 (std: 0.000)\n",
      "Parameters: {'clf__decision_function_shape': 'ovo', 'clf__kernel': 'linear', 'clf__nu': 0.2, 'clf__random_state': 1337, 'clf__shrinking': False, 'clf__tol': 0.001}\n",
      "\n",
      "Model with rank: 1\n",
      "Mean validation score: 1.000 (std: 0.000)\n",
      "Parameters: {'clf__decision_function_shape': 'ovo', 'clf__kernel': 'linear', 'clf__nu': 0.2, 'clf__random_state': 1337, 'clf__shrinking': False, 'clf__tol': 0.0003}\n",
      "\n",
      "Model with rank: 1\n",
      "Mean validation score: 1.000 (std: 0.000)\n",
      "Parameters: {'clf__decision_function_shape': 'ovo', 'clf__kernel': 'linear', 'clf__nu': 0.2, 'clf__random_state': 1337, 'clf__shrinking': False, 'clf__tol': 0.0001}\n",
      "\n",
      "Model with rank: 1\n",
      "Mean validation score: 1.000 (std: 0.000)\n",
      "Parameters: {'clf__decision_function_shape': 'ovo', 'clf__kernel': 'poly', 'clf__nu': 0.8, 'clf__random_state': 1337, 'clf__shrinking': True, 'clf__tol': 0.01}\n",
      "\n",
      "Model with rank: 1\n",
      "Mean validation score: 1.000 (std: 0.000)\n",
      "Parameters: {'clf__decision_function_shape': 'ovo', 'clf__kernel': 'poly', 'clf__nu': 0.8, 'clf__random_state': 1337, 'clf__shrinking': True, 'clf__tol': 0.003}\n",
      "\n",
      "Model with rank: 1\n",
      "Mean validation score: 1.000 (std: 0.000)\n",
      "Parameters: {'clf__decision_function_shape': 'ovo', 'clf__kernel': 'poly', 'clf__nu': 0.8, 'clf__random_state': 1337, 'clf__shrinking': True, 'clf__tol': 0.001}\n",
      "\n",
      "Model with rank: 1\n",
      "Mean validation score: 1.000 (std: 0.000)\n",
      "Parameters: {'clf__decision_function_shape': 'ovo', 'clf__kernel': 'poly', 'clf__nu': 0.8, 'clf__random_state': 1337, 'clf__shrinking': True, 'clf__tol': 0.0003}\n",
      "\n",
      "Model with rank: 1\n",
      "Mean validation score: 1.000 (std: 0.000)\n",
      "Parameters: {'clf__decision_function_shape': 'ovo', 'clf__kernel': 'poly', 'clf__nu': 0.8, 'clf__random_state': 1337, 'clf__shrinking': True, 'clf__tol': 0.0001}\n",
      "\n",
      "Model with rank: 1\n",
      "Mean validation score: 1.000 (std: 0.000)\n",
      "Parameters: {'clf__decision_function_shape': 'ovo', 'clf__kernel': 'poly', 'clf__nu': 0.8, 'clf__random_state': 1337, 'clf__shrinking': False, 'clf__tol': 0.01}\n",
      "\n",
      "Model with rank: 1\n",
      "Mean validation score: 1.000 (std: 0.000)\n",
      "Parameters: {'clf__decision_function_shape': 'ovo', 'clf__kernel': 'poly', 'clf__nu': 0.8, 'clf__random_state': 1337, 'clf__shrinking': False, 'clf__tol': 0.003}\n",
      "\n",
      "Model with rank: 1\n",
      "Mean validation score: 1.000 (std: 0.000)\n",
      "Parameters: {'clf__decision_function_shape': 'ovo', 'clf__kernel': 'poly', 'clf__nu': 0.8, 'clf__random_state': 1337, 'clf__shrinking': False, 'clf__tol': 0.001}\n",
      "\n",
      "Model with rank: 1\n",
      "Mean validation score: 1.000 (std: 0.000)\n",
      "Parameters: {'clf__decision_function_shape': 'ovo', 'clf__kernel': 'poly', 'clf__nu': 0.8, 'clf__random_state': 1337, 'clf__shrinking': False, 'clf__tol': 0.0003}\n",
      "\n",
      "Model with rank: 1\n",
      "Mean validation score: 1.000 (std: 0.000)\n",
      "Parameters: {'clf__decision_function_shape': 'ovo', 'clf__kernel': 'poly', 'clf__nu': 0.8, 'clf__random_state': 1337, 'clf__shrinking': False, 'clf__tol': 0.0001}\n",
      "\n",
      "Model with rank: 1\n",
      "Mean validation score: 1.000 (std: 0.000)\n",
      "Parameters: {'clf__decision_function_shape': 'ovo', 'clf__kernel': 'poly', 'clf__nu': 0.65, 'clf__random_state': 1337, 'clf__shrinking': True, 'clf__tol': 0.01}\n",
      "\n",
      "Model with rank: 1\n",
      "Mean validation score: 1.000 (std: 0.000)\n",
      "Parameters: {'clf__decision_function_shape': 'ovo', 'clf__kernel': 'poly', 'clf__nu': 0.65, 'clf__random_state': 1337, 'clf__shrinking': True, 'clf__tol': 0.003}\n",
      "\n",
      "Model with rank: 1\n",
      "Mean validation score: 1.000 (std: 0.000)\n",
      "Parameters: {'clf__decision_function_shape': 'ovo', 'clf__kernel': 'poly', 'clf__nu': 0.65, 'clf__random_state': 1337, 'clf__shrinking': True, 'clf__tol': 0.001}\n",
      "\n",
      "Model with rank: 1\n",
      "Mean validation score: 1.000 (std: 0.000)\n",
      "Parameters: {'clf__decision_function_shape': 'ovo', 'clf__kernel': 'poly', 'clf__nu': 0.65, 'clf__random_state': 1337, 'clf__shrinking': True, 'clf__tol': 0.0003}\n",
      "\n",
      "Model with rank: 1\n",
      "Mean validation score: 1.000 (std: 0.000)\n",
      "Parameters: {'clf__decision_function_shape': 'ovo', 'clf__kernel': 'poly', 'clf__nu': 0.65, 'clf__random_state': 1337, 'clf__shrinking': True, 'clf__tol': 0.0001}\n",
      "\n",
      "Model with rank: 1\n",
      "Mean validation score: 1.000 (std: 0.000)\n",
      "Parameters: {'clf__decision_function_shape': 'ovo', 'clf__kernel': 'poly', 'clf__nu': 0.65, 'clf__random_state': 1337, 'clf__shrinking': False, 'clf__tol': 0.01}\n",
      "\n",
      "Model with rank: 1\n",
      "Mean validation score: 1.000 (std: 0.000)\n",
      "Parameters: {'clf__decision_function_shape': 'ovo', 'clf__kernel': 'poly', 'clf__nu': 0.65, 'clf__random_state': 1337, 'clf__shrinking': False, 'clf__tol': 0.003}\n",
      "\n",
      "Model with rank: 1\n",
      "Mean validation score: 1.000 (std: 0.000)\n",
      "Parameters: {'clf__decision_function_shape': 'ovo', 'clf__kernel': 'poly', 'clf__nu': 0.65, 'clf__random_state': 1337, 'clf__shrinking': False, 'clf__tol': 0.001}\n",
      "\n",
      "Model with rank: 1\n",
      "Mean validation score: 1.000 (std: 0.000)\n",
      "Parameters: {'clf__decision_function_shape': 'ovo', 'clf__kernel': 'poly', 'clf__nu': 0.65, 'clf__random_state': 1337, 'clf__shrinking': False, 'clf__tol': 0.0003}\n",
      "\n",
      "Model with rank: 1\n",
      "Mean validation score: 1.000 (std: 0.000)\n",
      "Parameters: {'clf__decision_function_shape': 'ovo', 'clf__kernel': 'poly', 'clf__nu': 0.65, 'clf__random_state': 1337, 'clf__shrinking': False, 'clf__tol': 0.0001}\n",
      "\n",
      "Model with rank: 1\n",
      "Mean validation score: 1.000 (std: 0.000)\n",
      "Parameters: {'clf__decision_function_shape': 'ovo', 'clf__kernel': 'poly', 'clf__nu': 0.5, 'clf__random_state': 1337, 'clf__shrinking': True, 'clf__tol': 0.01}\n",
      "\n",
      "Model with rank: 1\n",
      "Mean validation score: 1.000 (std: 0.000)\n",
      "Parameters: {'clf__decision_function_shape': 'ovo', 'clf__kernel': 'poly', 'clf__nu': 0.5, 'clf__random_state': 1337, 'clf__shrinking': True, 'clf__tol': 0.003}\n",
      "\n",
      "Model with rank: 1\n",
      "Mean validation score: 1.000 (std: 0.000)\n",
      "Parameters: {'clf__decision_function_shape': 'ovo', 'clf__kernel': 'poly', 'clf__nu': 0.5, 'clf__random_state': 1337, 'clf__shrinking': True, 'clf__tol': 0.001}\n",
      "\n",
      "Model with rank: 1\n",
      "Mean validation score: 1.000 (std: 0.000)\n",
      "Parameters: {'clf__decision_function_shape': 'ovo', 'clf__kernel': 'poly', 'clf__nu': 0.5, 'clf__random_state': 1337, 'clf__shrinking': True, 'clf__tol': 0.0003}\n",
      "\n",
      "Model with rank: 1\n",
      "Mean validation score: 1.000 (std: 0.000)\n",
      "Parameters: {'clf__decision_function_shape': 'ovo', 'clf__kernel': 'poly', 'clf__nu': 0.5, 'clf__random_state': 1337, 'clf__shrinking': True, 'clf__tol': 0.0001}\n",
      "\n",
      "Model with rank: 1\n",
      "Mean validation score: 1.000 (std: 0.000)\n",
      "Parameters: {'clf__decision_function_shape': 'ovo', 'clf__kernel': 'poly', 'clf__nu': 0.5, 'clf__random_state': 1337, 'clf__shrinking': False, 'clf__tol': 0.01}\n",
      "\n",
      "Model with rank: 1\n",
      "Mean validation score: 1.000 (std: 0.000)\n",
      "Parameters: {'clf__decision_function_shape': 'ovo', 'clf__kernel': 'poly', 'clf__nu': 0.5, 'clf__random_state': 1337, 'clf__shrinking': False, 'clf__tol': 0.003}\n",
      "\n",
      "Model with rank: 1\n",
      "Mean validation score: 1.000 (std: 0.000)\n",
      "Parameters: {'clf__decision_function_shape': 'ovo', 'clf__kernel': 'poly', 'clf__nu': 0.5, 'clf__random_state': 1337, 'clf__shrinking': False, 'clf__tol': 0.001}\n",
      "\n",
      "Model with rank: 1\n",
      "Mean validation score: 1.000 (std: 0.000)\n",
      "Parameters: {'clf__decision_function_shape': 'ovo', 'clf__kernel': 'poly', 'clf__nu': 0.5, 'clf__random_state': 1337, 'clf__shrinking': False, 'clf__tol': 0.0003}\n",
      "\n",
      "Model with rank: 1\n",
      "Mean validation score: 1.000 (std: 0.000)\n",
      "Parameters: {'clf__decision_function_shape': 'ovo', 'clf__kernel': 'poly', 'clf__nu': 0.5, 'clf__random_state': 1337, 'clf__shrinking': False, 'clf__tol': 0.0001}\n",
      "\n",
      "Model with rank: 1\n",
      "Mean validation score: 1.000 (std: 0.000)\n",
      "Parameters: {'clf__decision_function_shape': 'ovo', 'clf__kernel': 'poly', 'clf__nu': 0.35, 'clf__random_state': 1337, 'clf__shrinking': True, 'clf__tol': 0.01}\n",
      "\n",
      "Model with rank: 1\n",
      "Mean validation score: 1.000 (std: 0.000)\n",
      "Parameters: {'clf__decision_function_shape': 'ovo', 'clf__kernel': 'poly', 'clf__nu': 0.35, 'clf__random_state': 1337, 'clf__shrinking': True, 'clf__tol': 0.003}\n",
      "\n",
      "Model with rank: 1\n",
      "Mean validation score: 1.000 (std: 0.000)\n",
      "Parameters: {'clf__decision_function_shape': 'ovo', 'clf__kernel': 'poly', 'clf__nu': 0.35, 'clf__random_state': 1337, 'clf__shrinking': True, 'clf__tol': 0.001}\n",
      "\n",
      "Model with rank: 1\n",
      "Mean validation score: 1.000 (std: 0.000)\n",
      "Parameters: {'clf__decision_function_shape': 'ovo', 'clf__kernel': 'poly', 'clf__nu': 0.35, 'clf__random_state': 1337, 'clf__shrinking': True, 'clf__tol': 0.0003}\n",
      "\n",
      "Model with rank: 1\n",
      "Mean validation score: 1.000 (std: 0.000)\n",
      "Parameters: {'clf__decision_function_shape': 'ovo', 'clf__kernel': 'poly', 'clf__nu': 0.35, 'clf__random_state': 1337, 'clf__shrinking': True, 'clf__tol': 0.0001}\n",
      "\n",
      "Model with rank: 1\n",
      "Mean validation score: 1.000 (std: 0.000)\n",
      "Parameters: {'clf__decision_function_shape': 'ovo', 'clf__kernel': 'poly', 'clf__nu': 0.35, 'clf__random_state': 1337, 'clf__shrinking': False, 'clf__tol': 0.01}\n",
      "\n",
      "Model with rank: 1\n",
      "Mean validation score: 1.000 (std: 0.000)\n",
      "Parameters: {'clf__decision_function_shape': 'ovo', 'clf__kernel': 'poly', 'clf__nu': 0.35, 'clf__random_state': 1337, 'clf__shrinking': False, 'clf__tol': 0.003}\n",
      "\n",
      "Model with rank: 1\n",
      "Mean validation score: 1.000 (std: 0.000)\n",
      "Parameters: {'clf__decision_function_shape': 'ovo', 'clf__kernel': 'poly', 'clf__nu': 0.35, 'clf__random_state': 1337, 'clf__shrinking': False, 'clf__tol': 0.001}\n",
      "\n",
      "Model with rank: 1\n",
      "Mean validation score: 1.000 (std: 0.000)\n",
      "Parameters: {'clf__decision_function_shape': 'ovo', 'clf__kernel': 'poly', 'clf__nu': 0.35, 'clf__random_state': 1337, 'clf__shrinking': False, 'clf__tol': 0.0003}\n",
      "\n",
      "Model with rank: 1\n",
      "Mean validation score: 1.000 (std: 0.000)\n",
      "Parameters: {'clf__decision_function_shape': 'ovo', 'clf__kernel': 'poly', 'clf__nu': 0.35, 'clf__random_state': 1337, 'clf__shrinking': False, 'clf__tol': 0.0001}\n",
      "\n",
      "Model with rank: 1\n",
      "Mean validation score: 1.000 (std: 0.000)\n",
      "Parameters: {'clf__decision_function_shape': 'ovo', 'clf__kernel': 'poly', 'clf__nu': 0.2, 'clf__random_state': 1337, 'clf__shrinking': True, 'clf__tol': 0.01}\n",
      "\n",
      "Model with rank: 1\n",
      "Mean validation score: 1.000 (std: 0.000)\n",
      "Parameters: {'clf__decision_function_shape': 'ovo', 'clf__kernel': 'poly', 'clf__nu': 0.2, 'clf__random_state': 1337, 'clf__shrinking': True, 'clf__tol': 0.003}\n",
      "\n",
      "Model with rank: 1\n",
      "Mean validation score: 1.000 (std: 0.000)\n",
      "Parameters: {'clf__decision_function_shape': 'ovo', 'clf__kernel': 'poly', 'clf__nu': 0.2, 'clf__random_state': 1337, 'clf__shrinking': True, 'clf__tol': 0.001}\n",
      "\n",
      "Model with rank: 1\n",
      "Mean validation score: 1.000 (std: 0.000)\n",
      "Parameters: {'clf__decision_function_shape': 'ovo', 'clf__kernel': 'poly', 'clf__nu': 0.2, 'clf__random_state': 1337, 'clf__shrinking': True, 'clf__tol': 0.0003}\n",
      "\n",
      "Model with rank: 1\n",
      "Mean validation score: 1.000 (std: 0.000)\n",
      "Parameters: {'clf__decision_function_shape': 'ovo', 'clf__kernel': 'poly', 'clf__nu': 0.2, 'clf__random_state': 1337, 'clf__shrinking': True, 'clf__tol': 0.0001}\n",
      "\n",
      "Model with rank: 1\n",
      "Mean validation score: 1.000 (std: 0.000)\n",
      "Parameters: {'clf__decision_function_shape': 'ovo', 'clf__kernel': 'poly', 'clf__nu': 0.2, 'clf__random_state': 1337, 'clf__shrinking': False, 'clf__tol': 0.01}\n",
      "\n",
      "Model with rank: 1\n",
      "Mean validation score: 1.000 (std: 0.000)\n",
      "Parameters: {'clf__decision_function_shape': 'ovo', 'clf__kernel': 'poly', 'clf__nu': 0.2, 'clf__random_state': 1337, 'clf__shrinking': False, 'clf__tol': 0.003}\n",
      "\n",
      "Model with rank: 1\n",
      "Mean validation score: 1.000 (std: 0.000)\n",
      "Parameters: {'clf__decision_function_shape': 'ovo', 'clf__kernel': 'poly', 'clf__nu': 0.2, 'clf__random_state': 1337, 'clf__shrinking': False, 'clf__tol': 0.001}\n",
      "\n",
      "Model with rank: 1\n",
      "Mean validation score: 1.000 (std: 0.000)\n",
      "Parameters: {'clf__decision_function_shape': 'ovo', 'clf__kernel': 'poly', 'clf__nu': 0.2, 'clf__random_state': 1337, 'clf__shrinking': False, 'clf__tol': 0.0003}\n",
      "\n",
      "Model with rank: 1\n",
      "Mean validation score: 1.000 (std: 0.000)\n",
      "Parameters: {'clf__decision_function_shape': 'ovo', 'clf__kernel': 'poly', 'clf__nu': 0.2, 'clf__random_state': 1337, 'clf__shrinking': False, 'clf__tol': 0.0001}\n",
      "\n",
      "Model with rank: 1\n",
      "Mean validation score: 1.000 (std: 0.000)\n",
      "Parameters: {'clf__decision_function_shape': 'ovo', 'clf__kernel': 'rbf', 'clf__nu': 0.8, 'clf__random_state': 1337, 'clf__shrinking': True, 'clf__tol': 0.01}\n",
      "\n",
      "Model with rank: 1\n",
      "Mean validation score: 1.000 (std: 0.000)\n",
      "Parameters: {'clf__decision_function_shape': 'ovo', 'clf__kernel': 'rbf', 'clf__nu': 0.8, 'clf__random_state': 1337, 'clf__shrinking': True, 'clf__tol': 0.003}\n",
      "\n",
      "Model with rank: 1\n",
      "Mean validation score: 1.000 (std: 0.000)\n",
      "Parameters: {'clf__decision_function_shape': 'ovo', 'clf__kernel': 'rbf', 'clf__nu': 0.8, 'clf__random_state': 1337, 'clf__shrinking': True, 'clf__tol': 0.001}\n",
      "\n",
      "Model with rank: 1\n",
      "Mean validation score: 1.000 (std: 0.000)\n",
      "Parameters: {'clf__decision_function_shape': 'ovo', 'clf__kernel': 'rbf', 'clf__nu': 0.8, 'clf__random_state': 1337, 'clf__shrinking': True, 'clf__tol': 0.0003}\n",
      "\n",
      "Model with rank: 1\n",
      "Mean validation score: 1.000 (std: 0.000)\n",
      "Parameters: {'clf__decision_function_shape': 'ovo', 'clf__kernel': 'rbf', 'clf__nu': 0.8, 'clf__random_state': 1337, 'clf__shrinking': True, 'clf__tol': 0.0001}\n",
      "\n",
      "Model with rank: 1\n",
      "Mean validation score: 1.000 (std: 0.000)\n",
      "Parameters: {'clf__decision_function_shape': 'ovo', 'clf__kernel': 'rbf', 'clf__nu': 0.8, 'clf__random_state': 1337, 'clf__shrinking': False, 'clf__tol': 0.01}\n",
      "\n",
      "Model with rank: 1\n",
      "Mean validation score: 1.000 (std: 0.000)\n",
      "Parameters: {'clf__decision_function_shape': 'ovo', 'clf__kernel': 'rbf', 'clf__nu': 0.8, 'clf__random_state': 1337, 'clf__shrinking': False, 'clf__tol': 0.003}\n",
      "\n",
      "Model with rank: 1\n",
      "Mean validation score: 1.000 (std: 0.000)\n",
      "Parameters: {'clf__decision_function_shape': 'ovo', 'clf__kernel': 'rbf', 'clf__nu': 0.8, 'clf__random_state': 1337, 'clf__shrinking': False, 'clf__tol': 0.001}\n",
      "\n",
      "Model with rank: 1\n",
      "Mean validation score: 1.000 (std: 0.000)\n",
      "Parameters: {'clf__decision_function_shape': 'ovo', 'clf__kernel': 'rbf', 'clf__nu': 0.8, 'clf__random_state': 1337, 'clf__shrinking': False, 'clf__tol': 0.0003}\n",
      "\n",
      "Model with rank: 1\n",
      "Mean validation score: 1.000 (std: 0.000)\n",
      "Parameters: {'clf__decision_function_shape': 'ovo', 'clf__kernel': 'rbf', 'clf__nu': 0.8, 'clf__random_state': 1337, 'clf__shrinking': False, 'clf__tol': 0.0001}\n",
      "\n",
      "Model with rank: 1\n",
      "Mean validation score: 1.000 (std: 0.000)\n",
      "Parameters: {'clf__decision_function_shape': 'ovo', 'clf__kernel': 'rbf', 'clf__nu': 0.65, 'clf__random_state': 1337, 'clf__shrinking': True, 'clf__tol': 0.01}\n",
      "\n",
      "Model with rank: 1\n",
      "Mean validation score: 1.000 (std: 0.000)\n",
      "Parameters: {'clf__decision_function_shape': 'ovo', 'clf__kernel': 'rbf', 'clf__nu': 0.65, 'clf__random_state': 1337, 'clf__shrinking': True, 'clf__tol': 0.003}\n",
      "\n",
      "Model with rank: 1\n",
      "Mean validation score: 1.000 (std: 0.000)\n",
      "Parameters: {'clf__decision_function_shape': 'ovo', 'clf__kernel': 'rbf', 'clf__nu': 0.65, 'clf__random_state': 1337, 'clf__shrinking': True, 'clf__tol': 0.001}\n",
      "\n",
      "Model with rank: 1\n",
      "Mean validation score: 1.000 (std: 0.000)\n",
      "Parameters: {'clf__decision_function_shape': 'ovo', 'clf__kernel': 'rbf', 'clf__nu': 0.65, 'clf__random_state': 1337, 'clf__shrinking': True, 'clf__tol': 0.0003}\n",
      "\n",
      "Model with rank: 1\n",
      "Mean validation score: 1.000 (std: 0.000)\n",
      "Parameters: {'clf__decision_function_shape': 'ovo', 'clf__kernel': 'rbf', 'clf__nu': 0.65, 'clf__random_state': 1337, 'clf__shrinking': True, 'clf__tol': 0.0001}\n",
      "\n",
      "Model with rank: 1\n",
      "Mean validation score: 1.000 (std: 0.000)\n",
      "Parameters: {'clf__decision_function_shape': 'ovo', 'clf__kernel': 'rbf', 'clf__nu': 0.65, 'clf__random_state': 1337, 'clf__shrinking': False, 'clf__tol': 0.01}\n",
      "\n",
      "Model with rank: 1\n",
      "Mean validation score: 1.000 (std: 0.000)\n",
      "Parameters: {'clf__decision_function_shape': 'ovo', 'clf__kernel': 'rbf', 'clf__nu': 0.65, 'clf__random_state': 1337, 'clf__shrinking': False, 'clf__tol': 0.003}\n",
      "\n",
      "Model with rank: 1\n",
      "Mean validation score: 1.000 (std: 0.000)\n",
      "Parameters: {'clf__decision_function_shape': 'ovo', 'clf__kernel': 'rbf', 'clf__nu': 0.65, 'clf__random_state': 1337, 'clf__shrinking': False, 'clf__tol': 0.001}\n",
      "\n",
      "Model with rank: 1\n",
      "Mean validation score: 1.000 (std: 0.000)\n",
      "Parameters: {'clf__decision_function_shape': 'ovo', 'clf__kernel': 'rbf', 'clf__nu': 0.65, 'clf__random_state': 1337, 'clf__shrinking': False, 'clf__tol': 0.0003}\n",
      "\n",
      "Model with rank: 1\n",
      "Mean validation score: 1.000 (std: 0.000)\n",
      "Parameters: {'clf__decision_function_shape': 'ovo', 'clf__kernel': 'rbf', 'clf__nu': 0.65, 'clf__random_state': 1337, 'clf__shrinking': False, 'clf__tol': 0.0001}\n",
      "\n",
      "Model with rank: 1\n",
      "Mean validation score: 1.000 (std: 0.000)\n",
      "Parameters: {'clf__decision_function_shape': 'ovo', 'clf__kernel': 'rbf', 'clf__nu': 0.5, 'clf__random_state': 1337, 'clf__shrinking': True, 'clf__tol': 0.01}\n",
      "\n",
      "Model with rank: 1\n",
      "Mean validation score: 1.000 (std: 0.000)\n",
      "Parameters: {'clf__decision_function_shape': 'ovo', 'clf__kernel': 'rbf', 'clf__nu': 0.5, 'clf__random_state': 1337, 'clf__shrinking': True, 'clf__tol': 0.003}\n",
      "\n",
      "Model with rank: 1\n",
      "Mean validation score: 1.000 (std: 0.000)\n",
      "Parameters: {'clf__decision_function_shape': 'ovo', 'clf__kernel': 'rbf', 'clf__nu': 0.5, 'clf__random_state': 1337, 'clf__shrinking': True, 'clf__tol': 0.001}\n",
      "\n",
      "Model with rank: 1\n",
      "Mean validation score: 1.000 (std: 0.000)\n",
      "Parameters: {'clf__decision_function_shape': 'ovo', 'clf__kernel': 'rbf', 'clf__nu': 0.5, 'clf__random_state': 1337, 'clf__shrinking': True, 'clf__tol': 0.0003}\n",
      "\n",
      "Model with rank: 1\n",
      "Mean validation score: 1.000 (std: 0.000)\n",
      "Parameters: {'clf__decision_function_shape': 'ovo', 'clf__kernel': 'rbf', 'clf__nu': 0.5, 'clf__random_state': 1337, 'clf__shrinking': True, 'clf__tol': 0.0001}\n",
      "\n",
      "Model with rank: 1\n",
      "Mean validation score: 1.000 (std: 0.000)\n",
      "Parameters: {'clf__decision_function_shape': 'ovo', 'clf__kernel': 'rbf', 'clf__nu': 0.5, 'clf__random_state': 1337, 'clf__shrinking': False, 'clf__tol': 0.01}\n",
      "\n",
      "Model with rank: 1\n",
      "Mean validation score: 1.000 (std: 0.000)\n",
      "Parameters: {'clf__decision_function_shape': 'ovo', 'clf__kernel': 'rbf', 'clf__nu': 0.5, 'clf__random_state': 1337, 'clf__shrinking': False, 'clf__tol': 0.003}\n",
      "\n",
      "Model with rank: 1\n",
      "Mean validation score: 1.000 (std: 0.000)\n",
      "Parameters: {'clf__decision_function_shape': 'ovo', 'clf__kernel': 'rbf', 'clf__nu': 0.5, 'clf__random_state': 1337, 'clf__shrinking': False, 'clf__tol': 0.001}\n",
      "\n",
      "Model with rank: 1\n",
      "Mean validation score: 1.000 (std: 0.000)\n",
      "Parameters: {'clf__decision_function_shape': 'ovo', 'clf__kernel': 'rbf', 'clf__nu': 0.5, 'clf__random_state': 1337, 'clf__shrinking': False, 'clf__tol': 0.0003}\n",
      "\n",
      "Model with rank: 1\n",
      "Mean validation score: 1.000 (std: 0.000)\n",
      "Parameters: {'clf__decision_function_shape': 'ovo', 'clf__kernel': 'rbf', 'clf__nu': 0.5, 'clf__random_state': 1337, 'clf__shrinking': False, 'clf__tol': 0.0001}\n",
      "\n",
      "Model with rank: 1\n",
      "Mean validation score: 1.000 (std: 0.000)\n",
      "Parameters: {'clf__decision_function_shape': 'ovo', 'clf__kernel': 'rbf', 'clf__nu': 0.35, 'clf__random_state': 1337, 'clf__shrinking': True, 'clf__tol': 0.01}\n",
      "\n",
      "Model with rank: 1\n",
      "Mean validation score: 1.000 (std: 0.000)\n",
      "Parameters: {'clf__decision_function_shape': 'ovo', 'clf__kernel': 'rbf', 'clf__nu': 0.35, 'clf__random_state': 1337, 'clf__shrinking': True, 'clf__tol': 0.003}\n",
      "\n",
      "Model with rank: 1\n",
      "Mean validation score: 1.000 (std: 0.000)\n",
      "Parameters: {'clf__decision_function_shape': 'ovo', 'clf__kernel': 'rbf', 'clf__nu': 0.35, 'clf__random_state': 1337, 'clf__shrinking': True, 'clf__tol': 0.001}\n",
      "\n",
      "Model with rank: 1\n",
      "Mean validation score: 1.000 (std: 0.000)\n",
      "Parameters: {'clf__decision_function_shape': 'ovo', 'clf__kernel': 'rbf', 'clf__nu': 0.35, 'clf__random_state': 1337, 'clf__shrinking': True, 'clf__tol': 0.0003}\n",
      "\n",
      "Model with rank: 1\n",
      "Mean validation score: 1.000 (std: 0.000)\n",
      "Parameters: {'clf__decision_function_shape': 'ovo', 'clf__kernel': 'rbf', 'clf__nu': 0.35, 'clf__random_state': 1337, 'clf__shrinking': True, 'clf__tol': 0.0001}\n",
      "\n",
      "Model with rank: 1\n",
      "Mean validation score: 1.000 (std: 0.000)\n",
      "Parameters: {'clf__decision_function_shape': 'ovo', 'clf__kernel': 'rbf', 'clf__nu': 0.35, 'clf__random_state': 1337, 'clf__shrinking': False, 'clf__tol': 0.01}\n",
      "\n",
      "Model with rank: 1\n",
      "Mean validation score: 1.000 (std: 0.000)\n",
      "Parameters: {'clf__decision_function_shape': 'ovo', 'clf__kernel': 'rbf', 'clf__nu': 0.35, 'clf__random_state': 1337, 'clf__shrinking': False, 'clf__tol': 0.003}\n",
      "\n",
      "Model with rank: 1\n",
      "Mean validation score: 1.000 (std: 0.000)\n",
      "Parameters: {'clf__decision_function_shape': 'ovo', 'clf__kernel': 'rbf', 'clf__nu': 0.35, 'clf__random_state': 1337, 'clf__shrinking': False, 'clf__tol': 0.001}\n",
      "\n",
      "Model with rank: 1\n",
      "Mean validation score: 1.000 (std: 0.000)\n",
      "Parameters: {'clf__decision_function_shape': 'ovo', 'clf__kernel': 'rbf', 'clf__nu': 0.35, 'clf__random_state': 1337, 'clf__shrinking': False, 'clf__tol': 0.0003}\n",
      "\n",
      "Model with rank: 1\n",
      "Mean validation score: 1.000 (std: 0.000)\n",
      "Parameters: {'clf__decision_function_shape': 'ovo', 'clf__kernel': 'rbf', 'clf__nu': 0.35, 'clf__random_state': 1337, 'clf__shrinking': False, 'clf__tol': 0.0001}\n",
      "\n",
      "Model with rank: 1\n",
      "Mean validation score: 1.000 (std: 0.000)\n",
      "Parameters: {'clf__decision_function_shape': 'ovo', 'clf__kernel': 'rbf', 'clf__nu': 0.2, 'clf__random_state': 1337, 'clf__shrinking': True, 'clf__tol': 0.01}\n",
      "\n",
      "Model with rank: 1\n",
      "Mean validation score: 1.000 (std: 0.000)\n",
      "Parameters: {'clf__decision_function_shape': 'ovo', 'clf__kernel': 'rbf', 'clf__nu': 0.2, 'clf__random_state': 1337, 'clf__shrinking': True, 'clf__tol': 0.003}\n",
      "\n",
      "Model with rank: 1\n",
      "Mean validation score: 1.000 (std: 0.000)\n",
      "Parameters: {'clf__decision_function_shape': 'ovo', 'clf__kernel': 'rbf', 'clf__nu': 0.2, 'clf__random_state': 1337, 'clf__shrinking': True, 'clf__tol': 0.001}\n",
      "\n",
      "Model with rank: 1\n",
      "Mean validation score: 1.000 (std: 0.000)\n",
      "Parameters: {'clf__decision_function_shape': 'ovo', 'clf__kernel': 'rbf', 'clf__nu': 0.2, 'clf__random_state': 1337, 'clf__shrinking': True, 'clf__tol': 0.0003}\n",
      "\n",
      "Model with rank: 1\n",
      "Mean validation score: 1.000 (std: 0.000)\n",
      "Parameters: {'clf__decision_function_shape': 'ovo', 'clf__kernel': 'rbf', 'clf__nu': 0.2, 'clf__random_state': 1337, 'clf__shrinking': True, 'clf__tol': 0.0001}\n",
      "\n",
      "Model with rank: 1\n",
      "Mean validation score: 1.000 (std: 0.000)\n",
      "Parameters: {'clf__decision_function_shape': 'ovo', 'clf__kernel': 'rbf', 'clf__nu': 0.2, 'clf__random_state': 1337, 'clf__shrinking': False, 'clf__tol': 0.01}\n",
      "\n",
      "Model with rank: 1\n",
      "Mean validation score: 1.000 (std: 0.000)\n",
      "Parameters: {'clf__decision_function_shape': 'ovo', 'clf__kernel': 'rbf', 'clf__nu': 0.2, 'clf__random_state': 1337, 'clf__shrinking': False, 'clf__tol': 0.003}\n",
      "\n",
      "Model with rank: 1\n",
      "Mean validation score: 1.000 (std: 0.000)\n",
      "Parameters: {'clf__decision_function_shape': 'ovo', 'clf__kernel': 'rbf', 'clf__nu': 0.2, 'clf__random_state': 1337, 'clf__shrinking': False, 'clf__tol': 0.001}\n",
      "\n",
      "Model with rank: 1\n",
      "Mean validation score: 1.000 (std: 0.000)\n",
      "Parameters: {'clf__decision_function_shape': 'ovo', 'clf__kernel': 'rbf', 'clf__nu': 0.2, 'clf__random_state': 1337, 'clf__shrinking': False, 'clf__tol': 0.0003}\n",
      "\n",
      "Model with rank: 1\n",
      "Mean validation score: 1.000 (std: 0.000)\n",
      "Parameters: {'clf__decision_function_shape': 'ovo', 'clf__kernel': 'rbf', 'clf__nu': 0.2, 'clf__random_state': 1337, 'clf__shrinking': False, 'clf__tol': 0.0001}\n",
      "\n",
      "Model with rank: 1\n",
      "Mean validation score: 1.000 (std: 0.000)\n",
      "Parameters: {'clf__decision_function_shape': 'ovr', 'clf__kernel': 'linear', 'clf__nu': 0.8, 'clf__random_state': 1337, 'clf__shrinking': True, 'clf__tol': 0.01}\n",
      "\n",
      "Model with rank: 1\n",
      "Mean validation score: 1.000 (std: 0.000)\n",
      "Parameters: {'clf__decision_function_shape': 'ovr', 'clf__kernel': 'linear', 'clf__nu': 0.8, 'clf__random_state': 1337, 'clf__shrinking': True, 'clf__tol': 0.003}\n",
      "\n",
      "Model with rank: 1\n",
      "Mean validation score: 1.000 (std: 0.000)\n",
      "Parameters: {'clf__decision_function_shape': 'ovr', 'clf__kernel': 'linear', 'clf__nu': 0.8, 'clf__random_state': 1337, 'clf__shrinking': True, 'clf__tol': 0.001}\n",
      "\n",
      "Model with rank: 1\n",
      "Mean validation score: 1.000 (std: 0.000)\n",
      "Parameters: {'clf__decision_function_shape': 'ovr', 'clf__kernel': 'linear', 'clf__nu': 0.8, 'clf__random_state': 1337, 'clf__shrinking': True, 'clf__tol': 0.0003}\n",
      "\n",
      "Model with rank: 1\n",
      "Mean validation score: 1.000 (std: 0.000)\n",
      "Parameters: {'clf__decision_function_shape': 'ovr', 'clf__kernel': 'linear', 'clf__nu': 0.8, 'clf__random_state': 1337, 'clf__shrinking': True, 'clf__tol': 0.0001}\n",
      "\n",
      "Model with rank: 1\n",
      "Mean validation score: 1.000 (std: 0.000)\n",
      "Parameters: {'clf__decision_function_shape': 'ovr', 'clf__kernel': 'linear', 'clf__nu': 0.8, 'clf__random_state': 1337, 'clf__shrinking': False, 'clf__tol': 0.01}\n",
      "\n",
      "Model with rank: 1\n",
      "Mean validation score: 1.000 (std: 0.000)\n",
      "Parameters: {'clf__decision_function_shape': 'ovr', 'clf__kernel': 'linear', 'clf__nu': 0.8, 'clf__random_state': 1337, 'clf__shrinking': False, 'clf__tol': 0.003}\n",
      "\n",
      "Model with rank: 1\n",
      "Mean validation score: 1.000 (std: 0.000)\n",
      "Parameters: {'clf__decision_function_shape': 'ovr', 'clf__kernel': 'linear', 'clf__nu': 0.8, 'clf__random_state': 1337, 'clf__shrinking': False, 'clf__tol': 0.001}\n",
      "\n",
      "Model with rank: 1\n",
      "Mean validation score: 1.000 (std: 0.000)\n",
      "Parameters: {'clf__decision_function_shape': 'ovr', 'clf__kernel': 'linear', 'clf__nu': 0.8, 'clf__random_state': 1337, 'clf__shrinking': False, 'clf__tol': 0.0003}\n",
      "\n",
      "Model with rank: 1\n",
      "Mean validation score: 1.000 (std: 0.000)\n",
      "Parameters: {'clf__decision_function_shape': 'ovr', 'clf__kernel': 'linear', 'clf__nu': 0.8, 'clf__random_state': 1337, 'clf__shrinking': False, 'clf__tol': 0.0001}\n",
      "\n",
      "Model with rank: 1\n",
      "Mean validation score: 1.000 (std: 0.000)\n",
      "Parameters: {'clf__decision_function_shape': 'ovr', 'clf__kernel': 'linear', 'clf__nu': 0.65, 'clf__random_state': 1337, 'clf__shrinking': True, 'clf__tol': 0.01}\n",
      "\n",
      "Model with rank: 1\n",
      "Mean validation score: 1.000 (std: 0.000)\n",
      "Parameters: {'clf__decision_function_shape': 'ovr', 'clf__kernel': 'linear', 'clf__nu': 0.65, 'clf__random_state': 1337, 'clf__shrinking': True, 'clf__tol': 0.003}\n",
      "\n",
      "Model with rank: 1\n",
      "Mean validation score: 1.000 (std: 0.000)\n",
      "Parameters: {'clf__decision_function_shape': 'ovr', 'clf__kernel': 'linear', 'clf__nu': 0.65, 'clf__random_state': 1337, 'clf__shrinking': True, 'clf__tol': 0.001}\n",
      "\n",
      "Model with rank: 1\n",
      "Mean validation score: 1.000 (std: 0.000)\n",
      "Parameters: {'clf__decision_function_shape': 'ovr', 'clf__kernel': 'linear', 'clf__nu': 0.65, 'clf__random_state': 1337, 'clf__shrinking': True, 'clf__tol': 0.0003}\n",
      "\n",
      "Model with rank: 1\n",
      "Mean validation score: 1.000 (std: 0.000)\n",
      "Parameters: {'clf__decision_function_shape': 'ovr', 'clf__kernel': 'linear', 'clf__nu': 0.65, 'clf__random_state': 1337, 'clf__shrinking': True, 'clf__tol': 0.0001}\n",
      "\n",
      "Model with rank: 1\n",
      "Mean validation score: 1.000 (std: 0.000)\n",
      "Parameters: {'clf__decision_function_shape': 'ovr', 'clf__kernel': 'linear', 'clf__nu': 0.65, 'clf__random_state': 1337, 'clf__shrinking': False, 'clf__tol': 0.01}\n",
      "\n",
      "Model with rank: 1\n",
      "Mean validation score: 1.000 (std: 0.000)\n",
      "Parameters: {'clf__decision_function_shape': 'ovr', 'clf__kernel': 'linear', 'clf__nu': 0.65, 'clf__random_state': 1337, 'clf__shrinking': False, 'clf__tol': 0.003}\n",
      "\n",
      "Model with rank: 1\n",
      "Mean validation score: 1.000 (std: 0.000)\n",
      "Parameters: {'clf__decision_function_shape': 'ovr', 'clf__kernel': 'linear', 'clf__nu': 0.65, 'clf__random_state': 1337, 'clf__shrinking': False, 'clf__tol': 0.001}\n",
      "\n",
      "Model with rank: 1\n",
      "Mean validation score: 1.000 (std: 0.000)\n",
      "Parameters: {'clf__decision_function_shape': 'ovr', 'clf__kernel': 'linear', 'clf__nu': 0.65, 'clf__random_state': 1337, 'clf__shrinking': False, 'clf__tol': 0.0003}\n",
      "\n",
      "Model with rank: 1\n",
      "Mean validation score: 1.000 (std: 0.000)\n",
      "Parameters: {'clf__decision_function_shape': 'ovr', 'clf__kernel': 'linear', 'clf__nu': 0.65, 'clf__random_state': 1337, 'clf__shrinking': False, 'clf__tol': 0.0001}\n",
      "\n",
      "Model with rank: 1\n",
      "Mean validation score: 1.000 (std: 0.000)\n",
      "Parameters: {'clf__decision_function_shape': 'ovr', 'clf__kernel': 'linear', 'clf__nu': 0.5, 'clf__random_state': 1337, 'clf__shrinking': True, 'clf__tol': 0.01}\n",
      "\n",
      "Model with rank: 1\n",
      "Mean validation score: 1.000 (std: 0.000)\n",
      "Parameters: {'clf__decision_function_shape': 'ovr', 'clf__kernel': 'linear', 'clf__nu': 0.5, 'clf__random_state': 1337, 'clf__shrinking': True, 'clf__tol': 0.003}\n",
      "\n",
      "Model with rank: 1\n",
      "Mean validation score: 1.000 (std: 0.000)\n",
      "Parameters: {'clf__decision_function_shape': 'ovr', 'clf__kernel': 'linear', 'clf__nu': 0.5, 'clf__random_state': 1337, 'clf__shrinking': True, 'clf__tol': 0.001}\n",
      "\n",
      "Model with rank: 1\n",
      "Mean validation score: 1.000 (std: 0.000)\n",
      "Parameters: {'clf__decision_function_shape': 'ovr', 'clf__kernel': 'linear', 'clf__nu': 0.5, 'clf__random_state': 1337, 'clf__shrinking': True, 'clf__tol': 0.0003}\n",
      "\n",
      "Model with rank: 1\n",
      "Mean validation score: 1.000 (std: 0.000)\n",
      "Parameters: {'clf__decision_function_shape': 'ovr', 'clf__kernel': 'linear', 'clf__nu': 0.5, 'clf__random_state': 1337, 'clf__shrinking': True, 'clf__tol': 0.0001}\n",
      "\n",
      "Model with rank: 1\n",
      "Mean validation score: 1.000 (std: 0.000)\n",
      "Parameters: {'clf__decision_function_shape': 'ovr', 'clf__kernel': 'linear', 'clf__nu': 0.5, 'clf__random_state': 1337, 'clf__shrinking': False, 'clf__tol': 0.01}\n",
      "\n",
      "Model with rank: 1\n",
      "Mean validation score: 1.000 (std: 0.000)\n",
      "Parameters: {'clf__decision_function_shape': 'ovr', 'clf__kernel': 'linear', 'clf__nu': 0.5, 'clf__random_state': 1337, 'clf__shrinking': False, 'clf__tol': 0.003}\n",
      "\n",
      "Model with rank: 1\n",
      "Mean validation score: 1.000 (std: 0.000)\n",
      "Parameters: {'clf__decision_function_shape': 'ovr', 'clf__kernel': 'linear', 'clf__nu': 0.5, 'clf__random_state': 1337, 'clf__shrinking': False, 'clf__tol': 0.001}\n",
      "\n",
      "Model with rank: 1\n",
      "Mean validation score: 1.000 (std: 0.000)\n",
      "Parameters: {'clf__decision_function_shape': 'ovr', 'clf__kernel': 'linear', 'clf__nu': 0.5, 'clf__random_state': 1337, 'clf__shrinking': False, 'clf__tol': 0.0003}\n",
      "\n",
      "Model with rank: 1\n",
      "Mean validation score: 1.000 (std: 0.000)\n",
      "Parameters: {'clf__decision_function_shape': 'ovr', 'clf__kernel': 'linear', 'clf__nu': 0.5, 'clf__random_state': 1337, 'clf__shrinking': False, 'clf__tol': 0.0001}\n",
      "\n",
      "Model with rank: 1\n",
      "Mean validation score: 1.000 (std: 0.000)\n",
      "Parameters: {'clf__decision_function_shape': 'ovr', 'clf__kernel': 'linear', 'clf__nu': 0.35, 'clf__random_state': 1337, 'clf__shrinking': True, 'clf__tol': 0.01}\n",
      "\n",
      "Model with rank: 1\n",
      "Mean validation score: 1.000 (std: 0.000)\n",
      "Parameters: {'clf__decision_function_shape': 'ovr', 'clf__kernel': 'linear', 'clf__nu': 0.35, 'clf__random_state': 1337, 'clf__shrinking': True, 'clf__tol': 0.003}\n",
      "\n",
      "Model with rank: 1\n",
      "Mean validation score: 1.000 (std: 0.000)\n",
      "Parameters: {'clf__decision_function_shape': 'ovr', 'clf__kernel': 'linear', 'clf__nu': 0.35, 'clf__random_state': 1337, 'clf__shrinking': True, 'clf__tol': 0.001}\n",
      "\n",
      "Model with rank: 1\n",
      "Mean validation score: 1.000 (std: 0.000)\n",
      "Parameters: {'clf__decision_function_shape': 'ovr', 'clf__kernel': 'linear', 'clf__nu': 0.35, 'clf__random_state': 1337, 'clf__shrinking': True, 'clf__tol': 0.0003}\n",
      "\n",
      "Model with rank: 1\n",
      "Mean validation score: 1.000 (std: 0.000)\n",
      "Parameters: {'clf__decision_function_shape': 'ovr', 'clf__kernel': 'linear', 'clf__nu': 0.35, 'clf__random_state': 1337, 'clf__shrinking': True, 'clf__tol': 0.0001}\n",
      "\n",
      "Model with rank: 1\n",
      "Mean validation score: 1.000 (std: 0.000)\n",
      "Parameters: {'clf__decision_function_shape': 'ovr', 'clf__kernel': 'linear', 'clf__nu': 0.35, 'clf__random_state': 1337, 'clf__shrinking': False, 'clf__tol': 0.01}\n",
      "\n",
      "Model with rank: 1\n",
      "Mean validation score: 1.000 (std: 0.000)\n",
      "Parameters: {'clf__decision_function_shape': 'ovr', 'clf__kernel': 'linear', 'clf__nu': 0.35, 'clf__random_state': 1337, 'clf__shrinking': False, 'clf__tol': 0.003}\n",
      "\n",
      "Model with rank: 1\n",
      "Mean validation score: 1.000 (std: 0.000)\n",
      "Parameters: {'clf__decision_function_shape': 'ovr', 'clf__kernel': 'linear', 'clf__nu': 0.35, 'clf__random_state': 1337, 'clf__shrinking': False, 'clf__tol': 0.001}\n",
      "\n",
      "Model with rank: 1\n",
      "Mean validation score: 1.000 (std: 0.000)\n",
      "Parameters: {'clf__decision_function_shape': 'ovr', 'clf__kernel': 'linear', 'clf__nu': 0.35, 'clf__random_state': 1337, 'clf__shrinking': False, 'clf__tol': 0.0003}\n",
      "\n",
      "Model with rank: 1\n",
      "Mean validation score: 1.000 (std: 0.000)\n",
      "Parameters: {'clf__decision_function_shape': 'ovr', 'clf__kernel': 'linear', 'clf__nu': 0.35, 'clf__random_state': 1337, 'clf__shrinking': False, 'clf__tol': 0.0001}\n",
      "\n",
      "Model with rank: 1\n",
      "Mean validation score: 1.000 (std: 0.000)\n",
      "Parameters: {'clf__decision_function_shape': 'ovr', 'clf__kernel': 'linear', 'clf__nu': 0.2, 'clf__random_state': 1337, 'clf__shrinking': True, 'clf__tol': 0.01}\n",
      "\n",
      "Model with rank: 1\n",
      "Mean validation score: 1.000 (std: 0.000)\n",
      "Parameters: {'clf__decision_function_shape': 'ovr', 'clf__kernel': 'linear', 'clf__nu': 0.2, 'clf__random_state': 1337, 'clf__shrinking': True, 'clf__tol': 0.003}\n",
      "\n",
      "Model with rank: 1\n",
      "Mean validation score: 1.000 (std: 0.000)\n",
      "Parameters: {'clf__decision_function_shape': 'ovr', 'clf__kernel': 'linear', 'clf__nu': 0.2, 'clf__random_state': 1337, 'clf__shrinking': True, 'clf__tol': 0.001}\n",
      "\n",
      "Model with rank: 1\n",
      "Mean validation score: 1.000 (std: 0.000)\n",
      "Parameters: {'clf__decision_function_shape': 'ovr', 'clf__kernel': 'linear', 'clf__nu': 0.2, 'clf__random_state': 1337, 'clf__shrinking': True, 'clf__tol': 0.0003}\n",
      "\n",
      "Model with rank: 1\n",
      "Mean validation score: 1.000 (std: 0.000)\n",
      "Parameters: {'clf__decision_function_shape': 'ovr', 'clf__kernel': 'linear', 'clf__nu': 0.2, 'clf__random_state': 1337, 'clf__shrinking': True, 'clf__tol': 0.0001}\n",
      "\n",
      "Model with rank: 1\n",
      "Mean validation score: 1.000 (std: 0.000)\n",
      "Parameters: {'clf__decision_function_shape': 'ovr', 'clf__kernel': 'linear', 'clf__nu': 0.2, 'clf__random_state': 1337, 'clf__shrinking': False, 'clf__tol': 0.01}\n",
      "\n",
      "Model with rank: 1\n",
      "Mean validation score: 1.000 (std: 0.000)\n",
      "Parameters: {'clf__decision_function_shape': 'ovr', 'clf__kernel': 'linear', 'clf__nu': 0.2, 'clf__random_state': 1337, 'clf__shrinking': False, 'clf__tol': 0.003}\n",
      "\n",
      "Model with rank: 1\n",
      "Mean validation score: 1.000 (std: 0.000)\n",
      "Parameters: {'clf__decision_function_shape': 'ovr', 'clf__kernel': 'linear', 'clf__nu': 0.2, 'clf__random_state': 1337, 'clf__shrinking': False, 'clf__tol': 0.001}\n",
      "\n",
      "Model with rank: 1\n",
      "Mean validation score: 1.000 (std: 0.000)\n",
      "Parameters: {'clf__decision_function_shape': 'ovr', 'clf__kernel': 'linear', 'clf__nu': 0.2, 'clf__random_state': 1337, 'clf__shrinking': False, 'clf__tol': 0.0003}\n",
      "\n",
      "Model with rank: 1\n",
      "Mean validation score: 1.000 (std: 0.000)\n",
      "Parameters: {'clf__decision_function_shape': 'ovr', 'clf__kernel': 'linear', 'clf__nu': 0.2, 'clf__random_state': 1337, 'clf__shrinking': False, 'clf__tol': 0.0001}\n",
      "\n",
      "Model with rank: 1\n",
      "Mean validation score: 1.000 (std: 0.000)\n",
      "Parameters: {'clf__decision_function_shape': 'ovr', 'clf__kernel': 'poly', 'clf__nu': 0.8, 'clf__random_state': 1337, 'clf__shrinking': True, 'clf__tol': 0.01}\n",
      "\n",
      "Model with rank: 1\n",
      "Mean validation score: 1.000 (std: 0.000)\n",
      "Parameters: {'clf__decision_function_shape': 'ovr', 'clf__kernel': 'poly', 'clf__nu': 0.8, 'clf__random_state': 1337, 'clf__shrinking': True, 'clf__tol': 0.003}\n",
      "\n",
      "Model with rank: 1\n",
      "Mean validation score: 1.000 (std: 0.000)\n",
      "Parameters: {'clf__decision_function_shape': 'ovr', 'clf__kernel': 'poly', 'clf__nu': 0.8, 'clf__random_state': 1337, 'clf__shrinking': True, 'clf__tol': 0.001}\n",
      "\n",
      "Model with rank: 1\n",
      "Mean validation score: 1.000 (std: 0.000)\n",
      "Parameters: {'clf__decision_function_shape': 'ovr', 'clf__kernel': 'poly', 'clf__nu': 0.8, 'clf__random_state': 1337, 'clf__shrinking': True, 'clf__tol': 0.0003}\n",
      "\n",
      "Model with rank: 1\n",
      "Mean validation score: 1.000 (std: 0.000)\n",
      "Parameters: {'clf__decision_function_shape': 'ovr', 'clf__kernel': 'poly', 'clf__nu': 0.8, 'clf__random_state': 1337, 'clf__shrinking': True, 'clf__tol': 0.0001}\n",
      "\n",
      "Model with rank: 1\n",
      "Mean validation score: 1.000 (std: 0.000)\n",
      "Parameters: {'clf__decision_function_shape': 'ovr', 'clf__kernel': 'poly', 'clf__nu': 0.8, 'clf__random_state': 1337, 'clf__shrinking': False, 'clf__tol': 0.01}\n",
      "\n",
      "Model with rank: 1\n",
      "Mean validation score: 1.000 (std: 0.000)\n",
      "Parameters: {'clf__decision_function_shape': 'ovr', 'clf__kernel': 'poly', 'clf__nu': 0.8, 'clf__random_state': 1337, 'clf__shrinking': False, 'clf__tol': 0.003}\n",
      "\n",
      "Model with rank: 1\n",
      "Mean validation score: 1.000 (std: 0.000)\n",
      "Parameters: {'clf__decision_function_shape': 'ovr', 'clf__kernel': 'poly', 'clf__nu': 0.8, 'clf__random_state': 1337, 'clf__shrinking': False, 'clf__tol': 0.001}\n",
      "\n",
      "Model with rank: 1\n",
      "Mean validation score: 1.000 (std: 0.000)\n",
      "Parameters: {'clf__decision_function_shape': 'ovr', 'clf__kernel': 'poly', 'clf__nu': 0.8, 'clf__random_state': 1337, 'clf__shrinking': False, 'clf__tol': 0.0003}\n",
      "\n",
      "Model with rank: 1\n",
      "Mean validation score: 1.000 (std: 0.000)\n",
      "Parameters: {'clf__decision_function_shape': 'ovr', 'clf__kernel': 'poly', 'clf__nu': 0.8, 'clf__random_state': 1337, 'clf__shrinking': False, 'clf__tol': 0.0001}\n",
      "\n",
      "Model with rank: 1\n",
      "Mean validation score: 1.000 (std: 0.000)\n",
      "Parameters: {'clf__decision_function_shape': 'ovr', 'clf__kernel': 'poly', 'clf__nu': 0.65, 'clf__random_state': 1337, 'clf__shrinking': True, 'clf__tol': 0.01}\n",
      "\n",
      "Model with rank: 1\n",
      "Mean validation score: 1.000 (std: 0.000)\n",
      "Parameters: {'clf__decision_function_shape': 'ovr', 'clf__kernel': 'poly', 'clf__nu': 0.65, 'clf__random_state': 1337, 'clf__shrinking': True, 'clf__tol': 0.003}\n",
      "\n",
      "Model with rank: 1\n",
      "Mean validation score: 1.000 (std: 0.000)\n",
      "Parameters: {'clf__decision_function_shape': 'ovr', 'clf__kernel': 'poly', 'clf__nu': 0.65, 'clf__random_state': 1337, 'clf__shrinking': True, 'clf__tol': 0.001}\n",
      "\n",
      "Model with rank: 1\n",
      "Mean validation score: 1.000 (std: 0.000)\n",
      "Parameters: {'clf__decision_function_shape': 'ovr', 'clf__kernel': 'poly', 'clf__nu': 0.65, 'clf__random_state': 1337, 'clf__shrinking': True, 'clf__tol': 0.0003}\n",
      "\n",
      "Model with rank: 1\n",
      "Mean validation score: 1.000 (std: 0.000)\n",
      "Parameters: {'clf__decision_function_shape': 'ovr', 'clf__kernel': 'poly', 'clf__nu': 0.65, 'clf__random_state': 1337, 'clf__shrinking': True, 'clf__tol': 0.0001}\n",
      "\n",
      "Model with rank: 1\n",
      "Mean validation score: 1.000 (std: 0.000)\n",
      "Parameters: {'clf__decision_function_shape': 'ovr', 'clf__kernel': 'poly', 'clf__nu': 0.65, 'clf__random_state': 1337, 'clf__shrinking': False, 'clf__tol': 0.01}\n",
      "\n",
      "Model with rank: 1\n",
      "Mean validation score: 1.000 (std: 0.000)\n",
      "Parameters: {'clf__decision_function_shape': 'ovr', 'clf__kernel': 'poly', 'clf__nu': 0.65, 'clf__random_state': 1337, 'clf__shrinking': False, 'clf__tol': 0.003}\n",
      "\n",
      "Model with rank: 1\n",
      "Mean validation score: 1.000 (std: 0.000)\n",
      "Parameters: {'clf__decision_function_shape': 'ovr', 'clf__kernel': 'poly', 'clf__nu': 0.65, 'clf__random_state': 1337, 'clf__shrinking': False, 'clf__tol': 0.001}\n",
      "\n",
      "Model with rank: 1\n",
      "Mean validation score: 1.000 (std: 0.000)\n",
      "Parameters: {'clf__decision_function_shape': 'ovr', 'clf__kernel': 'poly', 'clf__nu': 0.65, 'clf__random_state': 1337, 'clf__shrinking': False, 'clf__tol': 0.0003}\n",
      "\n",
      "Model with rank: 1\n",
      "Mean validation score: 1.000 (std: 0.000)\n",
      "Parameters: {'clf__decision_function_shape': 'ovr', 'clf__kernel': 'poly', 'clf__nu': 0.65, 'clf__random_state': 1337, 'clf__shrinking': False, 'clf__tol': 0.0001}\n",
      "\n",
      "Model with rank: 1\n",
      "Mean validation score: 1.000 (std: 0.000)\n",
      "Parameters: {'clf__decision_function_shape': 'ovr', 'clf__kernel': 'poly', 'clf__nu': 0.5, 'clf__random_state': 1337, 'clf__shrinking': True, 'clf__tol': 0.01}\n",
      "\n",
      "Model with rank: 1\n",
      "Mean validation score: 1.000 (std: 0.000)\n",
      "Parameters: {'clf__decision_function_shape': 'ovr', 'clf__kernel': 'poly', 'clf__nu': 0.5, 'clf__random_state': 1337, 'clf__shrinking': True, 'clf__tol': 0.003}\n",
      "\n",
      "Model with rank: 1\n",
      "Mean validation score: 1.000 (std: 0.000)\n",
      "Parameters: {'clf__decision_function_shape': 'ovr', 'clf__kernel': 'poly', 'clf__nu': 0.5, 'clf__random_state': 1337, 'clf__shrinking': True, 'clf__tol': 0.001}\n",
      "\n",
      "Model with rank: 1\n",
      "Mean validation score: 1.000 (std: 0.000)\n",
      "Parameters: {'clf__decision_function_shape': 'ovr', 'clf__kernel': 'poly', 'clf__nu': 0.5, 'clf__random_state': 1337, 'clf__shrinking': True, 'clf__tol': 0.0003}\n",
      "\n",
      "Model with rank: 1\n",
      "Mean validation score: 1.000 (std: 0.000)\n",
      "Parameters: {'clf__decision_function_shape': 'ovr', 'clf__kernel': 'poly', 'clf__nu': 0.5, 'clf__random_state': 1337, 'clf__shrinking': True, 'clf__tol': 0.0001}\n",
      "\n",
      "Model with rank: 1\n",
      "Mean validation score: 1.000 (std: 0.000)\n",
      "Parameters: {'clf__decision_function_shape': 'ovr', 'clf__kernel': 'poly', 'clf__nu': 0.5, 'clf__random_state': 1337, 'clf__shrinking': False, 'clf__tol': 0.01}\n",
      "\n",
      "Model with rank: 1\n",
      "Mean validation score: 1.000 (std: 0.000)\n",
      "Parameters: {'clf__decision_function_shape': 'ovr', 'clf__kernel': 'poly', 'clf__nu': 0.5, 'clf__random_state': 1337, 'clf__shrinking': False, 'clf__tol': 0.003}\n",
      "\n",
      "Model with rank: 1\n",
      "Mean validation score: 1.000 (std: 0.000)\n",
      "Parameters: {'clf__decision_function_shape': 'ovr', 'clf__kernel': 'poly', 'clf__nu': 0.5, 'clf__random_state': 1337, 'clf__shrinking': False, 'clf__tol': 0.001}\n",
      "\n",
      "Model with rank: 1\n",
      "Mean validation score: 1.000 (std: 0.000)\n",
      "Parameters: {'clf__decision_function_shape': 'ovr', 'clf__kernel': 'poly', 'clf__nu': 0.5, 'clf__random_state': 1337, 'clf__shrinking': False, 'clf__tol': 0.0003}\n",
      "\n",
      "Model with rank: 1\n",
      "Mean validation score: 1.000 (std: 0.000)\n",
      "Parameters: {'clf__decision_function_shape': 'ovr', 'clf__kernel': 'poly', 'clf__nu': 0.5, 'clf__random_state': 1337, 'clf__shrinking': False, 'clf__tol': 0.0001}\n",
      "\n",
      "Model with rank: 1\n",
      "Mean validation score: 1.000 (std: 0.000)\n",
      "Parameters: {'clf__decision_function_shape': 'ovr', 'clf__kernel': 'poly', 'clf__nu': 0.35, 'clf__random_state': 1337, 'clf__shrinking': True, 'clf__tol': 0.01}\n",
      "\n",
      "Model with rank: 1\n",
      "Mean validation score: 1.000 (std: 0.000)\n",
      "Parameters: {'clf__decision_function_shape': 'ovr', 'clf__kernel': 'poly', 'clf__nu': 0.35, 'clf__random_state': 1337, 'clf__shrinking': True, 'clf__tol': 0.003}\n",
      "\n",
      "Model with rank: 1\n",
      "Mean validation score: 1.000 (std: 0.000)\n",
      "Parameters: {'clf__decision_function_shape': 'ovr', 'clf__kernel': 'poly', 'clf__nu': 0.35, 'clf__random_state': 1337, 'clf__shrinking': True, 'clf__tol': 0.001}\n",
      "\n",
      "Model with rank: 1\n",
      "Mean validation score: 1.000 (std: 0.000)\n",
      "Parameters: {'clf__decision_function_shape': 'ovr', 'clf__kernel': 'poly', 'clf__nu': 0.35, 'clf__random_state': 1337, 'clf__shrinking': True, 'clf__tol': 0.0003}\n",
      "\n",
      "Model with rank: 1\n",
      "Mean validation score: 1.000 (std: 0.000)\n",
      "Parameters: {'clf__decision_function_shape': 'ovr', 'clf__kernel': 'poly', 'clf__nu': 0.35, 'clf__random_state': 1337, 'clf__shrinking': True, 'clf__tol': 0.0001}\n",
      "\n",
      "Model with rank: 1\n",
      "Mean validation score: 1.000 (std: 0.000)\n",
      "Parameters: {'clf__decision_function_shape': 'ovr', 'clf__kernel': 'poly', 'clf__nu': 0.35, 'clf__random_state': 1337, 'clf__shrinking': False, 'clf__tol': 0.01}\n",
      "\n",
      "Model with rank: 1\n",
      "Mean validation score: 1.000 (std: 0.000)\n",
      "Parameters: {'clf__decision_function_shape': 'ovr', 'clf__kernel': 'poly', 'clf__nu': 0.35, 'clf__random_state': 1337, 'clf__shrinking': False, 'clf__tol': 0.003}\n",
      "\n",
      "Model with rank: 1\n",
      "Mean validation score: 1.000 (std: 0.000)\n",
      "Parameters: {'clf__decision_function_shape': 'ovr', 'clf__kernel': 'poly', 'clf__nu': 0.35, 'clf__random_state': 1337, 'clf__shrinking': False, 'clf__tol': 0.001}\n",
      "\n",
      "Model with rank: 1\n",
      "Mean validation score: 1.000 (std: 0.000)\n",
      "Parameters: {'clf__decision_function_shape': 'ovr', 'clf__kernel': 'poly', 'clf__nu': 0.35, 'clf__random_state': 1337, 'clf__shrinking': False, 'clf__tol': 0.0003}\n",
      "\n",
      "Model with rank: 1\n",
      "Mean validation score: 1.000 (std: 0.000)\n",
      "Parameters: {'clf__decision_function_shape': 'ovr', 'clf__kernel': 'poly', 'clf__nu': 0.35, 'clf__random_state': 1337, 'clf__shrinking': False, 'clf__tol': 0.0001}\n",
      "\n",
      "Model with rank: 1\n",
      "Mean validation score: 1.000 (std: 0.000)\n",
      "Parameters: {'clf__decision_function_shape': 'ovr', 'clf__kernel': 'poly', 'clf__nu': 0.2, 'clf__random_state': 1337, 'clf__shrinking': True, 'clf__tol': 0.01}\n",
      "\n",
      "Model with rank: 1\n",
      "Mean validation score: 1.000 (std: 0.000)\n",
      "Parameters: {'clf__decision_function_shape': 'ovr', 'clf__kernel': 'poly', 'clf__nu': 0.2, 'clf__random_state': 1337, 'clf__shrinking': True, 'clf__tol': 0.003}\n",
      "\n",
      "Model with rank: 1\n",
      "Mean validation score: 1.000 (std: 0.000)\n",
      "Parameters: {'clf__decision_function_shape': 'ovr', 'clf__kernel': 'poly', 'clf__nu': 0.2, 'clf__random_state': 1337, 'clf__shrinking': True, 'clf__tol': 0.001}\n",
      "\n",
      "Model with rank: 1\n",
      "Mean validation score: 1.000 (std: 0.000)\n",
      "Parameters: {'clf__decision_function_shape': 'ovr', 'clf__kernel': 'poly', 'clf__nu': 0.2, 'clf__random_state': 1337, 'clf__shrinking': True, 'clf__tol': 0.0003}\n",
      "\n",
      "Model with rank: 1\n",
      "Mean validation score: 1.000 (std: 0.000)\n",
      "Parameters: {'clf__decision_function_shape': 'ovr', 'clf__kernel': 'poly', 'clf__nu': 0.2, 'clf__random_state': 1337, 'clf__shrinking': True, 'clf__tol': 0.0001}\n",
      "\n",
      "Model with rank: 1\n",
      "Mean validation score: 1.000 (std: 0.000)\n",
      "Parameters: {'clf__decision_function_shape': 'ovr', 'clf__kernel': 'poly', 'clf__nu': 0.2, 'clf__random_state': 1337, 'clf__shrinking': False, 'clf__tol': 0.01}\n",
      "\n",
      "Model with rank: 1\n",
      "Mean validation score: 1.000 (std: 0.000)\n",
      "Parameters: {'clf__decision_function_shape': 'ovr', 'clf__kernel': 'poly', 'clf__nu': 0.2, 'clf__random_state': 1337, 'clf__shrinking': False, 'clf__tol': 0.003}\n",
      "\n",
      "Model with rank: 1\n",
      "Mean validation score: 1.000 (std: 0.000)\n",
      "Parameters: {'clf__decision_function_shape': 'ovr', 'clf__kernel': 'poly', 'clf__nu': 0.2, 'clf__random_state': 1337, 'clf__shrinking': False, 'clf__tol': 0.001}\n",
      "\n",
      "Model with rank: 1\n",
      "Mean validation score: 1.000 (std: 0.000)\n",
      "Parameters: {'clf__decision_function_shape': 'ovr', 'clf__kernel': 'poly', 'clf__nu': 0.2, 'clf__random_state': 1337, 'clf__shrinking': False, 'clf__tol': 0.0003}\n",
      "\n",
      "Model with rank: 1\n",
      "Mean validation score: 1.000 (std: 0.000)\n",
      "Parameters: {'clf__decision_function_shape': 'ovr', 'clf__kernel': 'poly', 'clf__nu': 0.2, 'clf__random_state': 1337, 'clf__shrinking': False, 'clf__tol': 0.0001}\n",
      "\n",
      "Model with rank: 1\n",
      "Mean validation score: 1.000 (std: 0.000)\n",
      "Parameters: {'clf__decision_function_shape': 'ovr', 'clf__kernel': 'rbf', 'clf__nu': 0.8, 'clf__random_state': 1337, 'clf__shrinking': True, 'clf__tol': 0.01}\n",
      "\n",
      "Model with rank: 1\n",
      "Mean validation score: 1.000 (std: 0.000)\n",
      "Parameters: {'clf__decision_function_shape': 'ovr', 'clf__kernel': 'rbf', 'clf__nu': 0.8, 'clf__random_state': 1337, 'clf__shrinking': True, 'clf__tol': 0.003}\n",
      "\n",
      "Model with rank: 1\n",
      "Mean validation score: 1.000 (std: 0.000)\n",
      "Parameters: {'clf__decision_function_shape': 'ovr', 'clf__kernel': 'rbf', 'clf__nu': 0.8, 'clf__random_state': 1337, 'clf__shrinking': True, 'clf__tol': 0.001}\n",
      "\n",
      "Model with rank: 1\n",
      "Mean validation score: 1.000 (std: 0.000)\n",
      "Parameters: {'clf__decision_function_shape': 'ovr', 'clf__kernel': 'rbf', 'clf__nu': 0.8, 'clf__random_state': 1337, 'clf__shrinking': True, 'clf__tol': 0.0003}\n",
      "\n",
      "Model with rank: 1\n",
      "Mean validation score: 1.000 (std: 0.000)\n",
      "Parameters: {'clf__decision_function_shape': 'ovr', 'clf__kernel': 'rbf', 'clf__nu': 0.8, 'clf__random_state': 1337, 'clf__shrinking': True, 'clf__tol': 0.0001}\n",
      "\n",
      "Model with rank: 1\n",
      "Mean validation score: 1.000 (std: 0.000)\n",
      "Parameters: {'clf__decision_function_shape': 'ovr', 'clf__kernel': 'rbf', 'clf__nu': 0.8, 'clf__random_state': 1337, 'clf__shrinking': False, 'clf__tol': 0.01}\n",
      "\n",
      "Model with rank: 1\n",
      "Mean validation score: 1.000 (std: 0.000)\n",
      "Parameters: {'clf__decision_function_shape': 'ovr', 'clf__kernel': 'rbf', 'clf__nu': 0.8, 'clf__random_state': 1337, 'clf__shrinking': False, 'clf__tol': 0.003}\n",
      "\n",
      "Model with rank: 1\n",
      "Mean validation score: 1.000 (std: 0.000)\n",
      "Parameters: {'clf__decision_function_shape': 'ovr', 'clf__kernel': 'rbf', 'clf__nu': 0.8, 'clf__random_state': 1337, 'clf__shrinking': False, 'clf__tol': 0.001}\n",
      "\n",
      "Model with rank: 1\n",
      "Mean validation score: 1.000 (std: 0.000)\n",
      "Parameters: {'clf__decision_function_shape': 'ovr', 'clf__kernel': 'rbf', 'clf__nu': 0.8, 'clf__random_state': 1337, 'clf__shrinking': False, 'clf__tol': 0.0003}\n",
      "\n",
      "Model with rank: 1\n",
      "Mean validation score: 1.000 (std: 0.000)\n",
      "Parameters: {'clf__decision_function_shape': 'ovr', 'clf__kernel': 'rbf', 'clf__nu': 0.8, 'clf__random_state': 1337, 'clf__shrinking': False, 'clf__tol': 0.0001}\n",
      "\n",
      "Model with rank: 1\n",
      "Mean validation score: 1.000 (std: 0.000)\n",
      "Parameters: {'clf__decision_function_shape': 'ovr', 'clf__kernel': 'rbf', 'clf__nu': 0.65, 'clf__random_state': 1337, 'clf__shrinking': True, 'clf__tol': 0.01}\n",
      "\n",
      "Model with rank: 1\n",
      "Mean validation score: 1.000 (std: 0.000)\n",
      "Parameters: {'clf__decision_function_shape': 'ovr', 'clf__kernel': 'rbf', 'clf__nu': 0.65, 'clf__random_state': 1337, 'clf__shrinking': True, 'clf__tol': 0.003}\n",
      "\n",
      "Model with rank: 1\n",
      "Mean validation score: 1.000 (std: 0.000)\n",
      "Parameters: {'clf__decision_function_shape': 'ovr', 'clf__kernel': 'rbf', 'clf__nu': 0.65, 'clf__random_state': 1337, 'clf__shrinking': True, 'clf__tol': 0.001}\n",
      "\n",
      "Model with rank: 1\n",
      "Mean validation score: 1.000 (std: 0.000)\n",
      "Parameters: {'clf__decision_function_shape': 'ovr', 'clf__kernel': 'rbf', 'clf__nu': 0.65, 'clf__random_state': 1337, 'clf__shrinking': True, 'clf__tol': 0.0003}\n",
      "\n",
      "Model with rank: 1\n",
      "Mean validation score: 1.000 (std: 0.000)\n",
      "Parameters: {'clf__decision_function_shape': 'ovr', 'clf__kernel': 'rbf', 'clf__nu': 0.65, 'clf__random_state': 1337, 'clf__shrinking': True, 'clf__tol': 0.0001}\n",
      "\n",
      "Model with rank: 1\n",
      "Mean validation score: 1.000 (std: 0.000)\n",
      "Parameters: {'clf__decision_function_shape': 'ovr', 'clf__kernel': 'rbf', 'clf__nu': 0.65, 'clf__random_state': 1337, 'clf__shrinking': False, 'clf__tol': 0.01}\n",
      "\n",
      "Model with rank: 1\n",
      "Mean validation score: 1.000 (std: 0.000)\n",
      "Parameters: {'clf__decision_function_shape': 'ovr', 'clf__kernel': 'rbf', 'clf__nu': 0.65, 'clf__random_state': 1337, 'clf__shrinking': False, 'clf__tol': 0.003}\n",
      "\n",
      "Model with rank: 1\n",
      "Mean validation score: 1.000 (std: 0.000)\n",
      "Parameters: {'clf__decision_function_shape': 'ovr', 'clf__kernel': 'rbf', 'clf__nu': 0.65, 'clf__random_state': 1337, 'clf__shrinking': False, 'clf__tol': 0.001}\n",
      "\n",
      "Model with rank: 1\n",
      "Mean validation score: 1.000 (std: 0.000)\n",
      "Parameters: {'clf__decision_function_shape': 'ovr', 'clf__kernel': 'rbf', 'clf__nu': 0.65, 'clf__random_state': 1337, 'clf__shrinking': False, 'clf__tol': 0.0003}\n",
      "\n",
      "Model with rank: 1\n",
      "Mean validation score: 1.000 (std: 0.000)\n",
      "Parameters: {'clf__decision_function_shape': 'ovr', 'clf__kernel': 'rbf', 'clf__nu': 0.65, 'clf__random_state': 1337, 'clf__shrinking': False, 'clf__tol': 0.0001}\n",
      "\n",
      "Model with rank: 1\n",
      "Mean validation score: 1.000 (std: 0.000)\n",
      "Parameters: {'clf__decision_function_shape': 'ovr', 'clf__kernel': 'rbf', 'clf__nu': 0.5, 'clf__random_state': 1337, 'clf__shrinking': True, 'clf__tol': 0.01}\n",
      "\n",
      "Model with rank: 1\n",
      "Mean validation score: 1.000 (std: 0.000)\n",
      "Parameters: {'clf__decision_function_shape': 'ovr', 'clf__kernel': 'rbf', 'clf__nu': 0.5, 'clf__random_state': 1337, 'clf__shrinking': True, 'clf__tol': 0.003}\n",
      "\n",
      "Model with rank: 1\n",
      "Mean validation score: 1.000 (std: 0.000)\n",
      "Parameters: {'clf__decision_function_shape': 'ovr', 'clf__kernel': 'rbf', 'clf__nu': 0.5, 'clf__random_state': 1337, 'clf__shrinking': True, 'clf__tol': 0.001}\n",
      "\n",
      "Model with rank: 1\n",
      "Mean validation score: 1.000 (std: 0.000)\n",
      "Parameters: {'clf__decision_function_shape': 'ovr', 'clf__kernel': 'rbf', 'clf__nu': 0.5, 'clf__random_state': 1337, 'clf__shrinking': True, 'clf__tol': 0.0003}\n",
      "\n",
      "Model with rank: 1\n",
      "Mean validation score: 1.000 (std: 0.000)\n",
      "Parameters: {'clf__decision_function_shape': 'ovr', 'clf__kernel': 'rbf', 'clf__nu': 0.5, 'clf__random_state': 1337, 'clf__shrinking': True, 'clf__tol': 0.0001}\n",
      "\n",
      "Model with rank: 1\n",
      "Mean validation score: 1.000 (std: 0.000)\n",
      "Parameters: {'clf__decision_function_shape': 'ovr', 'clf__kernel': 'rbf', 'clf__nu': 0.5, 'clf__random_state': 1337, 'clf__shrinking': False, 'clf__tol': 0.01}\n",
      "\n",
      "Model with rank: 1\n",
      "Mean validation score: 1.000 (std: 0.000)\n",
      "Parameters: {'clf__decision_function_shape': 'ovr', 'clf__kernel': 'rbf', 'clf__nu': 0.5, 'clf__random_state': 1337, 'clf__shrinking': False, 'clf__tol': 0.003}\n",
      "\n",
      "Model with rank: 1\n",
      "Mean validation score: 1.000 (std: 0.000)\n",
      "Parameters: {'clf__decision_function_shape': 'ovr', 'clf__kernel': 'rbf', 'clf__nu': 0.5, 'clf__random_state': 1337, 'clf__shrinking': False, 'clf__tol': 0.001}\n",
      "\n",
      "Model with rank: 1\n",
      "Mean validation score: 1.000 (std: 0.000)\n",
      "Parameters: {'clf__decision_function_shape': 'ovr', 'clf__kernel': 'rbf', 'clf__nu': 0.5, 'clf__random_state': 1337, 'clf__shrinking': False, 'clf__tol': 0.0003}\n",
      "\n",
      "Model with rank: 1\n",
      "Mean validation score: 1.000 (std: 0.000)\n",
      "Parameters: {'clf__decision_function_shape': 'ovr', 'clf__kernel': 'rbf', 'clf__nu': 0.5, 'clf__random_state': 1337, 'clf__shrinking': False, 'clf__tol': 0.0001}\n",
      "\n",
      "Model with rank: 1\n",
      "Mean validation score: 1.000 (std: 0.000)\n",
      "Parameters: {'clf__decision_function_shape': 'ovr', 'clf__kernel': 'rbf', 'clf__nu': 0.35, 'clf__random_state': 1337, 'clf__shrinking': True, 'clf__tol': 0.01}\n",
      "\n",
      "Model with rank: 1\n",
      "Mean validation score: 1.000 (std: 0.000)\n",
      "Parameters: {'clf__decision_function_shape': 'ovr', 'clf__kernel': 'rbf', 'clf__nu': 0.35, 'clf__random_state': 1337, 'clf__shrinking': True, 'clf__tol': 0.003}\n",
      "\n",
      "Model with rank: 1\n",
      "Mean validation score: 1.000 (std: 0.000)\n",
      "Parameters: {'clf__decision_function_shape': 'ovr', 'clf__kernel': 'rbf', 'clf__nu': 0.35, 'clf__random_state': 1337, 'clf__shrinking': True, 'clf__tol': 0.001}\n",
      "\n",
      "Model with rank: 1\n",
      "Mean validation score: 1.000 (std: 0.000)\n",
      "Parameters: {'clf__decision_function_shape': 'ovr', 'clf__kernel': 'rbf', 'clf__nu': 0.35, 'clf__random_state': 1337, 'clf__shrinking': True, 'clf__tol': 0.0003}\n",
      "\n",
      "Model with rank: 1\n",
      "Mean validation score: 1.000 (std: 0.000)\n",
      "Parameters: {'clf__decision_function_shape': 'ovr', 'clf__kernel': 'rbf', 'clf__nu': 0.35, 'clf__random_state': 1337, 'clf__shrinking': True, 'clf__tol': 0.0001}\n",
      "\n",
      "Model with rank: 1\n",
      "Mean validation score: 1.000 (std: 0.000)\n",
      "Parameters: {'clf__decision_function_shape': 'ovr', 'clf__kernel': 'rbf', 'clf__nu': 0.35, 'clf__random_state': 1337, 'clf__shrinking': False, 'clf__tol': 0.01}\n",
      "\n",
      "Model with rank: 1\n",
      "Mean validation score: 1.000 (std: 0.000)\n",
      "Parameters: {'clf__decision_function_shape': 'ovr', 'clf__kernel': 'rbf', 'clf__nu': 0.35, 'clf__random_state': 1337, 'clf__shrinking': False, 'clf__tol': 0.003}\n",
      "\n",
      "Model with rank: 1\n",
      "Mean validation score: 1.000 (std: 0.000)\n",
      "Parameters: {'clf__decision_function_shape': 'ovr', 'clf__kernel': 'rbf', 'clf__nu': 0.35, 'clf__random_state': 1337, 'clf__shrinking': False, 'clf__tol': 0.001}\n",
      "\n",
      "Model with rank: 1\n",
      "Mean validation score: 1.000 (std: 0.000)\n",
      "Parameters: {'clf__decision_function_shape': 'ovr', 'clf__kernel': 'rbf', 'clf__nu': 0.35, 'clf__random_state': 1337, 'clf__shrinking': False, 'clf__tol': 0.0003}\n",
      "\n",
      "Model with rank: 1\n",
      "Mean validation score: 1.000 (std: 0.000)\n",
      "Parameters: {'clf__decision_function_shape': 'ovr', 'clf__kernel': 'rbf', 'clf__nu': 0.35, 'clf__random_state': 1337, 'clf__shrinking': False, 'clf__tol': 0.0001}\n",
      "\n",
      "Model with rank: 1\n",
      "Mean validation score: 1.000 (std: 0.000)\n",
      "Parameters: {'clf__decision_function_shape': 'ovr', 'clf__kernel': 'rbf', 'clf__nu': 0.2, 'clf__random_state': 1337, 'clf__shrinking': True, 'clf__tol': 0.01}\n",
      "\n",
      "Model with rank: 1\n",
      "Mean validation score: 1.000 (std: 0.000)\n",
      "Parameters: {'clf__decision_function_shape': 'ovr', 'clf__kernel': 'rbf', 'clf__nu': 0.2, 'clf__random_state': 1337, 'clf__shrinking': True, 'clf__tol': 0.003}\n",
      "\n",
      "Model with rank: 1\n",
      "Mean validation score: 1.000 (std: 0.000)\n",
      "Parameters: {'clf__decision_function_shape': 'ovr', 'clf__kernel': 'rbf', 'clf__nu': 0.2, 'clf__random_state': 1337, 'clf__shrinking': True, 'clf__tol': 0.001}\n",
      "\n",
      "Model with rank: 1\n",
      "Mean validation score: 1.000 (std: 0.000)\n",
      "Parameters: {'clf__decision_function_shape': 'ovr', 'clf__kernel': 'rbf', 'clf__nu': 0.2, 'clf__random_state': 1337, 'clf__shrinking': True, 'clf__tol': 0.0003}\n",
      "\n",
      "Model with rank: 1\n",
      "Mean validation score: 1.000 (std: 0.000)\n",
      "Parameters: {'clf__decision_function_shape': 'ovr', 'clf__kernel': 'rbf', 'clf__nu': 0.2, 'clf__random_state': 1337, 'clf__shrinking': True, 'clf__tol': 0.0001}\n",
      "\n",
      "Model with rank: 1\n",
      "Mean validation score: 1.000 (std: 0.000)\n",
      "Parameters: {'clf__decision_function_shape': 'ovr', 'clf__kernel': 'rbf', 'clf__nu': 0.2, 'clf__random_state': 1337, 'clf__shrinking': False, 'clf__tol': 0.01}\n",
      "\n",
      "Model with rank: 1\n",
      "Mean validation score: 1.000 (std: 0.000)\n",
      "Parameters: {'clf__decision_function_shape': 'ovr', 'clf__kernel': 'rbf', 'clf__nu': 0.2, 'clf__random_state': 1337, 'clf__shrinking': False, 'clf__tol': 0.003}\n",
      "\n",
      "Model with rank: 1\n",
      "Mean validation score: 1.000 (std: 0.000)\n",
      "Parameters: {'clf__decision_function_shape': 'ovr', 'clf__kernel': 'rbf', 'clf__nu': 0.2, 'clf__random_state': 1337, 'clf__shrinking': False, 'clf__tol': 0.001}\n",
      "\n",
      "Model with rank: 1\n",
      "Mean validation score: 1.000 (std: 0.000)\n",
      "Parameters: {'clf__decision_function_shape': 'ovr', 'clf__kernel': 'rbf', 'clf__nu': 0.2, 'clf__random_state': 1337, 'clf__shrinking': False, 'clf__tol': 0.0003}\n",
      "\n",
      "Model with rank: 1\n",
      "Mean validation score: 1.000 (std: 0.000)\n",
      "Parameters: {'clf__decision_function_shape': 'ovr', 'clf__kernel': 'rbf', 'clf__nu': 0.2, 'clf__random_state': 1337, 'clf__shrinking': False, 'clf__tol': 0.0001}\n",
      "\n"
     ]
    }
   ],
   "source": [
    "random_search()"
   ]
  },
  {
   "cell_type": "code",
   "execution_count": 47,
   "metadata": {
    "collapsed": false
   },
   "outputs": [
    {
     "data": {
      "text/plain": [
       "NuSVC(cache_size=200, class_weight=None, coef0=0.0,\n",
       "   decision_function_shape='ovo', degree=3, gamma='auto', kernel='linear',\n",
       "   max_iter=-1, nu=0.8, probability=False, random_state=1337,\n",
       "   shrinking=True, tol=0.01, verbose=False)"
      ]
     },
     "execution_count": 47,
     "metadata": {},
     "output_type": "execute_result"
    }
   ],
   "source": [
    "clf = svm.NuSVC(decision_function_shape='ovo', kernel='linear', nu=0.8, random_state=1337, shrinking=True, tol=0.01)\n",
    "clf.fit(flattened_images, classifications)"
   ]
  },
  {
   "cell_type": "code",
   "execution_count": 49,
   "metadata": {
    "collapsed": false
   },
   "outputs": [
    {
     "data": {
      "image/png": "[encoded data removed]",
      "text/plain": [
       "<matplotlib.figure.Figure at 0x7fc6efa31f98>"
      ]
     },
     "metadata": {},
     "output_type": "display_data"
    }
   ],
   "source": [
    "test_images = [ np.reshape(z, (RESIZED_IMAGE_HEIGHT, -1)) for z in test ]\n",
    "show_all(test_images)"
   ]
  },
  {
   "cell_type": "code",
   "execution_count": 50,
   "metadata": {
    "collapsed": false
   },
   "outputs": [
    {
     "name": "stdout",
     "output_type": "stream",
     "text": [
      "8\n",
      "6\n"
     ]
    }
   ],
   "source": [
    "for digit in test:\n",
    "    predict = clf.predict([digit])\n",
    "    print(chr(int(predict)))"
   ]
  },
  {
   "cell_type": "code",
   "execution_count": 51,
   "metadata": {
    "collapsed": false
   },
   "outputs": [
    {
     "data": {
      "image/png": "[encoded data removed]",
      "text/plain": [
       "<matplotlib.figure.Figure at 0x7fc6f2c416d8>"
      ]
     },
     "metadata": {},
     "output_type": "display_data"
    }
   ],
   "source": [
    "predictions = [ clf.predict([z]) for z in test ]\n",
    "show_all(test_images, labels=[ chr(z) for z in predictions])"
   ]
  },
  {
   "cell_type": "code",
   "execution_count": 57,
   "metadata": {
    "collapsed": false
   },
   "outputs": [
    {
     "name": "stdout",
     "output_type": "stream",
     "text": [
      "first digit of the score sample is 8\n"
     ]
    }
   ],
   "source": [
    "import pickle\n",
    "with open('score_model.pickle', 'wb') as f:\n",
    "    pickle.dump(clf, f)\n",
    "\n",
    "with open('score_model.pickle', 'rb') as f:\n",
    "    clf2 = pickle.load(f)\n",
    "first_digit = clf2.predict([test[0]])\n",
    "print('first digit of the score sample is', chr(first_digit))"
   ]
  },
  {
   "cell_type": "code",
   "execution_count": null,
   "metadata": {
    "collapsed": false
   },
   "outputs": [],
   "source": [
    "fail here"
   ]
  },
  {
   "cell_type": "markdown",
   "metadata": {},
   "source": [
    "Before applying any other transformations, let's add padding to serve as buffer for the results that will be off center"
   ]
  },
  {
   "cell_type": "code",
   "execution_count": null,
   "metadata": {
    "collapsed": false
   },
   "outputs": [],
   "source": [
    "def padding(image, pixels=3):\n",
    "    return np.lib.pad(image, (pixels,pixels), 'constant', constant_values=(0,0))"
   ]
  },
  {
   "cell_type": "code",
   "execution_count": null,
   "metadata": {
    "collapsed": false
   },
   "outputs": [],
   "source": [
    "padded_iamges = [ padding(z) for z in images]"
   ]
  },
  {
   "cell_type": "code",
   "execution_count": null,
   "metadata": {
    "collapsed": false
   },
   "outputs": [],
   "source": [
    "pd.set_option('max_rows', 55)\n",
    "oneimage = pd.DataFrame(padded_iamges[0])\n",
    "print(oneimage)"
   ]
  },
  {
   "cell_type": "code",
   "execution_count": null,
   "metadata": {
    "collapsed": false
   },
   "outputs": [],
   "source": [
    "pd.reset_option('max_rows')"
   ]
  },
  {
   "cell_type": "code",
   "execution_count": null,
   "metadata": {
    "collapsed": false
   },
   "outputs": [],
   "source": [
    "show_all(padded_iamges)"
   ]
  },
  {
   "cell_type": "markdown",
   "metadata": {},
   "source": [
    "One of the warping procedures will be [rotating at the center](https://stackoverflow.com/questions/25895587/python-skimage-transform-affinetransform-rotation-center)"
   ]
  },
  {
   "cell_type": "code",
   "execution_count": null,
   "metadata": {
    "collapsed": false
   },
   "outputs": [],
   "source": [
    "def center_rotate(image, degrees):\n",
    "    shift_y, shift_x = np.array(image.shape[:2]) / 2. \n",
    "    # I guess the shape[:2] is to cut off a 3rd color dimension\n",
    "    tf_rotate = tf.SimilarityTransform(rotation=np.deg2rad(degrees))\n",
    "    tf_shift = tf.SimilarityTransform(translation=[-shift_x, -shift_y])\n",
    "    tf_shift_inv = tf.SimilarityTransform(translation=[shift_x, shift_y])\n",
    "\n",
    "    image_rotated = tf.warp(image, (tf_shift + (tf_rotate + tf_shift_inv)).inverse)\n",
    "    # so it shifts the center of the image to the origin point, then rotates, and then\n",
    "    # shifts back the center of the image to the center of the \"canvas\"\n",
    "    # All the \"transforms\" are matrices - why exactly this arithmetic works ...\n",
    "    return image_rotated\n",
    "    \n",
    "    "
   ]
  },
  {
   "cell_type": "markdown",
   "metadata": {},
   "source": [
    "Apply different degree of transformation:"
   ]
  },
  {
   "cell_type": "code",
   "execution_count": null,
   "metadata": {
    "collapsed": true
   },
   "outputs": [],
   "source": [
    "pad_n_rot = []\n",
    "for i in padded_iamges:\n",
    "   pad_n_rot += [ center_rotate(i, z) for z in range(-10,15,5) ]"
   ]
  },
  {
   "cell_type": "markdown",
   "metadata": {},
   "source": [
    "Display the transformations"
   ]
  },
  {
   "cell_type": "code",
   "execution_count": null,
   "metadata": {
    "collapsed": true
   },
   "outputs": [],
   "source": [
    "def grouper(iterable, n, fillvalue=None):\n",
    "    \"Collect data into fixed-length chunks or blocks\"\n",
    "    # grouper('ABCDEFG', 3, 'x') --> ABC DEF Gxx\"\n",
    "    args = [iter(iterable)] * n\n",
    "    return itertools.zip_longest(*args, fillvalue=fillvalue)"
   ]
  },
  {
   "cell_type": "code",
   "execution_count": null,
   "metadata": {
    "collapsed": false
   },
   "outputs": [],
   "source": [
    "show_all(pad_n_rot)"
   ]
  },
  {
   "cell_type": "code",
   "execution_count": null,
   "metadata": {
    "collapsed": true
   },
   "outputs": [],
   "source": [
    "def scale_up(image, pixels=3):\n",
    "    resized = tf.resize(image,(image.shape[0]+pixels*2,image.shape[1]+pixels*2), mode='edge')\n",
    "    return resized[pixels:-pixels, pixels:-pixels]"
   ]
  },
  {
   "cell_type": "code",
   "execution_count": null,
   "metadata": {
    "collapsed": false
   },
   "outputs": [],
   "source": [
    "scaled = [ scale_up(z) for z in padded_iamges ]"
   ]
  },
  {
   "cell_type": "code",
   "execution_count": null,
   "metadata": {
    "collapsed": false
   },
   "outputs": [],
   "source": [
    "show_all(padded_iamges + scaled)"
   ]
  },
  {
   "cell_type": "code",
   "execution_count": null,
   "metadata": {
    "collapsed": true
   },
   "outputs": [],
   "source": [
    "def scale_down(image, pixels=3):\n",
    "    resized = tf.resize(image,(image.shape[0]+pixels*2,image.shape[1]+pixels*2), mode='edge')\n",
    "    return padding(resized, pixels)"
   ]
  },
  {
   "cell_type": "code",
   "execution_count": null,
   "metadata": {
    "collapsed": false
   },
   "outputs": [],
   "source": [
    "scaled = [ scale_down(z) for z in padded_iamges ]\n",
    "show_all(padded_iamges + scaled)"
   ]
  },
  {
   "cell_type": "code",
   "execution_count": null,
   "metadata": {
    "collapsed": false
   },
   "outputs": [],
   "source": [
    "oneimage.shape"
   ]
  },
  {
   "cell_type": "code",
   "execution_count": null,
   "metadata": {
    "collapsed": false
   },
   "outputs": [],
   "source": [
    "resized = tf.resize(oneimage,(46,36), mode='edge')\n",
    "reform = resized[3:-3,3:-3]"
   ]
  },
  {
   "cell_type": "code",
   "execution_count": null,
   "metadata": {
    "collapsed": false
   },
   "outputs": [],
   "source": [
    "plt.figure(figsize=(20, 14));\n",
    "ax = plt.subplot(1, 3, 1);\n",
    "plt.imshow(oneimage);\n",
    "plt.gray()\n",
    "ax = plt.subplot(1, 3, 2);\n",
    "plt.imshow(resized);\n",
    "plt.gray()\n",
    "ax = plt.subplot(1, 3, 3);\n",
    "plt.imshow(reform);\n",
    "plt.gray()"
   ]
  },
  {
   "cell_type": "code",
   "execution_count": null,
   "metadata": {
    "collapsed": false
   },
   "outputs": [],
   "source": [
    "[ print(z.shape) for z in [oneimage, resized]]"
   ]
  },
  {
   "cell_type": "markdown",
   "metadata": {},
   "source": [
    "Another transformation will be translation"
   ]
  },
  {
   "cell_type": "code",
   "execution_count": null,
   "metadata": {
    "collapsed": true
   },
   "outputs": [],
   "source": []
  }
 ],
 "metadata": {
  "kernelspec": {
   "display_name": "Python 3",
   "language": "python",
   "name": "python3"
  },
  "language_info": {
   "codemirror_mode": {
    "name": "ipython",
    "version": 3
   },
   "file_extension": ".py",
   "mimetype": "text/x-python",
   "name": "python",
   "nbconvert_exporter": "python",
   "pygments_lexer": "ipython3",
   "version": "3.6.3"
  }
 },
 "nbformat": 4,
 "nbformat_minor": 2
}
