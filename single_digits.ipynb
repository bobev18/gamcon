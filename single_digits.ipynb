{
 "cells": [
  {
   "cell_type": "code",
   "execution_count": 1,
   "metadata": {
    "collapsed": true
   },
   "outputs": [],
   "source": [
    "import math\n",
    "import numpy as np\n",
    "import matplotlib.pyplot as plt\n",
    "import pandas as pd\n",
    "import itertools\n",
    "\n",
    "# from skimage import data\n",
    "from skimage import transform as tf\n",
    "from skimage.transform import rotate\n",
    "\n",
    "RESIZED_IMAGE_WIDTH = 20\n",
    "RESIZED_IMAGE_HEIGHT = 30\n",
    "\n",
    "classifications = np.loadtxt(\"classifications.txt\") #, , fmt='%i')\n",
    "flattened_images = np.loadtxt(\"flattened_images.txt\")#,  fmt='%i')"
   ]
  },
  {
   "cell_type": "code",
   "execution_count": 2,
   "metadata": {
    "collapsed": true
   },
   "outputs": [],
   "source": [
    "def grouper(iterable, n, fillvalue=None):\n",
    "    \"Collect data into fixed-length chunks or blocks\"\n",
    "    # grouper('ABCDEFG', 3, 'x') --> ABC DEF Gxx\"\n",
    "    args = [iter(iterable)] * n\n",
    "    return itertools.zip_longest(*args, fillvalue=fillvalue)"
   ]
  },
  {
   "cell_type": "markdown",
   "metadata": {},
   "source": [
    "We have a single sample for each digit, so we want to use warpping to produce more samples. To do that, we need the un-flattened images."
   ]
  },
  {
   "cell_type": "code",
   "execution_count": 3,
   "metadata": {
    "collapsed": true
   },
   "outputs": [],
   "source": [
    "images = [ np.reshape(z, (RESIZED_IMAGE_HEIGHT, -1)) for z in flattened_images ]"
   ]
  },
  {
   "cell_type": "code",
   "execution_count": 4,
   "metadata": {
    "collapsed": false
   },
   "outputs": [],
   "source": [
    "def show_row(images, original=None):\n",
    "    \n",
    "    if original:\n",
    "        extra = 1\n",
    "    else:\n",
    "        extra = 0\n",
    "    \n",
    "    fig, ax = plt.subplots(ncols=len(images)+extra, sharex=False, sharey=False)\n",
    "    \n",
    "    if original:\n",
    "        ax[0].imshow(original, cmap=plt.cm.gray)\n",
    "        ax[0].axis('off')\n",
    "    \n",
    "    for i in range(len(images)):\n",
    "      ax[i+extra].imshow(images[i], cmap=plt.cm.gray)\n",
    "      ax[i+extra].axis('off')\n",
    "    \n",
    "    plt.show()"
   ]
  },
  {
   "cell_type": "code",
   "execution_count": 5,
   "metadata": {
    "collapsed": true
   },
   "outputs": [],
   "source": [
    "def show_all(images):\n",
    "    [ show_row(z) for z in grouper(images, 6, np.zeros(images[0].shape, dtype=np.int)) ];"
   ]
  },
  {
   "cell_type": "code",
   "execution_count": 6,
   "metadata": {
    "collapsed": false
   },
   "outputs": [
    {
     "data": {
      "image/png": "[encoded data removed]",
      "text/plain": [
       "<matplotlib.figure.Figure at 0x7ffb121bf630>"
      ]
     },
     "metadata": {},
     "output_type": "display_data"
    },
    {
     "data": {
      "image/png": "[encoded data removed]",
      "text/plain": [
       "<matplotlib.figure.Figure at 0x7ffb100cdb70>"
      ]
     },
     "metadata": {},
     "output_type": "display_data"
    }
   ],
   "source": [
    "show_all(images)"
   ]
  },
  {
   "cell_type": "markdown",
   "metadata": {},
   "source": [
    "Prep sample"
   ]
  },
  {
   "cell_type": "code",
   "execution_count": 8,
   "metadata": {
    "collapsed": true
   },
   "outputs": [],
   "source": [
    "import cv2"
   ]
  },
  {
   "cell_type": "code",
   "execution_count": 11,
   "metadata": {
    "collapsed": false
   },
   "outputs": [],
   "source": [
    "MIN_CONTOUR_AREA = 100\n",
    "\n",
    "RESIZED_IMAGE_WIDTH = 30\n",
    "RESIZED_IMAGE_HEIGHT = 30\n",
    "# font = cv2.FONT_HERSHEY_SIMPLEX\n",
    "font = cv2.FONT_HERSHEY_COMPLEX_SMALL\n",
    "\n",
    "def preprocess_score_image(original):\n",
    "    gray = cv2.cvtColor(original, cv2.COLOR_BGR2GRAY)\n",
    "    _, bw_image = cv2.threshold(gray, 200, 255, cv2.THRESH_BINARY)\n",
    "    image = bw_image.copy()\n",
    "    img_contours, npa_contours, npa_hierarchy = cv2.findContours(image,\n",
    "                                                 cv2.RETR_EXTERNAL,\n",
    "                                                 cv2.CHAIN_APPROX_SIMPLE)\n",
    "\n",
    "    flattened_digits =  np.empty((0, RESIZED_IMAGE_WIDTH * RESIZED_IMAGE_HEIGHT), dtype=np.int)\n",
    "\n",
    "    for i, npa_contour in enumerate(npa_contours):\n",
    "        if cv2.contourArea(npa_contour) > MIN_CONTOUR_AREA:\n",
    "            [intX, intY, intW, intH] = cv2.boundingRect(npa_contour)\n",
    "\n",
    "            cv2.rectangle(original, (intX, intY), (intX+intW,intY+intH), (0, 0, 255), 2)\n",
    "            imgROI = image[intY:intY+intH, intX:intX+intW]\n",
    "            resized = cv2.resize(imgROI, (RESIZED_IMAGE_WIDTH, RESIZED_IMAGE_HEIGHT))\n",
    "            flattened = resized.reshape((1, RESIZED_IMAGE_WIDTH * RESIZED_IMAGE_HEIGHT))\n",
    "            flattened_digits = np.append(flattened_digits, flattened, 0)\n",
    "\n",
    "\n",
    "    return flattened_digits"
   ]
  },
  {
   "cell_type": "code",
   "execution_count": null,
   "metadata": {
    "collapsed": true
   },
   "outputs": [],
   "source": []
  },
  {
   "cell_type": "code",
   "execution_count": 18,
   "metadata": {
    "collapsed": false
   },
   "outputs": [
    {
     "name": "stdout",
     "output_type": "stream",
     "text": [
      "(900,)\n",
      "(900,)\n"
     ]
    }
   ],
   "source": [
    "test_source = cv2.imread(\"samples/test_score.png\")\n",
    "test = preprocess_score_image(test_source)\n",
    "for digit in test:\n",
    "    print(digit.shape)"
   ]
  },
  {
   "cell_type": "code",
   "execution_count": 20,
   "metadata": {
    "collapsed": false
   },
   "outputs": [
    {
     "data": {
      "image/png": "[encoded data removed]",
      "text/plain": [
       "<matplotlib.figure.Figure at 0x7ffb05e3f3c8>"
      ]
     },
     "metadata": {},
     "output_type": "display_data"
    }
   ],
   "source": [
    "test_images = [ np.reshape(z, (RESIZED_IMAGE_HEIGHT, -1)) for z in test ]\n",
    "show_all(test_images)"
   ]
  },
  {
   "cell_type": "markdown",
   "metadata": {},
   "source": [
    "Test sample was taken at 30x30 instead of the 20x30 used by the training samples; will reshape the test sample"
   ]
  },
  {
   "cell_type": "code",
   "execution_count": 21,
   "metadata": {
    "collapsed": false
   },
   "outputs": [
    {
     "ename": "error",
     "evalue": "/io/opencv/modules/imgproc/src/resize.cpp:3922: error: (-215) func != 0 in function resize\n",
     "output_type": "error",
     "traceback": [
      "\u001b[0;31m---------------------------------------------------------------------------\u001b[0m",
      "\u001b[0;31merror\u001b[0m                                     Traceback (most recent call last)",
      "\u001b[0;32m<ipython-input-21-8abe2e0a33f2>\u001b[0m in \u001b[0;36m<module>\u001b[0;34m()\u001b[0m\n\u001b[1;32m      1\u001b[0m \u001b[0mresized_test\u001b[0m \u001b[0;34m=\u001b[0m \u001b[0;34m[\u001b[0m\u001b[0;34m]\u001b[0m\u001b[0;34m\u001b[0m\u001b[0m\n\u001b[1;32m      2\u001b[0m \u001b[0;32mfor\u001b[0m \u001b[0mtest_image\u001b[0m \u001b[0;32min\u001b[0m \u001b[0mtest\u001b[0m\u001b[0;34m:\u001b[0m\u001b[0;34m\u001b[0m\u001b[0m\n\u001b[0;32m----> 3\u001b[0;31m     \u001b[0mresized\u001b[0m \u001b[0;34m=\u001b[0m \u001b[0mcv2\u001b[0m\u001b[0;34m.\u001b[0m\u001b[0mresize\u001b[0m\u001b[0;34m(\u001b[0m\u001b[0mtest_image\u001b[0m\u001b[0;34m,\u001b[0m \u001b[0;34m(\u001b[0m\u001b[0mRESIZED_IMAGE_WIDTH\u001b[0m\u001b[0;34m,\u001b[0m \u001b[0mRESIZED_IMAGE_HEIGHT\u001b[0m\u001b[0;34m)\u001b[0m\u001b[0;34m)\u001b[0m\u001b[0;34m\u001b[0m\u001b[0m\n\u001b[0m\u001b[1;32m      4\u001b[0m     \u001b[0mresized_test\u001b[0m\u001b[0;34m.\u001b[0m\u001b[0mappend\u001b[0m\u001b[0;34m(\u001b[0m\u001b[0mresized\u001b[0m\u001b[0;34m)\u001b[0m\u001b[0;34m\u001b[0m\u001b[0m\n\u001b[1;32m      5\u001b[0m \u001b[0;34m\u001b[0m\u001b[0m\n",
      "\u001b[0;31merror\u001b[0m: /io/opencv/modules/imgproc/src/resize.cpp:3922: error: (-215) func != 0 in function resize\n"
     ]
    }
   ],
   "source": [
    "resized_test = []\n",
    "for test_image in test:\n",
    "    resized = cv2.resize(test_image, (RESIZED_IMAGE_WIDTH, RESIZED_IMAGE_HEIGHT))\n",
    "    resized_test.append(resized)\n",
    "\n",
    "for image in resized_test:\n",
    "    print(image.shape)"
   ]
  },
  {
   "cell_type": "code",
   "execution_count": 19,
   "metadata": {
    "collapsed": false
   },
   "outputs": [
    {
     "name": "stdout",
     "output_type": "stream",
     "text": [
      "(10, 600)\n",
      "(10,)\n"
     ]
    }
   ],
   "source": [
    "print(flattened_images.shape)\n",
    "print(classifications.shape)"
   ]
  },
  {
   "cell_type": "code",
   "execution_count": 14,
   "metadata": {
    "collapsed": true
   },
   "outputs": [],
   "source": [
    "from sklearn import svm\n"
   ]
  },
  {
   "cell_type": "code",
   "execution_count": 16,
   "metadata": {
    "collapsed": false
   },
   "outputs": [
    {
     "data": {
      "text/plain": [
       "NuSVC(cache_size=200, class_weight=None, coef0=0.0,\n",
       "   decision_function_shape='ovr', degree=3, gamma='auto', kernel='rbf',\n",
       "   max_iter=-1, nu=0.5, probability=False, random_state=None,\n",
       "   shrinking=True, tol=0.001, verbose=False)"
      ]
     },
     "execution_count": 16,
     "metadata": {},
     "output_type": "execute_result"
    }
   ],
   "source": [
    "clf = svm.NuSVC()\n",
    "clf.fit(flattened_images, classifications)"
   ]
  },
  {
   "cell_type": "code",
   "execution_count": 17,
   "metadata": {
    "collapsed": false
   },
   "outputs": [
    {
     "ename": "ValueError",
     "evalue": "Expected 2D array, got 1D array instead:\narray=[  0.   0.   0.   0.   0. 110. 246. 255. 255. 255. 255. 255. 255. 255.\n 255. 255. 255. 255. 255. 255. 255. 255. 255. 246. 110.   0.   0.   0.\n   0.   0.   0.   0.   0.  51. 126. 190. 251. 255. 255. 255. 255. 255.\n 255. 255. 255. 255. 255. 255. 255. 255. 255. 255. 255. 251. 190. 126.\n  51.   0.   0.   0.   0.  19.  53. 134. 236. 255. 255. 255. 255. 255.\n 255. 255. 255. 255. 255. 255. 255. 255. 255. 255. 255. 255. 255. 255.\n 255. 236. 134.  53.  19.   0.   0.  73. 202. 247. 254. 255. 255. 255.\n 255. 255. 255. 255. 255. 255. 255. 255. 255. 255. 255. 255. 255. 255.\n 255. 255. 255. 254. 247. 202.  73.   0.   0.  76. 212. 255. 255. 255.\n 255. 255. 255. 255. 255. 255. 227. 139.  89.  89. 139. 227. 255. 255.\n 255. 255. 255. 255. 255. 255. 255. 240. 192. 166.  89. 139. 227. 255.\n 255. 255. 255. 255. 255. 255. 246. 198. 138.  50.   0.   0.  50. 138.\n 166. 166. 204. 252. 255. 255. 255. 255. 255. 255. 255. 255. 255. 255.\n 255. 255. 255. 255. 255. 255. 255. 248. 218.  89.   0.   0.   0.   0.\n   0.   0.   0.   0. 110. 247. 255. 255. 255. 255. 255. 255. 255. 255.\n 255. 255. 255. 255. 255. 255. 255. 255. 249. 147.  57.  23.   0.   0.\n   0.   0.   0.   0.   0.   0. 110. 246. 255. 255. 255. 255. 255. 255.\n 255. 255. 140. 174. 236. 255. 255. 255. 255. 255. 250. 175. 103.  42.\n   0.   0.   0.   0.   0.   0.  42. 103. 175. 250. 255. 255. 255. 255.\n 255. 255. 255. 255.   0.  76. 212. 255. 255. 255. 255. 255. 255. 255.\n 233. 117.  32.  11.   0.   0.  11.  32. 117. 233. 255. 255. 255. 255.\n 255. 255. 255. 249. 228. 217.   0.  76. 212. 255. 255. 255. 255. 255.\n 255. 255. 251. 231. 181.  65.   0.   0.  65. 181. 231. 251. 255. 255.\n 255. 255. 255. 255. 255. 219. 103.  38.   0.  34.  96. 166. 241. 255.\n 255. 255. 255. 255. 255. 255. 236. 174. 140. 140. 174. 236. 255. 255.\n 255. 255. 255. 255. 255. 241. 166.  96.  34.   0.   0.   0.   0.  70.\n 172. 219. 253. 255. 255. 255. 255. 255. 255. 255. 255. 255. 255. 255.\n 255. 255. 255. 255. 255. 253. 219. 172.  70.   0.   0.   0.   0.   0.\n   0.   5.  11. 117. 247. 255. 255. 255. 255. 255. 255. 255. 255. 255.\n 255. 255. 255. 255. 255. 255. 255. 247. 117.  11.   5.   0.   0.   0.\n   0.   0.   0.  61. 149. 204. 252. 255. 255. 255. 255. 255. 255. 255.\n 255. 255. 255. 255. 255. 255. 255. 255. 255. 246. 110.   0.   0.   0.\n   0.   0.   0.  27.  74. 150. 238. 255. 255. 255. 255. 255. 255. 255.\n 255. 255. 255. 255. 255. 255. 255. 255. 255. 255. 255. 249. 161.  89.\n  89.  74.  27.   0.   0.  76. 212. 255. 255. 255. 255. 255. 255. 255.\n 255. 255. 253. 246. 242. 242. 246. 253. 255. 255. 255. 255. 255. 255.\n 255. 255. 255. 214.  85.  13.   0.  76. 212. 255. 255. 255. 255. 255.\n 255. 255. 255. 255. 223. 121.  64.  64. 121. 223. 255. 255. 255. 255.\n 255. 255. 255. 255. 255. 244. 210. 191. 115. 157. 232. 255. 255. 255.\n 255. 255. 255. 255. 243. 182. 117.  42.   0.   0.  42. 117. 140. 140.\n 190. 251. 255. 255. 255. 255. 255. 255. 255. 255. 255. 255. 255. 255.\n 255. 255. 255. 255. 254. 233. 195.  79.   0.   0.   0.   0.   0.   0.\n   0.   0. 110. 246. 255. 255. 255. 255. 255. 255. 255. 255. 255. 255.\n 255. 255. 255. 255. 255. 255. 248. 132.  34.  14.   0.   0.   0.   0.\n   0.   0.   0.   0. 110. 246. 255. 255. 255. 255. 255. 255. 255. 255.\n 255. 255. 255. 255. 255. 255. 255. 255. 246. 110.   0.   0.   0.   0.\n   0.   0.   0.   0.   0.   0. 110. 246. 255. 255. 255. 255. 255. 255.\n 255. 255. 255. 255. 255. 255. 255. 255. 255. 255. 246. 110.   0.   0.\n   0.   0.   0.   0.   0.   0.   0.   0. 110. 246. 255. 255. 255. 255.\n 255. 255. 255. 255. 255. 255. 255. 255. 255. 255. 255. 255. 247. 110.\n   0.   0.   0.   0.   0.   0.   0.   0.   0.   0. 110. 247. 255. 255.\n 255. 255. 255. 255. 255. 255. 255. 255. 255. 255. 255. 255. 255. 255.\n 252. 204. 166. 166. 138.  50.   0.   0.   0.   0.  61. 149. 204. 252.\n 255. 255. 255. 255. 255. 255. 255. 255. 166. 192. 240. 255. 255. 255.\n 255. 255. 255. 255. 255. 255. 227. 139.  89.  89.  89.  89. 150. 238.\n 255. 255. 255. 255. 255. 255. 255. 240. 192. 166.   0.  73. 202. 247.\n 254. 255. 255. 255. 255. 255. 255. 255. 255. 255. 255. 255. 255. 255.\n 255. 255. 255. 255. 255. 255. 255. 255. 255. 212.  76.   0.   0.  19.\n  53. 134. 236. 255. 255. 255. 255. 255. 255. 255. 255. 255. 255. 255.\n 255. 255. 255. 255. 255. 255. 255. 255. 255. 255. 255. 212.  76.   0.\n   0.   0.   0.  51. 126. 190. 251. 255. 255. 255. 255. 255. 255. 255.\n 255. 255. 255. 255. 255. 255. 255. 255. 255. 251. 190. 140. 140. 117.\n  42.   0.   0.   0.   0.   0.   0. 110. 246. 255. 255. 255. 255. 255.\n 255. 255. 255. 255. 255. 255. 255. 255. 255. 255. 255. 246. 110.   0.\n   0.   0.   0.   0.].\nReshape your data either using array.reshape(-1, 1) if your data has a single feature or array.reshape(1, -1) if it contains a single sample.",
     "output_type": "error",
     "traceback": [
      "\u001b[0;31m---------------------------------------------------------------------------\u001b[0m",
      "\u001b[0;31mValueError\u001b[0m                                Traceback (most recent call last)",
      "\u001b[0;32m<ipython-input-17-d6b1d5e7ee15>\u001b[0m in \u001b[0;36m<module>\u001b[0;34m()\u001b[0m\n\u001b[0;32m----> 1\u001b[0;31m \u001b[0mclf\u001b[0m\u001b[0;34m.\u001b[0m\u001b[0mpredict\u001b[0m\u001b[0;34m(\u001b[0m\u001b[0mtest\u001b[0m\u001b[0;34m[\u001b[0m\u001b[0;36m0\u001b[0m\u001b[0;34m]\u001b[0m\u001b[0;34m)\u001b[0m\u001b[0;34m\u001b[0m\u001b[0m\n\u001b[0m",
      "\u001b[0;32m~/.local/lib/python3.6/site-packages/sklearn/svm/base.py\u001b[0m in \u001b[0;36mpredict\u001b[0;34m(self, X)\u001b[0m\n\u001b[1;32m    546\u001b[0m             \u001b[0mClass\u001b[0m \u001b[0mlabels\u001b[0m \u001b[0;32mfor\u001b[0m \u001b[0msamples\u001b[0m \u001b[0;32min\u001b[0m \u001b[0mX\u001b[0m\u001b[0;34m.\u001b[0m\u001b[0;34m\u001b[0m\u001b[0m\n\u001b[1;32m    547\u001b[0m         \"\"\"\n\u001b[0;32m--> 548\u001b[0;31m         \u001b[0my\u001b[0m \u001b[0;34m=\u001b[0m \u001b[0msuper\u001b[0m\u001b[0;34m(\u001b[0m\u001b[0mBaseSVC\u001b[0m\u001b[0;34m,\u001b[0m \u001b[0mself\u001b[0m\u001b[0;34m)\u001b[0m\u001b[0;34m.\u001b[0m\u001b[0mpredict\u001b[0m\u001b[0;34m(\u001b[0m\u001b[0mX\u001b[0m\u001b[0;34m)\u001b[0m\u001b[0;34m\u001b[0m\u001b[0m\n\u001b[0m\u001b[1;32m    549\u001b[0m         \u001b[0;32mreturn\u001b[0m \u001b[0mself\u001b[0m\u001b[0;34m.\u001b[0m\u001b[0mclasses_\u001b[0m\u001b[0;34m.\u001b[0m\u001b[0mtake\u001b[0m\u001b[0;34m(\u001b[0m\u001b[0mnp\u001b[0m\u001b[0;34m.\u001b[0m\u001b[0masarray\u001b[0m\u001b[0;34m(\u001b[0m\u001b[0my\u001b[0m\u001b[0;34m,\u001b[0m \u001b[0mdtype\u001b[0m\u001b[0;34m=\u001b[0m\u001b[0mnp\u001b[0m\u001b[0;34m.\u001b[0m\u001b[0mintp\u001b[0m\u001b[0;34m)\u001b[0m\u001b[0;34m)\u001b[0m\u001b[0;34m\u001b[0m\u001b[0m\n\u001b[1;32m    550\u001b[0m \u001b[0;34m\u001b[0m\u001b[0m\n",
      "\u001b[0;32m~/.local/lib/python3.6/site-packages/sklearn/svm/base.py\u001b[0m in \u001b[0;36mpredict\u001b[0;34m(self, X)\u001b[0m\n\u001b[1;32m    306\u001b[0m         \u001b[0my_pred\u001b[0m \u001b[0;34m:\u001b[0m \u001b[0marray\u001b[0m\u001b[0;34m,\u001b[0m \u001b[0mshape\u001b[0m \u001b[0;34m(\u001b[0m\u001b[0mn_samples\u001b[0m\u001b[0;34m,\u001b[0m\u001b[0;34m)\u001b[0m\u001b[0;34m\u001b[0m\u001b[0m\n\u001b[1;32m    307\u001b[0m         \"\"\"\n\u001b[0;32m--> 308\u001b[0;31m         \u001b[0mX\u001b[0m \u001b[0;34m=\u001b[0m \u001b[0mself\u001b[0m\u001b[0;34m.\u001b[0m\u001b[0m_validate_for_predict\u001b[0m\u001b[0;34m(\u001b[0m\u001b[0mX\u001b[0m\u001b[0;34m)\u001b[0m\u001b[0;34m\u001b[0m\u001b[0m\n\u001b[0m\u001b[1;32m    309\u001b[0m         \u001b[0mpredict\u001b[0m \u001b[0;34m=\u001b[0m \u001b[0mself\u001b[0m\u001b[0;34m.\u001b[0m\u001b[0m_sparse_predict\u001b[0m \u001b[0;32mif\u001b[0m \u001b[0mself\u001b[0m\u001b[0;34m.\u001b[0m\u001b[0m_sparse\u001b[0m \u001b[0;32melse\u001b[0m \u001b[0mself\u001b[0m\u001b[0;34m.\u001b[0m\u001b[0m_dense_predict\u001b[0m\u001b[0;34m\u001b[0m\u001b[0m\n\u001b[1;32m    310\u001b[0m         \u001b[0;32mreturn\u001b[0m \u001b[0mpredict\u001b[0m\u001b[0;34m(\u001b[0m\u001b[0mX\u001b[0m\u001b[0;34m)\u001b[0m\u001b[0;34m\u001b[0m\u001b[0m\n",
      "\u001b[0;32m~/.local/lib/python3.6/site-packages/sklearn/svm/base.py\u001b[0m in \u001b[0;36m_validate_for_predict\u001b[0;34m(self, X)\u001b[0m\n\u001b[1;32m    437\u001b[0m         \u001b[0mcheck_is_fitted\u001b[0m\u001b[0;34m(\u001b[0m\u001b[0mself\u001b[0m\u001b[0;34m,\u001b[0m \u001b[0;34m'support_'\u001b[0m\u001b[0;34m)\u001b[0m\u001b[0;34m\u001b[0m\u001b[0m\n\u001b[1;32m    438\u001b[0m \u001b[0;34m\u001b[0m\u001b[0m\n\u001b[0;32m--> 439\u001b[0;31m         \u001b[0mX\u001b[0m \u001b[0;34m=\u001b[0m \u001b[0mcheck_array\u001b[0m\u001b[0;34m(\u001b[0m\u001b[0mX\u001b[0m\u001b[0;34m,\u001b[0m \u001b[0maccept_sparse\u001b[0m\u001b[0;34m=\u001b[0m\u001b[0;34m'csr'\u001b[0m\u001b[0;34m,\u001b[0m \u001b[0mdtype\u001b[0m\u001b[0;34m=\u001b[0m\u001b[0mnp\u001b[0m\u001b[0;34m.\u001b[0m\u001b[0mfloat64\u001b[0m\u001b[0;34m,\u001b[0m \u001b[0morder\u001b[0m\u001b[0;34m=\u001b[0m\u001b[0;34m\"C\"\u001b[0m\u001b[0;34m)\u001b[0m\u001b[0;34m\u001b[0m\u001b[0m\n\u001b[0m\u001b[1;32m    440\u001b[0m         \u001b[0;32mif\u001b[0m \u001b[0mself\u001b[0m\u001b[0;34m.\u001b[0m\u001b[0m_sparse\u001b[0m \u001b[0;32mand\u001b[0m \u001b[0;32mnot\u001b[0m \u001b[0msp\u001b[0m\u001b[0;34m.\u001b[0m\u001b[0misspmatrix\u001b[0m\u001b[0;34m(\u001b[0m\u001b[0mX\u001b[0m\u001b[0;34m)\u001b[0m\u001b[0;34m:\u001b[0m\u001b[0;34m\u001b[0m\u001b[0m\n\u001b[1;32m    441\u001b[0m             \u001b[0mX\u001b[0m \u001b[0;34m=\u001b[0m \u001b[0msp\u001b[0m\u001b[0;34m.\u001b[0m\u001b[0mcsr_matrix\u001b[0m\u001b[0;34m(\u001b[0m\u001b[0mX\u001b[0m\u001b[0;34m)\u001b[0m\u001b[0;34m\u001b[0m\u001b[0m\n",
      "\u001b[0;32m~/.local/lib/python3.6/site-packages/sklearn/utils/validation.py\u001b[0m in \u001b[0;36mcheck_array\u001b[0;34m(array, accept_sparse, dtype, order, copy, force_all_finite, ensure_2d, allow_nd, ensure_min_samples, ensure_min_features, warn_on_dtype, estimator)\u001b[0m\n\u001b[1;32m    439\u001b[0m                     \u001b[0;34m\"Reshape your data either using array.reshape(-1, 1) if \"\u001b[0m\u001b[0;34m\u001b[0m\u001b[0m\n\u001b[1;32m    440\u001b[0m                     \u001b[0;34m\"your data has a single feature or array.reshape(1, -1) \"\u001b[0m\u001b[0;34m\u001b[0m\u001b[0m\n\u001b[0;32m--> 441\u001b[0;31m                     \"if it contains a single sample.\".format(array))\n\u001b[0m\u001b[1;32m    442\u001b[0m             \u001b[0marray\u001b[0m \u001b[0;34m=\u001b[0m \u001b[0mnp\u001b[0m\u001b[0;34m.\u001b[0m\u001b[0matleast_2d\u001b[0m\u001b[0;34m(\u001b[0m\u001b[0marray\u001b[0m\u001b[0;34m)\u001b[0m\u001b[0;34m\u001b[0m\u001b[0m\n\u001b[1;32m    443\u001b[0m             \u001b[0;31m# To ensure that array flags are maintained\u001b[0m\u001b[0;34m\u001b[0m\u001b[0;34m\u001b[0m\u001b[0m\n",
      "\u001b[0;31mValueError\u001b[0m: Expected 2D array, got 1D array instead:\narray=[  0.   0.   0.   0.   0. 110. 246. 255. 255. 255. 255. 255. 255. 255.\n 255. 255. 255. 255. 255. 255. 255. 255. 255. 246. 110.   0.   0.   0.\n   0.   0.   0.   0.   0.  51. 126. 190. 251. 255. 255. 255. 255. 255.\n 255. 255. 255. 255. 255. 255. 255. 255. 255. 255. 255. 251. 190. 126.\n  51.   0.   0.   0.   0.  19.  53. 134. 236. 255. 255. 255. 255. 255.\n 255. 255. 255. 255. 255. 255. 255. 255. 255. 255. 255. 255. 255. 255.\n 255. 236. 134.  53.  19.   0.   0.  73. 202. 247. 254. 255. 255. 255.\n 255. 255. 255. 255. 255. 255. 255. 255. 255. 255. 255. 255. 255. 255.\n 255. 255. 255. 254. 247. 202.  73.   0.   0.  76. 212. 255. 255. 255.\n 255. 255. 255. 255. 255. 255. 227. 139.  89.  89. 139. 227. 255. 255.\n 255. 255. 255. 255. 255. 255. 255. 240. 192. 166.  89. 139. 227. 255.\n 255. 255. 255. 255. 255. 255. 246. 198. 138.  50.   0.   0.  50. 138.\n 166. 166. 204. 252. 255. 255. 255. 255. 255. 255. 255. 255. 255. 255.\n 255. 255. 255. 255. 255. 255. 255. 248. 218.  89.   0.   0.   0.   0.\n   0.   0.   0.   0. 110. 247. 255. 255. 255. 255. 255. 255. 255. 255.\n 255. 255. 255. 255. 255. 255. 255. 255. 249. 147.  57.  23.   0.   0.\n   0.   0.   0.   0.   0.   0. 110. 246. 255. 255. 255. 255. 255. 255.\n 255. 255. 140. 174. 236. 255. 255. 255. 255. 255. 250. 175. 103.  42.\n   0.   0.   0.   0.   0.   0.  42. 103. 175. 250. 255. 255. 255. 255.\n 255. 255. 255. 255.   0.  76. 212. 255. 255. 255. 255. 255. 255. 255.\n 233. 117.  32.  11.   0.   0.  11.  32. 117. 233. 255. 255. 255. 255.\n 255. 255. 255. 249. 228. 217.   0.  76. 212. 255. 255. 255. 255. 255.\n 255. 255. 251. 231. 181.  65.   0.   0.  65. 181. 231. 251. 255. 255.\n 255. 255. 255. 255. 255. 219. 103.  38.   0.  34.  96. 166. 241. 255.\n 255. 255. 255. 255. 255. 255. 236. 174. 140. 140. 174. 236. 255. 255.\n 255. 255. 255. 255. 255. 241. 166.  96.  34.   0.   0.   0.   0.  70.\n 172. 219. 253. 255. 255. 255. 255. 255. 255. 255. 255. 255. 255. 255.\n 255. 255. 255. 255. 255. 253. 219. 172.  70.   0.   0.   0.   0.   0.\n   0.   5.  11. 117. 247. 255. 255. 255. 255. 255. 255. 255. 255. 255.\n 255. 255. 255. 255. 255. 255. 255. 247. 117.  11.   5.   0.   0.   0.\n   0.   0.   0.  61. 149. 204. 252. 255. 255. 255. 255. 255. 255. 255.\n 255. 255. 255. 255. 255. 255. 255. 255. 255. 246. 110.   0.   0.   0.\n   0.   0.   0.  27.  74. 150. 238. 255. 255. 255. 255. 255. 255. 255.\n 255. 255. 255. 255. 255. 255. 255. 255. 255. 255. 255. 249. 161.  89.\n  89.  74.  27.   0.   0.  76. 212. 255. 255. 255. 255. 255. 255. 255.\n 255. 255. 253. 246. 242. 242. 246. 253. 255. 255. 255. 255. 255. 255.\n 255. 255. 255. 214.  85.  13.   0.  76. 212. 255. 255. 255. 255. 255.\n 255. 255. 255. 255. 223. 121.  64.  64. 121. 223. 255. 255. 255. 255.\n 255. 255. 255. 255. 255. 244. 210. 191. 115. 157. 232. 255. 255. 255.\n 255. 255. 255. 255. 243. 182. 117.  42.   0.   0.  42. 117. 140. 140.\n 190. 251. 255. 255. 255. 255. 255. 255. 255. 255. 255. 255. 255. 255.\n 255. 255. 255. 255. 254. 233. 195.  79.   0.   0.   0.   0.   0.   0.\n   0.   0. 110. 246. 255. 255. 255. 255. 255. 255. 255. 255. 255. 255.\n 255. 255. 255. 255. 255. 255. 248. 132.  34.  14.   0.   0.   0.   0.\n   0.   0.   0.   0. 110. 246. 255. 255. 255. 255. 255. 255. 255. 255.\n 255. 255. 255. 255. 255. 255. 255. 255. 246. 110.   0.   0.   0.   0.\n   0.   0.   0.   0.   0.   0. 110. 246. 255. 255. 255. 255. 255. 255.\n 255. 255. 255. 255. 255. 255. 255. 255. 255. 255. 246. 110.   0.   0.\n   0.   0.   0.   0.   0.   0.   0.   0. 110. 246. 255. 255. 255. 255.\n 255. 255. 255. 255. 255. 255. 255. 255. 255. 255. 255. 255. 247. 110.\n   0.   0.   0.   0.   0.   0.   0.   0.   0.   0. 110. 247. 255. 255.\n 255. 255. 255. 255. 255. 255. 255. 255. 255. 255. 255. 255. 255. 255.\n 252. 204. 166. 166. 138.  50.   0.   0.   0.   0.  61. 149. 204. 252.\n 255. 255. 255. 255. 255. 255. 255. 255. 166. 192. 240. 255. 255. 255.\n 255. 255. 255. 255. 255. 255. 227. 139.  89.  89.  89.  89. 150. 238.\n 255. 255. 255. 255. 255. 255. 255. 240. 192. 166.   0.  73. 202. 247.\n 254. 255. 255. 255. 255. 255. 255. 255. 255. 255. 255. 255. 255. 255.\n 255. 255. 255. 255. 255. 255. 255. 255. 255. 212.  76.   0.   0.  19.\n  53. 134. 236. 255. 255. 255. 255. 255. 255. 255. 255. 255. 255. 255.\n 255. 255. 255. 255. 255. 255. 255. 255. 255. 255. 255. 212.  76.   0.\n   0.   0.   0.  51. 126. 190. 251. 255. 255. 255. 255. 255. 255. 255.\n 255. 255. 255. 255. 255. 255. 255. 255. 255. 251. 190. 140. 140. 117.\n  42.   0.   0.   0.   0.   0.   0. 110. 246. 255. 255. 255. 255. 255.\n 255. 255. 255. 255. 255. 255. 255. 255. 255. 255. 255. 246. 110.   0.\n   0.   0.   0.   0.].\nReshape your data either using array.reshape(-1, 1) if your data has a single feature or array.reshape(1, -1) if it contains a single sample."
     ]
    }
   ],
   "source": [
    "clf.predict(test[0])"
   ]
  },
  {
   "cell_type": "code",
   "execution_count": null,
   "metadata": {
    "collapsed": true
   },
   "outputs": [],
   "source": []
  },
  {
   "cell_type": "code",
   "execution_count": null,
   "metadata": {
    "collapsed": true
   },
   "outputs": [],
   "source": []
  },
  {
   "cell_type": "code",
   "execution_count": null,
   "metadata": {
    "collapsed": true
   },
   "outputs": [],
   "source": []
  },
  {
   "cell_type": "code",
   "execution_count": null,
   "metadata": {
    "collapsed": true
   },
   "outputs": [],
   "source": [
    "fail here"
   ]
  },
  {
   "cell_type": "markdown",
   "metadata": {},
   "source": [
    "Before applying any other transformations, let's add padding to serve as buffer for the results that will be off center"
   ]
  },
  {
   "cell_type": "code",
   "execution_count": null,
   "metadata": {
    "collapsed": false
   },
   "outputs": [],
   "source": [
    "def padding(image, pixels=3):\n",
    "    return np.lib.pad(image, (pixels,pixels), 'constant', constant_values=(0,0))"
   ]
  },
  {
   "cell_type": "code",
   "execution_count": null,
   "metadata": {
    "collapsed": false
   },
   "outputs": [],
   "source": [
    "padded_iamges = [ padding(z) for z in images]"
   ]
  },
  {
   "cell_type": "code",
   "execution_count": null,
   "metadata": {
    "collapsed": false
   },
   "outputs": [],
   "source": [
    "pd.set_option('max_rows', 55)\n",
    "oneimage = pd.DataFrame(padded_iamges[0])\n",
    "print(oneimage)"
   ]
  },
  {
   "cell_type": "code",
   "execution_count": null,
   "metadata": {
    "collapsed": false
   },
   "outputs": [],
   "source": [
    "pd.reset_option('max_rows')"
   ]
  },
  {
   "cell_type": "code",
   "execution_count": null,
   "metadata": {
    "collapsed": false
   },
   "outputs": [],
   "source": [
    "show_all(padded_iamges)"
   ]
  },
  {
   "cell_type": "markdown",
   "metadata": {},
   "source": [
    "One of the warping procedures will be [rotating at the center](https://stackoverflow.com/questions/25895587/python-skimage-transform-affinetransform-rotation-center)"
   ]
  },
  {
   "cell_type": "code",
   "execution_count": null,
   "metadata": {
    "collapsed": false
   },
   "outputs": [],
   "source": [
    "def center_rotate(image, degrees):\n",
    "    shift_y, shift_x = np.array(image.shape[:2]) / 2. \n",
    "    # I guess the shape[:2] is to cut off a 3rd color dimension\n",
    "    tf_rotate = tf.SimilarityTransform(rotation=np.deg2rad(degrees))\n",
    "    tf_shift = tf.SimilarityTransform(translation=[-shift_x, -shift_y])\n",
    "    tf_shift_inv = tf.SimilarityTransform(translation=[shift_x, shift_y])\n",
    "\n",
    "    image_rotated = tf.warp(image, (tf_shift + (tf_rotate + tf_shift_inv)).inverse)\n",
    "    # so it shifts the center of the image to the origin point, then rotates, and then\n",
    "    # shifts back the center of the image to the center of the \"canvas\"\n",
    "    # All the \"transforms\" are matrices - why exactly this arithmetic works ...\n",
    "    return image_rotated\n",
    "    \n",
    "    "
   ]
  },
  {
   "cell_type": "markdown",
   "metadata": {},
   "source": [
    "Apply different degree of transformation:"
   ]
  },
  {
   "cell_type": "code",
   "execution_count": null,
   "metadata": {
    "collapsed": true
   },
   "outputs": [],
   "source": [
    "pad_n_rot = []\n",
    "for i in padded_iamges:\n",
    "   pad_n_rot += [ center_rotate(i, z) for z in range(-10,15,5) ]"
   ]
  },
  {
   "cell_type": "markdown",
   "metadata": {},
   "source": [
    "Display the transformations"
   ]
  },
  {
   "cell_type": "code",
   "execution_count": null,
   "metadata": {
    "collapsed": true
   },
   "outputs": [],
   "source": [
    "def grouper(iterable, n, fillvalue=None):\n",
    "    \"Collect data into fixed-length chunks or blocks\"\n",
    "    # grouper('ABCDEFG', 3, 'x') --> ABC DEF Gxx\"\n",
    "    args = [iter(iterable)] * n\n",
    "    return itertools.zip_longest(*args, fillvalue=fillvalue)"
   ]
  },
  {
   "cell_type": "code",
   "execution_count": null,
   "metadata": {
    "collapsed": false
   },
   "outputs": [],
   "source": [
    "show_all(pad_n_rot)"
   ]
  },
  {
   "cell_type": "code",
   "execution_count": null,
   "metadata": {
    "collapsed": true
   },
   "outputs": [],
   "source": [
    "def scale_up(image, pixels=3):\n",
    "    resized = tf.resize(image,(image.shape[0]+pixels*2,image.shape[1]+pixels*2), mode='edge')\n",
    "    return resized[pixels:-pixels, pixels:-pixels]"
   ]
  },
  {
   "cell_type": "code",
   "execution_count": null,
   "metadata": {
    "collapsed": false
   },
   "outputs": [],
   "source": [
    "scaled = [ scale_up(z) for z in padded_iamges ]"
   ]
  },
  {
   "cell_type": "code",
   "execution_count": null,
   "metadata": {
    "collapsed": false
   },
   "outputs": [],
   "source": [
    "show_all(padded_iamges + scaled)"
   ]
  },
  {
   "cell_type": "code",
   "execution_count": null,
   "metadata": {
    "collapsed": true
   },
   "outputs": [],
   "source": [
    "def scale_down(image, pixels=3):\n",
    "    resized = tf.resize(image,(image.shape[0]+pixels*2,image.shape[1]+pixels*2), mode='edge')\n",
    "    return padding(resized, pixels)"
   ]
  },
  {
   "cell_type": "code",
   "execution_count": null,
   "metadata": {
    "collapsed": false
   },
   "outputs": [],
   "source": [
    "scaled = [ scale_down(z) for z in padded_iamges ]\n",
    "show_all(padded_iamges + scaled)"
   ]
  },
  {
   "cell_type": "code",
   "execution_count": null,
   "metadata": {
    "collapsed": false
   },
   "outputs": [],
   "source": [
    "oneimage.shape"
   ]
  },
  {
   "cell_type": "code",
   "execution_count": null,
   "metadata": {
    "collapsed": false
   },
   "outputs": [],
   "source": [
    "resized = tf.resize(oneimage,(46,36), mode='edge')\n",
    "reform = resized[3:-3,3:-3]"
   ]
  },
  {
   "cell_type": "code",
   "execution_count": null,
   "metadata": {
    "collapsed": false
   },
   "outputs": [],
   "source": [
    "plt.figure(figsize=(20, 14));\n",
    "ax = plt.subplot(1, 3, 1);\n",
    "plt.imshow(oneimage);\n",
    "plt.gray()\n",
    "ax = plt.subplot(1, 3, 2);\n",
    "plt.imshow(resized);\n",
    "plt.gray()\n",
    "ax = plt.subplot(1, 3, 3);\n",
    "plt.imshow(reform);\n",
    "plt.gray()"
   ]
  },
  {
   "cell_type": "code",
   "execution_count": null,
   "metadata": {
    "collapsed": false
   },
   "outputs": [],
   "source": [
    "[ print(z.shape) for z in [oneimage, resized]]"
   ]
  },
  {
   "cell_type": "markdown",
   "metadata": {},
   "source": [
    "Another transformation will be translation"
   ]
  },
  {
   "cell_type": "code",
   "execution_count": null,
   "metadata": {
    "collapsed": true
   },
   "outputs": [],
   "source": []
  }
 ],
 "metadata": {
  "kernelspec": {
   "display_name": "Python 3",
   "language": "python",
   "name": "python3"
  },
  "language_info": {
   "codemirror_mode": {
    "name": "ipython",
    "version": 3
   },
   "file_extension": ".py",
   "mimetype": "text/x-python",
   "name": "python",
   "nbconvert_exporter": "python",
   "pygments_lexer": "ipython3",
   "version": "3.6.3"
  }
 },
 "nbformat": 4,
 "nbformat_minor": 2
}
