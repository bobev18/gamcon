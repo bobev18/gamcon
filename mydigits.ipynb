{
 "cells": [
  {
   "cell_type": "code",
   "execution_count": 87,
   "metadata": {
    "collapsed": false
   },
   "outputs": [
    {
     "name": "stdout",
     "output_type": "stream",
     "text": [
      "[(-0.15707963267948966, 1.9753766811902755), (-0.07853981633974483, 1.993834667466256), (0.0, 2.0), (0.07853981633974483, 1.993834667466256), (0.15707963267948966, 1.9753766811902755)]\n"
     ]
    },
    {
     "data": {
      "image/png": "[encoded data removed]",
      "text/plain": [
       "<matplotlib.figure.Figure at 0x7ffaffcd8d30>"
      ]
     },
     "metadata": {},
     "output_type": "display_data"
    }
   ],
   "source": [
    "import math\n",
    "import numpy as np\n",
    "import matplotlib.pyplot as plt\n",
    "\n",
    "# from skimage import data\n",
    "from skimage import transform as tf\n",
    "from skimage.transform import rotate\n",
    "\n",
    "RESIZED_IMAGE_WIDTH = 20\n",
    "RESIZED_IMAGE_HEIGHT = 30\n",
    "\n",
    "classifications = np.loadtxt(\"classifications.txt\") #, , fmt='%i')\n",
    "flattened_images = np.loadtxt(\"flattened_images.txt\")#,  fmt='%i')\n",
    "\n",
    "def center_rotate(image, degrees):\n",
    "    shift_y, shift_x = np.array(image.shape[:2]) / 2. \n",
    "    # I guess the shape[:2] is to cut off a 3rd color dimension\n",
    "    tf_rotate = tf.SimilarityTransform(rotation=np.deg2rad(degrees))\n",
    "    tf_shift = tf.SimilarityTransform(translation=[-shift_x, -shift_y])\n",
    "    tf_shift_inv = tf.SimilarityTransform(translation=[shift_x, shift_y])\n",
    "\n",
    "    image_rotated = tf.warp(image, (tf_shift + (tf_rotate + tf_shift_inv)).inverse)\n",
    "    # so it shifts the center of the image to the origin point, then rotates, and then\n",
    "    # shifts back the center of the image to the center of the \"canvas\"\n",
    "    # All the \"transforms\" are matrices - why exactly this arithmetic works ...\n",
    "    return image_rotated\n",
    "    \n",
    "    \n",
    "\n",
    "images = [ np.reshape(z, (RESIZED_IMAGE_HEIGHT, -1)) for z in flattened_images ]\n",
    "\n",
    "step = 0.15707963267948966 # math.pi/20\n",
    "step = 0.07853981633974483 # pi/40\n",
    "degrees = [ z*step for z in range(-2,3) ]\n",
    "print([(z,2*math.cos(z)) for z in degrees ])\n",
    "transfms2 = [ tf.SimilarityTransform(rotation=z) for z in degrees ]\n",
    "transfms3 = [ tf.SimilarityTransform(rotation=z, translation=(0, -2*math.cos(z))) for z in degrees ]\n",
    "transfms4 = [ tf.SimilarityTransform(translation=(z, 0)) for z in range(0,10,2) ]\n",
    "transfms5 = [ tf.SimilarityTransform(rotation=(math.pi/4)),\n",
    "           tf.SimilarityTransform(rotation=(math.pi/4), translation=(0,RESIZED_IMAGE_HEIGHT*math.sin(math.pi/4)/2)),\n",
    "           tf.SimilarityTransform(rotation=(math.pi/4), translation=(0,-RESIZED_IMAGE_HEIGHT*math.sin(math.pi/4)/2))]\n",
    "tform = tf.SimilarityTransform(scale=1.1, translation=(-5, 0)) # negative values translate to the right?!\n",
    "\n",
    "# first item in the translation tuple is for the horizontal direction; positive values move it left\n",
    "# second item in the translation tuple is for the vertical direction; positive values move it up\n",
    "# positive rotation angle rotates couter-clockwise; rotations are centered at the top left corner\n",
    "# translation is applied prior to rotation?\n",
    "\n",
    "# print(classifications[0], tf.warp(images[0], tform))\n",
    "\n",
    "\n",
    "\n",
    "def transform(image):\n",
    "    padded = np.lib.pad(image, (2,2), 'constant', constant_values=0)\n",
    "    translated = tf.warp(padded, tform)\n",
    "    \n",
    "    further = [ tf.warp(padded, z) for z in transfms]\n",
    "    \n",
    "    return [padded,] + further\n",
    "#     return further\n",
    "\n",
    "workimage = images[0]\n",
    "trans = transform(workimage)\n",
    "trans = [ center_rotate(workimage, z) for z in range(-10,15,5)]\n",
    "\n",
    "# print(trans)\n",
    "\n",
    "fig, ax = plt.subplots(ncols=len(trans)+1, sharex=False, sharey=False)\n",
    "\n",
    "ax[0].imshow(workimage, cmap=plt.cm.gray)\n",
    "# ax[0].axis('off')\n",
    "for i in range(len(trans)):\n",
    "  ax[i+1].imshow(trans[i], cmap=plt.cm.gray)\n",
    "  ax[i+1].axis('off')\n",
    "\n",
    "\n",
    "plt.show()\n",
    "\n",
    "# shift_y, shift_x = np.array(workimage.shape[:2]) / 2. \n",
    "# # I guess the shape[:2] is to cut off a 3rd color dimension\n",
    "# tf_rotate = tf.SimilarityTransform(rotation=np.deg2rad(30))\n",
    "# tf_shift = tf.SimilarityTransform(translation=[-shift_x, -shift_y])\n",
    "# tf_shift_inv = tf.SimilarityTransform(translation=[shift_x, shift_y])\n",
    "\n",
    "# image_rotated = tf.warp(workimage, (tf_shift + (tf_rotate + tf_shift_inv)).inverse)\n",
    "\n",
    "\n",
    "# plt.imshow(image_rotated)\n",
    "# plt.show()\n",
    "\n"
   ]
  }
 ],
 "metadata": {
  "kernelspec": {
   "display_name": "Python 3",
   "language": "python",
   "name": "python3"
  },
  "language_info": {
   "codemirror_mode": {
    "name": "ipython",
    "version": 3
   },
   "file_extension": ".py",
   "mimetype": "text/x-python",
   "name": "python",
   "nbconvert_exporter": "python",
   "pygments_lexer": "ipython3",
   "version": "3.6.3"
  }
 },
 "nbformat": 4,
 "nbformat_minor": 2
}
