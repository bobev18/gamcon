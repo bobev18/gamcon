{
 "cells": [
  {
   "cell_type": "code",
   "execution_count": 185,
   "metadata": {
    "collapsed": true
   },
   "outputs": [],
   "source": [
    "import os\n",
    "import math\n",
    "import numpy as np\n",
    "import matplotlib.pyplot as plt\n",
    "import itertools\n",
    "\n",
    "# from skimage import data\n",
    "from skimage import transform as tf\n",
    "from skimage.transform import rotate\n",
    "\n",
    "import cv2\n",
    "\n",
    "MIN_CONTOUR_AREA = 30\n",
    "RESIZED_IMAGE_WIDTH = 20\n",
    "RESIZED_IMAGE_HEIGHT = 30\n",
    "\n",
    "SAMPLES_COUNT = 1002\n",
    "SCORE_COLOR = [235,235,235]\n",
    "\n",
    "# SAMPLE_FOLDER = 'F:\\projlogs\\gamcon_samples'\n",
    "SAMPLE_FOLDER = \"/mnt/hgfs/projlogs/gamcon_samples\""
   ]
  },
  {
   "cell_type": "code",
   "execution_count": 2,
   "metadata": {
    "collapsed": true
   },
   "outputs": [],
   "source": [
    "def grouper(iterable, n, fillvalue=None):\n",
    "    \"Collect data into fixed-length chunks or blocks\"\n",
    "    # grouper('ABCDEFG', 3, 'x') --> ABC DEF Gxx\"\n",
    "    args = [iter(iterable)] * n\n",
    "    return itertools.zip_longest(*args, fillvalue=fillvalue)"
   ]
  },
  {
   "cell_type": "code",
   "execution_count": 3,
   "metadata": {
    "collapsed": true
   },
   "outputs": [],
   "source": [
    "def show_raw(images, labels):\n",
    "    fig, ax = plt.subplots(ncols=len(images), sharex=False, sharey=False)\n",
    "    for i in range(len(images)):\n",
    "        ax[i].imshow(images[i], cmap=plt.cm.gray)\n",
    "        ax[i].axis('off')\n",
    "        if labels is not None:\n",
    "            ax[i].set_title(labels[i])\n",
    "\n",
    "    plt.show()"
   ]
  },
  {
   "cell_type": "code",
   "execution_count": 4,
   "metadata": {
    "collapsed": true
   },
   "outputs": [],
   "source": [
    "def show_all(images, labels=None):\n",
    "    if labels is not None:\n",
    "        image_sets = list(grouper(images, 6, np.zeros(images[0].shape, dtype=np.int)))\n",
    "        label_sets = list(grouper(labels, 6, ''))\n",
    "        for i, image_set in enumerate(image_sets):\n",
    "            show_raw(image_set, labels=label_sets[i])\n",
    "    else:\n",
    "        [ show_raw(z, ['']*6) for z in grouper(images, 6, np.zeros(images[0].shape, dtype=np.int)) ]"
   ]
  },
  {
   "cell_type": "code",
   "execution_count": 32,
   "metadata": {
    "collapsed": true
   },
   "outputs": [],
   "source": [
    "def preprocess_score_image(original, verbose=0):\n",
    "    gray = cv2.cvtColor(original, cv2.COLOR_BGR2GRAY)\n",
    "    _, bw_image = cv2.threshold(gray, 200, 255, cv2.THRESH_BINARY)\n",
    "    if verbose > 0:\n",
    "        plt.imshow(bw_image);\n",
    "        plt.show();\n",
    "    image = bw_image.copy()\n",
    "    img_contours, npa_contours, npa_hierarchy = cv2.findContours(image,\n",
    "                                                 cv2.RETR_EXTERNAL,\n",
    "                                                 cv2.CHAIN_APPROX_SIMPLE)\n",
    "\n",
    "    digits = []\n",
    "    not_original = original.copy()\n",
    "    for i, npa_contour in enumerate(npa_contours):\n",
    "        if cv2.contourArea(npa_contour) > MIN_CONTOUR_AREA:\n",
    "            [intX, intY, intW, intH] = cv2.boundingRect(npa_contour)\n",
    "            if verbose > 0:\n",
    "                print(i, [intX, intY, intW, intH])\n",
    "            cv2.rectangle(not_original, (intX, intY), (intX+intW,intY+intH), (0, 0, 255), 1)\n",
    "            if verbose > 0:\n",
    "                plt.imshow(not_original);\n",
    "                plt.show();\n",
    "            imgROI = image[intY:intY+intH, intX:intX+intW]\n",
    "            resized = cv2.resize(imgROI, (RESIZED_IMAGE_WIDTH, RESIZED_IMAGE_HEIGHT))\n",
    "            flattened = resized.reshape((1, RESIZED_IMAGE_WIDTH * RESIZED_IMAGE_HEIGHT))\n",
    "            digits.append((intX, flattened,))\n",
    "\n",
    "    flattened_digits =  np.empty((0, RESIZED_IMAGE_WIDTH * RESIZED_IMAGE_HEIGHT), dtype=np.int)\n",
    "    for _, digit in sorted(digits, key=lambda z: z[0]):\n",
    "        flattened_digits = np.append(flattened_digits, digit, 0)\n",
    "\n",
    "    return flattened_digits"
   ]
  },
  {
   "cell_type": "code",
   "execution_count": 6,
   "metadata": {
    "collapsed": false
   },
   "outputs": [
    {
     "name": "stdout",
     "output_type": "stream",
     "text": [
      "1002 ['0', '0', '0', '0', '0', '0', '4', '12', '12', '16', '20', '28', '28', '28', '28']\n",
      "3175\n",
      "3175 ['0', '0', '0', '0', '0', '0', '4', '1', '2', '1', '2', '1', '6', '2', '0']\n"
     ]
    }
   ],
   "source": [
    "# load classifications\n",
    "classifications = []\n",
    "with open(os.path.join(SAMPLE_FOLDER, 'score_smaples_values.txt'), 'rt') as f:\n",
    "    test = [ z.strip() for z in f.readlines()]\n",
    "    classifications = list(itertools.chain.from_iterable(test))\n",
    "    # classifications.extend([z for z in chars])\n",
    "\n",
    "print(len(test), test[:15])\n",
    "print(sum([len(z) for z in test]))\n",
    "print(len(classifications), classifications[:15])"
   ]
  },
  {
   "cell_type": "code",
   "execution_count": 33,
   "metadata": {
    "collapsed": false
   },
   "outputs": [
    {
     "data": {
      "text/plain": [
       "<matplotlib.image.AxesImage at 0x7f748ad00f60>"
      ]
     },
     "execution_count": 33,
     "metadata": {},
     "output_type": "execute_result"
    },
    {
     "data": {
      "image/png": "[encoded data removed]",
      "text/plain": [
       "<matplotlib.figure.Figure at 0x7f748ad5bb70>"
      ]
     },
     "metadata": {},
     "output_type": "display_data"
    }
   ],
   "source": [
    "test_image = cv2.imread(os.path.join(SAMPLE_FOLDER, 'sample_8.png'))\n",
    "plt.imshow(test_image)"
   ]
  },
  {
   "cell_type": "code",
   "execution_count": 34,
   "metadata": {
    "collapsed": false
   },
   "outputs": [
    {
     "data": {
      "image/png": "[encoded data removed]",
      "text/plain": [
       "<matplotlib.figure.Figure at 0x7f748ad5b860>"
      ]
     },
     "metadata": {},
     "output_type": "display_data"
    },
    {
     "name": "stdout",
     "output_type": "stream",
     "text": [
      "5 [28, 4, 8, 17]\n"
     ]
    },
    {
     "data": {
      "image/png": "[encoded data removed]",
      "text/plain": [
       "<matplotlib.figure.Figure at 0x7f748ac6e5c0>"
      ]
     },
     "metadata": {},
     "output_type": "display_data"
    }
   ],
   "source": [
    "if MIN_CONTOUR_AREA < 30:\n",
    "    MIN_CONTOUR_AREA = 30\n",
    "parts = preprocess_score_image(test_image, verbose=1)"
   ]
  },
  {
   "cell_type": "code",
   "execution_count": 35,
   "metadata": {
    "collapsed": false
   },
   "outputs": [
    {
     "data": {
      "image/png": "[encoded data removed]",
      "text/plain": [
       "<matplotlib.figure.Figure at 0x7f748ad00550>"
      ]
     },
     "metadata": {},
     "output_type": "display_data"
    },
    {
     "name": "stdout",
     "output_type": "stream",
     "text": [
      "2 [42, 18, 13, 3]\n"
     ]
    },
    {
     "data": {
      "image/png": "[encoded data removed]",
      "text/plain": [
       "<matplotlib.figure.Figure at 0x7f748ad1e080>"
      ]
     },
     "metadata": {},
     "output_type": "display_data"
    },
    {
     "name": "stdout",
     "output_type": "stream",
     "text": [
      "3 [42, 5, 4, 3]\n"
     ]
    },
    {
     "data": {
      "image/png": "[encoded data removed]",
      "text/plain": [
       "<matplotlib.figure.Figure at 0x7f748ac6abe0>"
      ]
     },
     "metadata": {},
     "output_type": "display_data"
    },
    {
     "name": "stdout",
     "output_type": "stream",
     "text": [
      "4 [49, 4, 5, 12]\n"
     ]
    },
    {
     "data": {
      "image/png": "[encoded data removed]",
      "text/plain": [
       "<matplotlib.figure.Figure at 0x7f748ad0b470>"
      ]
     },
     "metadata": {},
     "output_type": "display_data"
    },
    {
     "name": "stdout",
     "output_type": "stream",
     "text": [
      "5 [28, 4, 8, 17]\n"
     ]
    },
    {
     "data": {
      "image/png": "[encoded data removed]",
      "text/plain": [
       "<matplotlib.figure.Figure at 0x7f748ac14400>"
      ]
     },
     "metadata": {},
     "output_type": "display_data"
    }
   ],
   "source": [
    "MIN_CONTOUR_AREA = 2\n",
    "parts = preprocess_score_image(test_image, verbose=1)"
   ]
  },
  {
   "cell_type": "code",
   "execution_count": 96,
   "metadata": {
    "collapsed": false
   },
   "outputs": [
    {
     "data": {
      "text/plain": [
       "(28, 80, 3)"
      ]
     },
     "execution_count": 96,
     "metadata": {},
     "output_type": "execute_result"
    }
   ],
   "source": [
    "test_image.shape"
   ]
  },
  {
   "cell_type": "code",
   "execution_count": 118,
   "metadata": {
    "collapsed": false
   },
   "outputs": [],
   "source": [
    "def col_filter(image, color, threshold=20):\n",
    "    # filters specific color from the image\n",
    "    lower = np.array([ z-threshold for z in color ])\n",
    "    upper = np.array([ z+threshold for z in color ])\n",
    "#     print('filtering by color range:', lower, upper)\n",
    "    mask = cv2.inRange(image, lower, upper)\n",
    "    res = cv2.bitwise_and(image, image, mask= mask)\n",
    "    # cv2.GaussianBlur(res, (5,5), 0);\n",
    "    res = cv2.medianBlur(res, 1);\n",
    "    res = cv2.medianBlur(mask, 1);\n",
    "\n",
    "    return res"
   ]
  },
  {
   "cell_type": "code",
   "execution_count": 251,
   "metadata": {
    "collapsed": false
   },
   "outputs": [],
   "source": [
    "def split_rois(image, color=[185, 172, 160], corner_cut_size=1, verbose=0):\n",
    "    \n",
    "    def find_range_start_end(sumlist):\n",
    "        region_detected = False\n",
    "        region_start = 0\n",
    "        for i in range(len(sumlist)):\n",
    "            if sumlist[i] > 0 and not region_detected:\n",
    "                region_detected = True\n",
    "                region_start = i\n",
    "\n",
    "            if sumlist[i] == 0 and region_detected:\n",
    "                break\n",
    "\n",
    "        return region_start, i\n",
    "    \n",
    "    \n",
    "    if verbose > 0:\n",
    "        plt.imshow(image);\n",
    "        plt.show();\n",
    "        \n",
    "    # filter by color\n",
    "    workscreen = col_filter(image, color=color, threshold=20)\n",
    "    \n",
    "    if verbose > 0:\n",
    "        plt.imshow(workscreen);\n",
    "        plt.show();\n",
    "\n",
    "    # sum over axis \"0\" i.e. sum the filterd color pixels in each column\n",
    "    v_sums = workscreen.sum(0)\n",
    "    if verbose > 0:\n",
    "        print('h_sums lenght prior to corner cut:', len(v_sums))\n",
    "    \n",
    "    # cut corners (because of the round edges of the UI element, there are light color pixels in the corners of the img)\n",
    "    v_sums = v_sums[corner_cut_size:-corner_cut_size]\n",
    "    \n",
    "    if verbose > 0:\n",
    "        print(v_sums)\n",
    "    \n",
    "    zones = []\n",
    "    consider_x = 0\n",
    "    for delme in range(100):\n",
    "        start_x, end_x = find_range_start_end(v_sums[consider_x:])\n",
    "        \n",
    "        # because find_range_start_end gives results relative to the input\n",
    "        start_x +=  consider_x\n",
    "        end_x += consider_x\n",
    "        \n",
    "        subimage = image[0:workscreen.shape[0], start_x:end_x + 1]\n",
    "        consider_x = end_x + 1\n",
    "        \n",
    "        if verbose > 0:\n",
    "            print(delme, start_x, end_x)\n",
    "            \n",
    "        zones.append([subimage, start_x, end_x])\n",
    "        if start_x == consider_x or sum(v_sums[consider_x:]) == 0:\n",
    "            break\n",
    "    \n",
    "    return zones"
   ]
  },
  {
   "cell_type": "code",
   "execution_count": 132,
   "metadata": {
    "collapsed": false
   },
   "outputs": [
    {
     "data": {
      "image/png": "[encoded data removed]",
      "text/plain": [
       "<matplotlib.figure.Figure at 0x7f748adb5a90>"
      ]
     },
     "metadata": {},
     "output_type": "display_data"
    },
    {
     "data": {
      "image/png": "[encoded data removed]",
      "text/plain": [
       "<matplotlib.figure.Figure at 0x7f748a93fa20>"
      ]
     },
     "metadata": {},
     "output_type": "display_data"
    },
    {
     "name": "stdout",
     "output_type": "stream",
     "text": [
      "h_sums lenght prior to corner cut: 80\n",
      "[   0    0    0    0    0    0    0    0    0    0    0    0    0    0\n",
      "    0    0    0    0    0    0    0    0    0    0    0    0    0  510\n",
      "  510  765  765 3060 3570 4335    0    0    0    0    0    0    0  765\n",
      " 1275 1275  765  510  765  765 2040 3570 3060 2295 1275  765    0    0\n",
      "    0    0    0    0    0    0    0    0    0    0    0    0    0    0\n",
      "    0    0    0    0    0    0    0    0]\n",
      "0 27 34\n",
      "1 41 54\n",
      "[[27, 34], [41, 54]]\n"
     ]
    }
   ],
   "source": [
    "zones = split_rois(test_image, color=[235,235,235], verbose=1)\n",
    "print([z[1:] for z in zones ])\n",
    "# plt.imshow(i);"
   ]
  },
  {
   "cell_type": "code",
   "execution_count": 133,
   "metadata": {
    "collapsed": false
   },
   "outputs": [
    {
     "data": {
      "image/png": "[encoded data removed]",
      "text/plain": [
       "<matplotlib.figure.Figure at 0x7f748ad911d0>"
      ]
     },
     "metadata": {},
     "output_type": "display_data"
    },
    {
     "data": {
      "image/png": "[encoded data removed]",
      "text/plain": [
       "<matplotlib.figure.Figure at 0x7f748ac85ac8>"
      ]
     },
     "metadata": {},
     "output_type": "display_data"
    }
   ],
   "source": [
    "for sub in [ z[0] for z in zones ]:\n",
    "    plt.imshow(sub);\n",
    "    plt.show();"
   ]
  },
  {
   "cell_type": "code",
   "execution_count": 148,
   "metadata": {
    "collapsed": false
   },
   "outputs": [
    {
     "data": {
      "image/png": "[encoded data removed]",
      "text/plain": [
       "<matplotlib.figure.Figure at 0x7f748ae7a7b8>"
      ]
     },
     "metadata": {},
     "output_type": "display_data"
    },
    {
     "data": {
      "image/png": "[encoded data removed]",
      "text/plain": [
       "<matplotlib.figure.Figure at 0x7f748ab537b8>"
      ]
     },
     "metadata": {},
     "output_type": "display_data"
    },
    {
     "data": {
      "image/png": "[encoded data removed]",
      "text/plain": [
       "<matplotlib.figure.Figure at 0x7f748ae48208>"
      ]
     },
     "metadata": {},
     "output_type": "display_data"
    },
    {
     "name": "stdout",
     "output_type": "stream",
     "text": [
      "h_sums lenght prior to corner cut: 81\n",
      "[   0    0    0    0    0    0    0    0    0    0    0    0    0    0\n",
      "    0    0    0    0    0    0    0    0    0    0    0    0    0    0\n",
      " 1275 1275 1275 1785 2040 3570 4335 4335 3825  255    0    0    0  255\n",
      " 1020 1020  765    0    0  255  510 3570 4335 4335  765  765    0    0\n",
      "    0    0    0    0    0    0    0    0    0    0    0    0    0    0\n",
      "    0    0    0    0    0    0    0    0    0]\n",
      "0 28 38\n",
      "1 41 45\n",
      "2 47 54\n"
     ]
    },
    {
     "data": {
      "image/png": "[encoded data removed]",
      "text/plain": [
       "<matplotlib.figure.Figure at 0x7f748af2b2e8>"
      ]
     },
     "metadata": {},
     "output_type": "display_data"
    },
    {
     "data": {
      "image/png": "[encoded data removed]",
      "text/plain": [
       "<matplotlib.figure.Figure at 0x7f748ad93a90>"
      ]
     },
     "metadata": {},
     "output_type": "display_data"
    },
    {
     "data": {
      "image/png": "[encoded data removed]",
      "text/plain": [
       "<matplotlib.figure.Figure at 0x7f748af163c8>"
      ]
     },
     "metadata": {},
     "output_type": "display_data"
    }
   ],
   "source": [
    "# ti2 = cv2.imread(os.path.join(SAMPLE_FOLDER, 'sample_344.png'))\n",
    "# ti2 = cv2.imread(os.path.join(SAMPLE_FOLDER, 'sample_346.png'))\n",
    "ti2 = cv2.imread(os.path.join(SAMPLE_FOLDER, 'sample_20.png'))\n",
    "plt.imshow(ti2);\n",
    "plt.show();\n",
    "zones = split_rois(ti2, color=[235,235,235], verbose=1)\n",
    "for sub in [ z[0] for z in zones ]:\n",
    "    plt.imshow(sub);\n",
    "    plt.show();"
   ]
  },
  {
   "cell_type": "code",
   "execution_count": 205,
   "metadata": {
    "collapsed": true
   },
   "outputs": [],
   "source": [
    "def merge_small_parts(zones, image, verbose=0):\n",
    "    part_sizes = ([ z[2]-z[1] for z in zones ])\n",
    "    new_zones = []\n",
    "    \n",
    "    if verbose > 0:\n",
    "        print('# zones', len(zones))\n",
    "    i = 1\n",
    "    while i < len(zones) + 1:\n",
    "        if verbose > 0:\n",
    "            print('processing zones', i-1, '&', i)\n",
    "        if part_sizes[i-1] < 7 and part_sizes[i] <= 11:\n",
    "            subimage = image[0:image.shape[0], zones[i-1][1]:zones[i][2]+1]\n",
    "            new_zones.append([subimage, zones[i-1][1], zones[i][2]])\n",
    "            i += 1\n",
    "            if verbose > 0:\n",
    "                print('merged, thuse increased cycle to:', i-1, '&', i)\n",
    "        else:\n",
    "            new_zones.append(zones[i-1])\n",
    "            \n",
    "        i += 1\n",
    "        if verbose > 0:\n",
    "            print('ending=?', i, len(zones) +1, i == len(zones) +1 )\n",
    "    \n",
    "    if verbose > 0:\n",
    "        print([z[1:] for z in new_zones])\n",
    "    \n",
    "    return new_zones  "
   ]
  },
  {
   "cell_type": "code",
   "execution_count": 250,
   "metadata": {
    "collapsed": true
   },
   "outputs": [],
   "source": [
    "def rois(image, corner_cut_size=1, verbose=0):\n",
    "    zones = split_rois(image, color=SCORE_COLOR, corner_cut_size=corner_cut_size, verbose=verbose)\n",
    "#     if verbose > 0:\n",
    "#         print(len(zones))\n",
    "    zones = merge_small_parts(zones, image, verbose=verbose)\n",
    "#     if verbose > 0:\n",
    "#         print(len(zones))\n",
    "        \n",
    "    return zones"
   ]
  },
  {
   "cell_type": "code",
   "execution_count": 216,
   "metadata": {
    "collapsed": false
   },
   "outputs": [
    {
     "data": {
      "image/png": "[encoded data removed]",
      "text/plain": [
       "<matplotlib.figure.Figure at 0x7f748a8ed240>"
      ]
     },
     "metadata": {},
     "output_type": "display_data"
    },
    {
     "data": {
      "image/png": "[encoded data removed]",
      "text/plain": [
       "<matplotlib.figure.Figure at 0x7f748ab1d898>"
      ]
     },
     "metadata": {},
     "output_type": "display_data"
    },
    {
     "data": {
      "image/png": "[encoded data removed]",
      "text/plain": [
       "<matplotlib.figure.Figure at 0x7f748acd7160>"
      ]
     },
     "metadata": {},
     "output_type": "display_data"
    },
    {
     "name": "stdout",
     "output_type": "stream",
     "text": [
      "h_sums lenght prior to corner cut: 79\n",
      "[   0    0    0    0    0    0    0    0    0    0    0    0    0    0\n",
      "    0    0    0    0    0    0    0    0    0    0    0    0 2040 2805\n",
      " 3060 2295 1785 1530 2295 2805 3825 1020  255    0    0    0  765 2040\n",
      " 2040 1275  510  765  765 2295 3570 4080 3315 2295    0    0    0    0\n",
      "    0    0    0    0    0    0    0    0    0    0    0    0    0    0\n",
      "    0    0    0    0    0    0    0]\n",
      "0 26 37\n",
      "1 40 52\n",
      "# zones 2\n",
      "processing zones 0 & 1\n",
      "ending=? 2 3 False\n",
      "processing zones 1 & 2\n",
      "ending=? 3 3 True\n",
      "[[26, 37], [40, 52]]\n"
     ]
    },
    {
     "data": {
      "image/png": "[encoded data removed]",
      "text/plain": [
       "<matplotlib.figure.Figure at 0x7f748ae7a668>"
      ]
     },
     "metadata": {},
     "output_type": "display_data"
    },
    {
     "data": {
      "image/png": "[encoded data removed]",
      "text/plain": [
       "<matplotlib.figure.Figure at 0x7f748a686588>"
      ]
     },
     "metadata": {},
     "output_type": "display_data"
    }
   ],
   "source": [
    "# ti3 = cv2.imread(os.path.join(SAMPLE_FOLDER, 'sample_344.png'))\n",
    "# ti3 = cv2.imread(os.path.join(SAMPLE_FOLDER, 'sample_346.png'))\n",
    "# ti3 = cv2.imread(os.path.join(SAMPLE_FOLDER, 'sample_20.png'))\n",
    "ti3 = cv2.imread(os.path.join(SAMPLE_FOLDER, 'sample_43.png'))\n",
    "plt.imshow(ti3);\n",
    "plt.show();\n",
    "# zones = split_rois(ti3, color=[235,235,235], verbose=1)\n",
    "# zones = merge_small_parts(zones, ti3)\n",
    "zones = rois(ti3, verbose=1)\n",
    "for sub in [ z[0] for z in zones ]:\n",
    "    plt.imshow(sub);\n",
    "    plt.show();"
   ]
  },
  {
   "cell_type": "code",
   "execution_count": null,
   "metadata": {
    "collapsed": true
   },
   "outputs": [],
   "source": []
  },
  {
   "cell_type": "code",
   "execution_count": 69,
   "metadata": {
    "collapsed": false
   },
   "outputs": [
    {
     "ename": "SyntaxError",
     "evalue": "invalid syntax (<ipython-input-69-f2aac8727edc>, line 1)",
     "output_type": "error",
     "traceback": [
      "\u001b[0;36m  File \u001b[0;32m\"<ipython-input-69-f2aac8727edc>\"\u001b[0;36m, line \u001b[0;32m1\u001b[0m\n\u001b[0;31m    FAIL HERE\u001b[0m\n\u001b[0m            ^\u001b[0m\n\u001b[0;31mSyntaxError\u001b[0m\u001b[0;31m:\u001b[0m invalid syntax\n"
     ]
    }
   ],
   "source": [
    "FAIL HERE"
   ]
  },
  {
   "cell_type": "code",
   "execution_count": 215,
   "metadata": {
    "collapsed": false
   },
   "outputs": [
    {
     "data": {
      "image/png": "[encoded data removed]",
      "text/plain": [
       "<matplotlib.figure.Figure at 0x7f748ae89be0>"
      ]
     },
     "metadata": {},
     "output_type": "display_data"
    },
    {
     "name": "stdout",
     "output_type": "stream",
     "text": [
      "img smpls 1002\n"
     ]
    }
   ],
   "source": [
    "# load sample images\n",
    "training_samples = []\n",
    "training_images = []\n",
    "flattened_images =  np.empty((0, RESIZED_IMAGE_WIDTH * RESIZED_IMAGE_HEIGHT), dtype=np.int)\n",
    "classifications = []\n",
    "for i in range(SAMPLES_COUNT):\n",
    "    img = cv2.imread(os.path.join(SAMPLE_FOLDER, 'sample_' + str(i+1) + '.png'))\n",
    "    # training_images.extend(preprocess_score_image(img))\n",
    "    training_samples.append(img)\n",
    "#     parts = preprocess_score_image(img)\n",
    "    parts = rois(img)\n",
    "    if len(test[i]) != len(parts):\n",
    "        print(i, len(test[i]), len(parts), '(', test[i], ')')\n",
    "        show_raw([img, img], None)\n",
    "    else:\n",
    "        for j, part in enumerate(parts):\n",
    "            classifications.append(test[i][j])\n",
    "            gray = cv2.cvtColor(part[0], cv2.COLOR_BGR2GRAY)\n",
    "            _, bw_image = cv2.threshold(gray, 200, 255, cv2.THRESH_BINARY)\n",
    "            if i==42 and j==0:\n",
    "                plt.imshow(bw_image);\n",
    "                plt.show();\n",
    "            \n",
    "            resized = cv2.resize(bw_image, (RESIZED_IMAGE_WIDTH, RESIZED_IMAGE_HEIGHT))\n",
    "            flattened = resized.reshape((1, RESIZED_IMAGE_WIDTH * RESIZED_IMAGE_HEIGHT))\n",
    "            flattened_images = np.append(flattened_images, flattened, 0)\n",
    "    training_images.extend(parts)\n",
    "\n",
    "print('img smpls', len(training_samples))"
   ]
  },
  {
   "cell_type": "code",
   "execution_count": 219,
   "metadata": {
    "collapsed": false
   },
   "outputs": [
    {
     "name": "stdout",
     "output_type": "stream",
     "text": [
      "sample digits: 3175 labels: 3175\n"
     ]
    }
   ],
   "source": [
    "print('sample digits:', len(flattened_images), 'labels:', len(classifications))\n",
    "classifications = [ int(z) for z in classifications]\n",
    "np.savetxt(\"overlapping_classifications.txt\", classifications, fmt='%i')\n",
    "np.savetxt(\"overlapping_flattened_images.txt\", flattened_images, fmt='%i')"
   ]
  },
  {
   "cell_type": "code",
   "execution_count": null,
   "metadata": {
    "collapsed": true
   },
   "outputs": [],
   "source": [
    "FAIL HERE"
   ]
  },
  {
   "cell_type": "markdown",
   "metadata": {},
   "source": [
    "# LOAD AND TRAIN"
   ]
  },
  {
   "cell_type": "code",
   "execution_count": 241,
   "metadata": {
    "collapsed": true
   },
   "outputs": [],
   "source": [
    "# classifications = np.loadtxt(\"overlapping_classifications.txt\") #, , fmt='%i')\n",
    "with open('overlapping_classifications.txt', 'rt') as f:\n",
    "    classifications = f.readlines()\n",
    "flattened_images = np.loadtxt(\"overlapping_flattened_images.txt\")#,  fmt='%i')"
   ]
  },
  {
   "cell_type": "code",
   "execution_count": 243,
   "metadata": {
    "collapsed": false
   },
   "outputs": [],
   "source": [
    "images = [ np.reshape(z, (RESIZED_IMAGE_HEIGHT, -1)) for z in flattened_images ]\n",
    "classifications = [int(z.strip()) for z in classifications]"
   ]
  },
  {
   "cell_type": "code",
   "execution_count": 246,
   "metadata": {
    "collapsed": false,
    "scrolled": true
   },
   "outputs": [],
   "source": [
    "####  use this to output the loaded data  ####\n",
    "\n",
    "# show_all(images, labels=classifications)"
   ]
  },
  {
   "cell_type": "code",
   "execution_count": 283,
   "metadata": {
    "collapsed": false
   },
   "outputs": [
    {
     "data": {
      "image/png": "[encoded data removed]",
      "text/plain": [
       "<matplotlib.figure.Figure at 0x7f748a7e54e0>"
      ]
     },
     "metadata": {},
     "output_type": "display_data"
    },
    {
     "name": "stdout",
     "output_type": "stream",
     "text": [
      "(35, 10, 3) (30, 20)\n",
      "(35, 15, 3) (30, 20)\n",
      "(35, 16, 3) (30, 20)\n"
     ]
    },
    {
     "data": {
      "image/png": "[encoded data removed]",
      "text/plain": [
       "<matplotlib.figure.Figure at 0x7f748922ea20>"
      ]
     },
     "metadata": {},
     "output_type": "display_data"
    }
   ],
   "source": [
    "test_source = cv2.imread(\"samples/test_score.png\")\n",
    "plt.imshow(test_source, cmap=plt.cm.gray)\n",
    "plt.show()\n",
    "\n",
    "test = rois(test_source, corner_cut_size=2) #, verbose=1)\n",
    "digits = []\n",
    "for digit in test:\n",
    "    \n",
    "    gray = cv2.cvtColor(digit[0], cv2.COLOR_BGR2GRAY)\n",
    "    _, bw_image = cv2.threshold(gray, 200, 255, cv2.THRESH_BINARY)\n",
    "    resized = cv2.resize(bw_image, (RESIZED_IMAGE_WIDTH, RESIZED_IMAGE_HEIGHT))\n",
    "    print(digit[0].shape, resized.shape)\n",
    "    digits.append(resized)\n",
    "\n",
    "# test_images = [ np.reshape(z, (RESIZED_IMAGE_HEIGHT, -1)) for z in digits ]\n",
    "show_all(digits)\n",
    "\n",
    "test_images = [z.reshape((RESIZED_IMAGE_WIDTH * RESIZED_IMAGE_HEIGHT)) for z in digits]"
   ]
  },
  {
   "cell_type": "code",
   "execution_count": 284,
   "metadata": {
    "collapsed": false
   },
   "outputs": [
    {
     "data": {
      "text/plain": [
       "(30, 20)"
      ]
     },
     "execution_count": 284,
     "metadata": {},
     "output_type": "execute_result"
    }
   ],
   "source": [
    "digits[0].shape"
   ]
  },
  {
   "cell_type": "code",
   "execution_count": 285,
   "metadata": {
    "collapsed": false
   },
   "outputs": [
    {
     "data": {
      "text/plain": [
       "(600,)"
      ]
     },
     "execution_count": 285,
     "metadata": {},
     "output_type": "execute_result"
    }
   ],
   "source": [
    "test_images[0].shape"
   ]
  },
  {
   "cell_type": "code",
   "execution_count": 286,
   "metadata": {
    "collapsed": false
   },
   "outputs": [
    {
     "data": {
      "text/plain": [
       "(600,)"
      ]
     },
     "execution_count": 286,
     "metadata": {},
     "output_type": "execute_result"
    }
   ],
   "source": [
    "flattened_images[0].shape"
   ]
  },
  {
   "cell_type": "code",
   "execution_count": 261,
   "metadata": {
    "collapsed": true
   },
   "outputs": [],
   "source": [
    "from sklearn import svm"
   ]
  },
  {
   "cell_type": "code",
   "execution_count": 263,
   "metadata": {
    "collapsed": false
   },
   "outputs": [
    {
     "data": {
      "text/plain": [
       "SVC(C=1.0, cache_size=200, class_weight=None, coef0=0.0,\n",
       "  decision_function_shape='ovr', degree=3, gamma='auto', kernel='rbf',\n",
       "  max_iter=-1, probability=False, random_state=None, shrinking=True,\n",
       "  tol=0.001, verbose=False)"
      ]
     },
     "execution_count": 263,
     "metadata": {},
     "output_type": "execute_result"
    }
   ],
   "source": [
    "# naive try without params\n",
    "clf = svm.SVC()\n",
    "clf.fit(flattened_images, classifications)"
   ]
  },
  {
   "cell_type": "code",
   "execution_count": 294,
   "metadata": {
    "collapsed": false
   },
   "outputs": [
    {
     "name": "stdout",
     "output_type": "stream",
     "text": [
      "[2]\n",
      "[2]\n",
      "[2]\n"
     ]
    }
   ],
   "source": [
    "# expect fail\n",
    "for digit in test_images:\n",
    "    predict = clf.predict([digit])\n",
    "    print(predict)"
   ]
  },
  {
   "cell_type": "code",
   "execution_count": 301,
   "metadata": {
    "collapsed": false
   },
   "outputs": [
    {
     "data": {
      "image/png": "[encoded data removed]",
      "text/plain": [
       "<matplotlib.figure.Figure at 0x7f7487cf9c18>"
      ]
     },
     "metadata": {},
     "output_type": "display_data"
    }
   ],
   "source": [
    "# just alternative display\n",
    "predictions = [ clf.predict([z]).tolist() for z in test_images ]\n",
    "show_all(digits, labels=[ str(z[0]) for z in predictions])"
   ]
  },
  {
   "cell_type": "code",
   "execution_count": 302,
   "metadata": {
    "collapsed": true
   },
   "outputs": [],
   "source": [
    "# Grid search\n",
    "\n",
    "def report(results, n_top=5):\n",
    "    for i in range(1, n_top + 1):\n",
    "        candidates = np.flatnonzero(results['rank_test_score'] == i)\n",
    "        for candidate in candidates:\n",
    "            print(\"Model with rank: {0}\".format(i))\n",
    "            print(\"Mean validation score: {0:.3f} (std: {1:.3f})\".format(\n",
    "                  results['mean_test_score'][candidate],\n",
    "                  results['std_test_score'][candidate]))\n",
    "            print(\"Parameters: {0}\".format(results['params'][candidate]))\n",
    "            print(\"\")\n",
    "\n",
    "more_params = {'clf__nu' : [0.8, 0.65, 0.5, 0.35, 0.2],\n",
    "            'clf__kernel' : ['linear', 'poly', 'rbf', 'sigmoid', ],\n",
    "            'clf__shrinking' : [True, False],\n",
    "            'clf__tol' : [0.01, 0.003, 0.001, 0.0003, 0.0001],\n",
    "            'clf__decision_function_shape' : ['ovo', 'ovr'],\n",
    "        }"
   ]
  },
  {
   "cell_type": "code",
   "execution_count": 303,
   "metadata": {
    "collapsed": true
   },
   "outputs": [],
   "source": [
    "from sklearn.model_selection import GridSearchCV\n",
    "from sklearn.pipeline import Pipeline"
   ]
  },
  {
   "cell_type": "code",
   "execution_count": 304,
   "metadata": {
    "collapsed": true
   },
   "outputs": [],
   "source": [
    "# # need more samples to have the CV\n",
    "# double_samples = np.concatenate((flattened_images, flattened_images), axis=0)\n",
    "# double_classes = np.concatenate((classifications, classifications), axis=0)"
   ]
  },
  {
   "cell_type": "code",
   "execution_count": 305,
   "metadata": {
    "collapsed": true
   },
   "outputs": [],
   "source": [
    "def grid_search():\n",
    "    params = {\n",
    "        'clf__random_state' : [1337]\n",
    "    }\n",
    "\n",
    "    params.update(more_params)\n",
    "\n",
    "    pipeline = Pipeline([\n",
    "        ('clf', svm.NuSVC())\n",
    "    ])\n",
    "\n",
    "    grid_search = GridSearchCV(pipeline, param_grid=params, cv=2, n_jobs=4)\n",
    "\n",
    "    grid_search.fit(flattened_images, classifications )\n",
    "    report(grid_search.cv_results_)"
   ]
  },
  {
   "cell_type": "code",
   "execution_count": 306,
   "metadata": {
    "collapsed": false,
    "scrolled": false
   },
   "outputs": [
    {
     "ename": "JoblibValueError",
     "evalue": "JoblibValueError\n___________________________________________________________________________\nMultiprocessing exception:\n...........................................................................\n/usr/lib/python3.6/runpy.py in _run_module_as_main(mod_name='ipykernel_launcher', alter_argv=1)\n    188         sys.exit(msg)\n    189     main_globals = sys.modules[\"__main__\"].__dict__\n    190     if alter_argv:\n    191         sys.argv[0] = mod_spec.origin\n    192     return _run_code(code, main_globals, None,\n--> 193                      \"__main__\", mod_spec)\n        mod_spec = ModuleSpec(name='ipykernel_launcher', loader=<_f...b/python3.6/site-packages/ipykernel_launcher.py')\n    194 \n    195 def run_module(mod_name, init_globals=None,\n    196                run_name=None, alter_sys=False):\n    197     \"\"\"Execute a module's code without importing it\n\n...........................................................................\n/usr/lib/python3.6/runpy.py in _run_code(code=<code object <module> at 0x7f74cf8671e0, file \"/...3.6/site-packages/ipykernel_launcher.py\", line 5>, run_globals={'__annotations__': {}, '__builtins__': <module 'builtins' (built-in)>, '__cached__': '/home/bob/.local/lib/python3.6/site-packages/__pycache__/ipykernel_launcher.cpython-36.pyc', '__doc__': 'Entry point for launching an IPython kernel.\\n\\nTh...orts until\\nafter removing the cwd from sys.path.\\n', '__file__': '/home/bob/.local/lib/python3.6/site-packages/ipykernel_launcher.py', '__loader__': <_frozen_importlib_external.SourceFileLoader object>, '__name__': '__main__', '__package__': '', '__spec__': ModuleSpec(name='ipykernel_launcher', loader=<_f...b/python3.6/site-packages/ipykernel_launcher.py'), 'app': <module 'ipykernel.kernelapp' from '/home/bob/.l.../python3.6/site-packages/ipykernel/kernelapp.py'>, ...}, init_globals=None, mod_name='__main__', mod_spec=ModuleSpec(name='ipykernel_launcher', loader=<_f...b/python3.6/site-packages/ipykernel_launcher.py'), pkg_name='', script_name=None)\n     80                        __cached__ = cached,\n     81                        __doc__ = None,\n     82                        __loader__ = loader,\n     83                        __package__ = pkg_name,\n     84                        __spec__ = mod_spec)\n---> 85     exec(code, run_globals)\n        code = <code object <module> at 0x7f74cf8671e0, file \"/...3.6/site-packages/ipykernel_launcher.py\", line 5>\n        run_globals = {'__annotations__': {}, '__builtins__': <module 'builtins' (built-in)>, '__cached__': '/home/bob/.local/lib/python3.6/site-packages/__pycache__/ipykernel_launcher.cpython-36.pyc', '__doc__': 'Entry point for launching an IPython kernel.\\n\\nTh...orts until\\nafter removing the cwd from sys.path.\\n', '__file__': '/home/bob/.local/lib/python3.6/site-packages/ipykernel_launcher.py', '__loader__': <_frozen_importlib_external.SourceFileLoader object>, '__name__': '__main__', '__package__': '', '__spec__': ModuleSpec(name='ipykernel_launcher', loader=<_f...b/python3.6/site-packages/ipykernel_launcher.py'), 'app': <module 'ipykernel.kernelapp' from '/home/bob/.l.../python3.6/site-packages/ipykernel/kernelapp.py'>, ...}\n     86     return run_globals\n     87 \n     88 def _run_module_code(code, init_globals=None,\n     89                     mod_name=None, mod_spec=None,\n\n...........................................................................\n/home/bob/.local/lib/python3.6/site-packages/ipykernel_launcher.py in <module>()\n     11     # This is added back by InteractiveShellApp.init_path()\n     12     if sys.path[0] == '':\n     13         del sys.path[0]\n     14 \n     15     from ipykernel import kernelapp as app\n---> 16     app.launch_new_instance()\n\n...........................................................................\n/home/bob/.local/lib/python3.6/site-packages/traitlets/config/application.py in launch_instance(cls=<class 'ipykernel.kernelapp.IPKernelApp'>, argv=None, **kwargs={})\n    653 \n    654         If a global instance already exists, this reinitializes and starts it\n    655         \"\"\"\n    656         app = cls.instance(**kwargs)\n    657         app.initialize(argv)\n--> 658         app.start()\n        app.start = <bound method IPKernelApp.start of <ipykernel.kernelapp.IPKernelApp object>>\n    659 \n    660 #-----------------------------------------------------------------------------\n    661 # utility functions, for convenience\n    662 #-----------------------------------------------------------------------------\n\n...........................................................................\n/home/bob/.local/lib/python3.6/site-packages/ipykernel/kernelapp.py in start(self=<ipykernel.kernelapp.IPKernelApp object>)\n    473         if self.poller is not None:\n    474             self.poller.start()\n    475         self.kernel.start()\n    476         self.io_loop = ioloop.IOLoop.current()\n    477         try:\n--> 478             self.io_loop.start()\n        self.io_loop.start = <bound method ZMQIOLoop.start of <zmq.eventloop.ioloop.ZMQIOLoop object>>\n    479         except KeyboardInterrupt:\n    480             pass\n    481 \n    482 launch_new_instance = IPKernelApp.launch_instance\n\n...........................................................................\n/home/bob/.local/lib/python3.6/site-packages/zmq/eventloop/ioloop.py in start(self=<zmq.eventloop.ioloop.ZMQIOLoop object>)\n    172             )\n    173         return loop\n    174     \n    175     def start(self):\n    176         try:\n--> 177             super(ZMQIOLoop, self).start()\n        self.start = <bound method ZMQIOLoop.start of <zmq.eventloop.ioloop.ZMQIOLoop object>>\n    178         except ZMQError as e:\n    179             if e.errno == ETERM:\n    180                 # quietly return on ETERM\n    181                 pass\n\n...........................................................................\n/home/bob/.local/lib/python3.6/site-packages/tornado/ioloop.py in start(self=<zmq.eventloop.ioloop.ZMQIOLoop object>)\n    883                 self._events.update(event_pairs)\n    884                 while self._events:\n    885                     fd, events = self._events.popitem()\n    886                     try:\n    887                         fd_obj, handler_func = self._handlers[fd]\n--> 888                         handler_func(fd_obj, events)\n        handler_func = <function wrap.<locals>.null_wrapper>\n        fd_obj = <zmq.sugar.socket.Socket object>\n        events = 1\n    889                     except (OSError, IOError) as e:\n    890                         if errno_from_exception(e) == errno.EPIPE:\n    891                             # Happens when the client closes the connection\n    892                             pass\n\n...........................................................................\n/home/bob/.local/lib/python3.6/site-packages/tornado/stack_context.py in null_wrapper(*args=(<zmq.sugar.socket.Socket object>, 1), **kwargs={})\n    272         # Fast path when there are no active contexts.\n    273         def null_wrapper(*args, **kwargs):\n    274             try:\n    275                 current_state = _state.contexts\n    276                 _state.contexts = cap_contexts[0]\n--> 277                 return fn(*args, **kwargs)\n        args = (<zmq.sugar.socket.Socket object>, 1)\n        kwargs = {}\n    278             finally:\n    279                 _state.contexts = current_state\n    280         null_wrapper._wrapped = True\n    281         return null_wrapper\n\n...........................................................................\n/home/bob/.local/lib/python3.6/site-packages/zmq/eventloop/zmqstream.py in _handle_events(self=<zmq.eventloop.zmqstream.ZMQStream object>, fd=<zmq.sugar.socket.Socket object>, events=1)\n    435             # dispatch events:\n    436             if events & IOLoop.ERROR:\n    437                 gen_log.error(\"got POLLERR event on ZMQStream, which doesn't make sense\")\n    438                 return\n    439             if events & IOLoop.READ:\n--> 440                 self._handle_recv()\n        self._handle_recv = <bound method ZMQStream._handle_recv of <zmq.eventloop.zmqstream.ZMQStream object>>\n    441                 if not self.socket:\n    442                     return\n    443             if events & IOLoop.WRITE:\n    444                 self._handle_send()\n\n...........................................................................\n/home/bob/.local/lib/python3.6/site-packages/zmq/eventloop/zmqstream.py in _handle_recv(self=<zmq.eventloop.zmqstream.ZMQStream object>)\n    467                 gen_log.error(\"RECV Error: %s\"%zmq.strerror(e.errno))\n    468         else:\n    469             if self._recv_callback:\n    470                 callback = self._recv_callback\n    471                 # self._recv_callback = None\n--> 472                 self._run_callback(callback, msg)\n        self._run_callback = <bound method ZMQStream._run_callback of <zmq.eventloop.zmqstream.ZMQStream object>>\n        callback = <function wrap.<locals>.null_wrapper>\n        msg = [<zmq.sugar.frame.Frame object>, <zmq.sugar.frame.Frame object>, <zmq.sugar.frame.Frame object>, <zmq.sugar.frame.Frame object>, <zmq.sugar.frame.Frame object>, <zmq.sugar.frame.Frame object>, <zmq.sugar.frame.Frame object>]\n    473                 \n    474         # self.update_state()\n    475         \n    476 \n\n...........................................................................\n/home/bob/.local/lib/python3.6/site-packages/zmq/eventloop/zmqstream.py in _run_callback(self=<zmq.eventloop.zmqstream.ZMQStream object>, callback=<function wrap.<locals>.null_wrapper>, *args=([<zmq.sugar.frame.Frame object>, <zmq.sugar.frame.Frame object>, <zmq.sugar.frame.Frame object>, <zmq.sugar.frame.Frame object>, <zmq.sugar.frame.Frame object>, <zmq.sugar.frame.Frame object>, <zmq.sugar.frame.Frame object>],), **kwargs={})\n    409         close our socket.\"\"\"\n    410         try:\n    411             # Use a NullContext to ensure that all StackContexts are run\n    412             # inside our blanket exception handler rather than outside.\n    413             with stack_context.NullContext():\n--> 414                 callback(*args, **kwargs)\n        callback = <function wrap.<locals>.null_wrapper>\n        args = ([<zmq.sugar.frame.Frame object>, <zmq.sugar.frame.Frame object>, <zmq.sugar.frame.Frame object>, <zmq.sugar.frame.Frame object>, <zmq.sugar.frame.Frame object>, <zmq.sugar.frame.Frame object>, <zmq.sugar.frame.Frame object>],)\n        kwargs = {}\n    415         except:\n    416             gen_log.error(\"Uncaught exception, closing connection.\",\n    417                           exc_info=True)\n    418             # Close the socket on an uncaught exception from a user callback\n\n...........................................................................\n/home/bob/.local/lib/python3.6/site-packages/tornado/stack_context.py in null_wrapper(*args=([<zmq.sugar.frame.Frame object>, <zmq.sugar.frame.Frame object>, <zmq.sugar.frame.Frame object>, <zmq.sugar.frame.Frame object>, <zmq.sugar.frame.Frame object>, <zmq.sugar.frame.Frame object>, <zmq.sugar.frame.Frame object>],), **kwargs={})\n    272         # Fast path when there are no active contexts.\n    273         def null_wrapper(*args, **kwargs):\n    274             try:\n    275                 current_state = _state.contexts\n    276                 _state.contexts = cap_contexts[0]\n--> 277                 return fn(*args, **kwargs)\n        args = ([<zmq.sugar.frame.Frame object>, <zmq.sugar.frame.Frame object>, <zmq.sugar.frame.Frame object>, <zmq.sugar.frame.Frame object>, <zmq.sugar.frame.Frame object>, <zmq.sugar.frame.Frame object>, <zmq.sugar.frame.Frame object>],)\n        kwargs = {}\n    278             finally:\n    279                 _state.contexts = current_state\n    280         null_wrapper._wrapped = True\n    281         return null_wrapper\n\n...........................................................................\n/home/bob/.local/lib/python3.6/site-packages/ipykernel/kernelbase.py in dispatcher(msg=[<zmq.sugar.frame.Frame object>, <zmq.sugar.frame.Frame object>, <zmq.sugar.frame.Frame object>, <zmq.sugar.frame.Frame object>, <zmq.sugar.frame.Frame object>, <zmq.sugar.frame.Frame object>, <zmq.sugar.frame.Frame object>])\n    276         if self.control_stream:\n    277             self.control_stream.on_recv(self.dispatch_control, copy=False)\n    278 \n    279         def make_dispatcher(stream):\n    280             def dispatcher(msg):\n--> 281                 return self.dispatch_shell(stream, msg)\n        msg = [<zmq.sugar.frame.Frame object>, <zmq.sugar.frame.Frame object>, <zmq.sugar.frame.Frame object>, <zmq.sugar.frame.Frame object>, <zmq.sugar.frame.Frame object>, <zmq.sugar.frame.Frame object>, <zmq.sugar.frame.Frame object>]\n    282             return dispatcher\n    283 \n    284         for s in self.shell_streams:\n    285             s.on_recv(make_dispatcher(s), copy=False)\n\n...........................................................................\n/home/bob/.local/lib/python3.6/site-packages/ipykernel/kernelbase.py in dispatch_shell(self=<ipykernel.ipkernel.IPythonKernel object>, stream=<zmq.eventloop.zmqstream.ZMQStream object>, msg={'buffers': [], 'content': {'allow_stdin': True, 'code': 'grid_search()', 'silent': False, 'stop_on_error': True, 'store_history': True, 'user_expressions': {}}, 'header': {'date': datetime.datetime(2018, 4, 16, 16, 32, 43, 120254, tzinfo=tzutc()), 'msg_id': 'BE00966CE6864F3A93B1A94A77ADA7FF', 'msg_type': 'execute_request', 'session': '35B580B51D4742128E9F9462C1EBB33B', 'username': 'username', 'version': '5.0'}, 'metadata': {}, 'msg_id': 'BE00966CE6864F3A93B1A94A77ADA7FF', 'msg_type': 'execute_request', 'parent_header': {}})\n    227             self.log.warn(\"Unknown message type: %r\", msg_type)\n    228         else:\n    229             self.log.debug(\"%s: %s\", msg_type, msg)\n    230             self.pre_handler_hook()\n    231             try:\n--> 232                 handler(stream, idents, msg)\n        handler = <bound method Kernel.execute_request of <ipykernel.ipkernel.IPythonKernel object>>\n        stream = <zmq.eventloop.zmqstream.ZMQStream object>\n        idents = [b'35B580B51D4742128E9F9462C1EBB33B']\n        msg = {'buffers': [], 'content': {'allow_stdin': True, 'code': 'grid_search()', 'silent': False, 'stop_on_error': True, 'store_history': True, 'user_expressions': {}}, 'header': {'date': datetime.datetime(2018, 4, 16, 16, 32, 43, 120254, tzinfo=tzutc()), 'msg_id': 'BE00966CE6864F3A93B1A94A77ADA7FF', 'msg_type': 'execute_request', 'session': '35B580B51D4742128E9F9462C1EBB33B', 'username': 'username', 'version': '5.0'}, 'metadata': {}, 'msg_id': 'BE00966CE6864F3A93B1A94A77ADA7FF', 'msg_type': 'execute_request', 'parent_header': {}}\n    233             except Exception:\n    234                 self.log.error(\"Exception in message handler:\", exc_info=True)\n    235             finally:\n    236                 self.post_handler_hook()\n\n...........................................................................\n/home/bob/.local/lib/python3.6/site-packages/ipykernel/kernelbase.py in execute_request(self=<ipykernel.ipkernel.IPythonKernel object>, stream=<zmq.eventloop.zmqstream.ZMQStream object>, ident=[b'35B580B51D4742128E9F9462C1EBB33B'], parent={'buffers': [], 'content': {'allow_stdin': True, 'code': 'grid_search()', 'silent': False, 'stop_on_error': True, 'store_history': True, 'user_expressions': {}}, 'header': {'date': datetime.datetime(2018, 4, 16, 16, 32, 43, 120254, tzinfo=tzutc()), 'msg_id': 'BE00966CE6864F3A93B1A94A77ADA7FF', 'msg_type': 'execute_request', 'session': '35B580B51D4742128E9F9462C1EBB33B', 'username': 'username', 'version': '5.0'}, 'metadata': {}, 'msg_id': 'BE00966CE6864F3A93B1A94A77ADA7FF', 'msg_type': 'execute_request', 'parent_header': {}})\n    392         if not silent:\n    393             self.execution_count += 1\n    394             self._publish_execute_input(code, parent, self.execution_count)\n    395 \n    396         reply_content = self.do_execute(code, silent, store_history,\n--> 397                                         user_expressions, allow_stdin)\n        user_expressions = {}\n        allow_stdin = True\n    398 \n    399         # Flush output before sending the reply.\n    400         sys.stdout.flush()\n    401         sys.stderr.flush()\n\n...........................................................................\n/home/bob/.local/lib/python3.6/site-packages/ipykernel/ipkernel.py in do_execute(self=<ipykernel.ipkernel.IPythonKernel object>, code='grid_search()', silent=False, store_history=True, user_expressions={}, allow_stdin=True)\n    203 \n    204         self._forward_input(allow_stdin)\n    205 \n    206         reply_content = {}\n    207         try:\n--> 208             res = shell.run_cell(code, store_history=store_history, silent=silent)\n        res = undefined\n        shell.run_cell = <bound method ZMQInteractiveShell.run_cell of <ipykernel.zmqshell.ZMQInteractiveShell object>>\n        code = 'grid_search()'\n        store_history = True\n        silent = False\n    209         finally:\n    210             self._restore_input()\n    211 \n    212         if res.error_before_exec is not None:\n\n...........................................................................\n/home/bob/.local/lib/python3.6/site-packages/ipykernel/zmqshell.py in run_cell(self=<ipykernel.zmqshell.ZMQInteractiveShell object>, *args=('grid_search()',), **kwargs={'silent': False, 'store_history': True})\n    528             )\n    529         self.payload_manager.write_payload(payload)\n    530 \n    531     def run_cell(self, *args, **kwargs):\n    532         self._last_traceback = None\n--> 533         return super(ZMQInteractiveShell, self).run_cell(*args, **kwargs)\n        self.run_cell = <bound method ZMQInteractiveShell.run_cell of <ipykernel.zmqshell.ZMQInteractiveShell object>>\n        args = ('grid_search()',)\n        kwargs = {'silent': False, 'store_history': True}\n    534 \n    535     def _showtraceback(self, etype, evalue, stb):\n    536         # try to preserve ordering of tracebacks and print statements\n    537         sys.stdout.flush()\n\n...........................................................................\n/home/bob/.local/lib/python3.6/site-packages/IPython/core/interactiveshell.py in run_cell(self=<ipykernel.zmqshell.ZMQInteractiveShell object>, raw_cell='grid_search()', store_history=True, silent=False, shell_futures=True)\n   2723                 self.displayhook.exec_result = result\n   2724 \n   2725                 # Execute the user code\n   2726                 interactivity = \"none\" if silent else self.ast_node_interactivity\n   2727                 has_raised = self.run_ast_nodes(code_ast.body, cell_name,\n-> 2728                    interactivity=interactivity, compiler=compiler, result=result)\n        interactivity = 'last_expr'\n        compiler = <IPython.core.compilerop.CachingCompiler object>\n   2729                 \n   2730                 self.last_execution_succeeded = not has_raised\n   2731                 self.last_execution_result = result\n   2732 \n\n...........................................................................\n/home/bob/.local/lib/python3.6/site-packages/IPython/core/interactiveshell.py in run_ast_nodes(self=<ipykernel.zmqshell.ZMQInteractiveShell object>, nodelist=[<_ast.Expr object>], cell_name='<ipython-input-306-7ea50c2bdd1d>', interactivity='last', compiler=<IPython.core.compilerop.CachingCompiler object>, result=<ExecutionResult object at 7f748785e240, executi..._before_exec=None error_in_exec=None result=None>)\n   2851                     return True\n   2852 \n   2853             for i, node in enumerate(to_run_interactive):\n   2854                 mod = ast.Interactive([node])\n   2855                 code = compiler(mod, cell_name, \"single\")\n-> 2856                 if self.run_code(code, result):\n        self.run_code = <bound method InteractiveShell.run_code of <ipykernel.zmqshell.ZMQInteractiveShell object>>\n        code = <code object <module> at 0x7f7487889f60, file \"<ipython-input-306-7ea50c2bdd1d>\", line 1>\n        result = <ExecutionResult object at 7f748785e240, executi..._before_exec=None error_in_exec=None result=None>\n   2857                     return True\n   2858 \n   2859             # Flush softspace\n   2860             if softspace(sys.stdout, 0):\n\n...........................................................................\n/home/bob/.local/lib/python3.6/site-packages/IPython/core/interactiveshell.py in run_code(self=<ipykernel.zmqshell.ZMQInteractiveShell object>, code_obj=<code object <module> at 0x7f7487889f60, file \"<ipython-input-306-7ea50c2bdd1d>\", line 1>, result=<ExecutionResult object at 7f748785e240, executi..._before_exec=None error_in_exec=None result=None>)\n   2905         outflag = True  # happens in more places, so it's easier as default\n   2906         try:\n   2907             try:\n   2908                 self.hooks.pre_run_code_hook()\n   2909                 #rprint('Running code', repr(code_obj)) # dbg\n-> 2910                 exec(code_obj, self.user_global_ns, self.user_ns)\n        code_obj = <code object <module> at 0x7f7487889f60, file \"<ipython-input-306-7ea50c2bdd1d>\", line 1>\n        self.user_global_ns = {'GridSearchCV': <class 'sklearn.model_selection._search.GridSearchCV'>, 'In': ['', 'import os\\nimport math\\nimport numpy as np\\nimport ...MPLE_FOLDER = \"/mnt/hgfs/projlogs/gamcon_samples\"', 'def grouper(iterable, n, fillvalue=None):\\n    \"C...itertools.zip_longest(*args, fillvalue=fillvalue)', 'def show_raw(images, labels):\\n    fig, ax = plt....       ax[i].set_title(labels[i])\\n\\n    plt.show()', 'def show_all(images, labels=None):\\n    if labels...es, 6, np.zeros(images[0].shape, dtype=np.int)) ]', 'def preprocess_score_image(original, verbose=0):...ed_digits, digit, 0)\\n\\n    return flattened_digits', '# load classifications\\nclassifications = []\\nwith...print(len(classifications), classifications[:15])', \"test_image = cv2.imread(os.path.join(SAMPLE_FOLDER, 'sample_8.png'))\\nplt.imshow(test_image)\", 'if MIN_CONTOUR_AREA < 30:\\n    MIN_CONTOUR_AREA =...s = preprocess_score_image(test_image, verbose=1)', 'MIN_CONTOUR_AREA = 2\\nparts = preprocess_score_image(test_image, verbose=1)', 'print(parts)', 'FAIL HERE', 'if MIN_CONTOUR_AREA < 30:\\n    MIN_CONTOUR_AREA =...s = preprocess_score_image(test_image, verbose=1)', 'def col_filter(image, color, threshold=20):\\n    ...   res = cv2.medianBlur(mask, 5);\\n\\n    return res', 'def split_rois(image, grid_color=GRID_COLOR, ver..._screen, score_screen_start_x, score_screen_end_x', 'def split_rois(image, grid_color=[0,0,255], verb..._screen, score_screen_start_x, score_screen_end_x', 'split_rois(test_image, verbose=1)', 'def split_rois(image, grid_color=[0,0,255], verb..._screen, score_screen_start_x, score_screen_end_x', 'split_rois(test_image, verbose=1)', 'def split_rois(image, grid_color=[0,0,255], verb...kscreen, score_screen_start_x, score_screen_end_x', ...], 'MIN_CONTOUR_AREA': 30, 'Out': {7: <matplotlib.image.AxesImage object>, 20: (array([[0, 0, 0, ..., 0, 0, 0],\n       [0, 0, 0,...0],\n       [0, 0, 0, ..., 0, 0, 0]], dtype=uint8), 0, 79), 33: <matplotlib.image.AxesImage object>, 96: (28, 80, 3), 217: 3175, 224: array([0., 0., 0., 0., 0., 0., 4., 1., 2., 1., 2., 1., 6., 2., 0.]), 226: ['\\x00', '\\x00', '\\x00', '\\x00', '\\x00', '\\x00', '\\x04', '\\x01', '\\x02', '\\x01', '\\x02', '\\x01', '\\x06', '\\x02', '\\x00'], 227: ['\\x00', '\\x00', '\\x00', '\\x00', '\\x00', '\\x00', '\\x04', '\\x01', '\\x02', '\\x01', '\\x02', '\\x01', '\\x06', '\\x02', '\\x00'], 229: ['0\\n', '0\\n', '0\\n', '0\\n', '0\\n', '0\\n', '4\\n', '1\\n', '2\\n', '1\\n', '2\\n', '1\\n', '6\\n', '2\\n', '0\\n'], 231: ['\\x00', '\\x00', '\\x00', '\\x00', '\\x00', '\\x00', '\\x04', '\\x01', '\\x02', '\\x01', '\\x02', '\\x01', '\\x06', '\\x02', '\\x00'], ...}, 'Pipeline': <class 'sklearn.pipeline.Pipeline'>, 'RESIZED_IMAGE_HEIGHT': 30, 'RESIZED_IMAGE_WIDTH': 20, 'SAMPLES_COUNT': 1002, 'SAMPLE_FOLDER': '/mnt/hgfs/projlogs/gamcon_samples', 'SCORE_COLOR': [235, 235, 235], ...}\n        self.user_ns = {'GridSearchCV': <class 'sklearn.model_selection._search.GridSearchCV'>, 'In': ['', 'import os\\nimport math\\nimport numpy as np\\nimport ...MPLE_FOLDER = \"/mnt/hgfs/projlogs/gamcon_samples\"', 'def grouper(iterable, n, fillvalue=None):\\n    \"C...itertools.zip_longest(*args, fillvalue=fillvalue)', 'def show_raw(images, labels):\\n    fig, ax = plt....       ax[i].set_title(labels[i])\\n\\n    plt.show()', 'def show_all(images, labels=None):\\n    if labels...es, 6, np.zeros(images[0].shape, dtype=np.int)) ]', 'def preprocess_score_image(original, verbose=0):...ed_digits, digit, 0)\\n\\n    return flattened_digits', '# load classifications\\nclassifications = []\\nwith...print(len(classifications), classifications[:15])', \"test_image = cv2.imread(os.path.join(SAMPLE_FOLDER, 'sample_8.png'))\\nplt.imshow(test_image)\", 'if MIN_CONTOUR_AREA < 30:\\n    MIN_CONTOUR_AREA =...s = preprocess_score_image(test_image, verbose=1)', 'MIN_CONTOUR_AREA = 2\\nparts = preprocess_score_image(test_image, verbose=1)', 'print(parts)', 'FAIL HERE', 'if MIN_CONTOUR_AREA < 30:\\n    MIN_CONTOUR_AREA =...s = preprocess_score_image(test_image, verbose=1)', 'def col_filter(image, color, threshold=20):\\n    ...   res = cv2.medianBlur(mask, 5);\\n\\n    return res', 'def split_rois(image, grid_color=GRID_COLOR, ver..._screen, score_screen_start_x, score_screen_end_x', 'def split_rois(image, grid_color=[0,0,255], verb..._screen, score_screen_start_x, score_screen_end_x', 'split_rois(test_image, verbose=1)', 'def split_rois(image, grid_color=[0,0,255], verb..._screen, score_screen_start_x, score_screen_end_x', 'split_rois(test_image, verbose=1)', 'def split_rois(image, grid_color=[0,0,255], verb...kscreen, score_screen_start_x, score_screen_end_x', ...], 'MIN_CONTOUR_AREA': 30, 'Out': {7: <matplotlib.image.AxesImage object>, 20: (array([[0, 0, 0, ..., 0, 0, 0],\n       [0, 0, 0,...0],\n       [0, 0, 0, ..., 0, 0, 0]], dtype=uint8), 0, 79), 33: <matplotlib.image.AxesImage object>, 96: (28, 80, 3), 217: 3175, 224: array([0., 0., 0., 0., 0., 0., 4., 1., 2., 1., 2., 1., 6., 2., 0.]), 226: ['\\x00', '\\x00', '\\x00', '\\x00', '\\x00', '\\x00', '\\x04', '\\x01', '\\x02', '\\x01', '\\x02', '\\x01', '\\x06', '\\x02', '\\x00'], 227: ['\\x00', '\\x00', '\\x00', '\\x00', '\\x00', '\\x00', '\\x04', '\\x01', '\\x02', '\\x01', '\\x02', '\\x01', '\\x06', '\\x02', '\\x00'], 229: ['0\\n', '0\\n', '0\\n', '0\\n', '0\\n', '0\\n', '4\\n', '1\\n', '2\\n', '1\\n', '2\\n', '1\\n', '6\\n', '2\\n', '0\\n'], 231: ['\\x00', '\\x00', '\\x00', '\\x00', '\\x00', '\\x00', '\\x04', '\\x01', '\\x02', '\\x01', '\\x02', '\\x01', '\\x06', '\\x02', '\\x00'], ...}, 'Pipeline': <class 'sklearn.pipeline.Pipeline'>, 'RESIZED_IMAGE_HEIGHT': 30, 'RESIZED_IMAGE_WIDTH': 20, 'SAMPLES_COUNT': 1002, 'SAMPLE_FOLDER': '/mnt/hgfs/projlogs/gamcon_samples', 'SCORE_COLOR': [235, 235, 235], ...}\n   2911             finally:\n   2912                 # Reset our crash handler in place\n   2913                 sys.excepthook = old_excepthook\n   2914         except SystemExit as e:\n\n...........................................................................\n/home/bob/gits/gamcon/<ipython-input-306-7ea50c2bdd1d> in <module>()\n----> 1 grid_search()\n\n...........................................................................\n/home/bob/gits/gamcon/<ipython-input-305-471b8d13729a> in grid_search()\n      9         ('clf', svm.NuSVC())\n     10     ])\n     11 \n     12     grid_search = GridSearchCV(pipeline, param_grid=params, cv=2, n_jobs=4)\n     13 \n---> 14     grid_search.fit(flattened_images, classifications )\n     15     report(grid_search.cv_results_)\n\n...........................................................................\n/home/bob/.local/lib/python3.6/site-packages/sklearn/model_selection/_search.py in fit(self=GridSearchCV(cv=2, error_score='raise',\n       e...ain_score='warn',\n       scoring=None, verbose=0), X=array([[0., 0., 0., ..., 0., 0., 0.],\n       [0...., 0., 0.],\n       [0., 0., 0., ..., 0., 0., 0.]]), y=[0, 0, 0, 0, 0, 0, 4, 1, 2, 1, 2, 1, 6, 2, 0, 2, 8, 2, 8, 2, ...], groups=None, **fit_params={})\n    634                                   return_train_score=self.return_train_score,\n    635                                   return_n_test_samples=True,\n    636                                   return_times=True, return_parameters=False,\n    637                                   error_score=self.error_score)\n    638           for parameters, (train, test) in product(candidate_params,\n--> 639                                                    cv.split(X, y, groups)))\n        cv.split = <bound method StratifiedKFold.split of Stratifie...ld(n_splits=2, random_state=None, shuffle=False)>\n        X = array([[0., 0., 0., ..., 0., 0., 0.],\n       [0...., 0., 0.],\n       [0., 0., 0., ..., 0., 0., 0.]])\n        y = [0, 0, 0, 0, 0, 0, 4, 1, 2, 1, 2, 1, 6, 2, 0, 2, 8, 2, 8, 2, ...]\n        groups = None\n    640 \n    641         # if one choose to see train score, \"out\" will contain train score info\n    642         if self.return_train_score:\n    643             (train_score_dicts, test_score_dicts, test_sample_counts, fit_time,\n\n...........................................................................\n/home/bob/.local/lib/python3.6/site-packages/sklearn/externals/joblib/parallel.py in __call__(self=Parallel(n_jobs=4), iterable=<generator object BaseSearchCV.fit.<locals>.<genexpr>>)\n    784             if pre_dispatch == \"all\" or n_jobs == 1:\n    785                 # The iterable was consumed all at once by the above for loop.\n    786                 # No need to wait for async callbacks to trigger to\n    787                 # consumption.\n    788                 self._iterating = False\n--> 789             self.retrieve()\n        self.retrieve = <bound method Parallel.retrieve of Parallel(n_jobs=4)>\n    790             # Make sure that we get a last message telling us we are done\n    791             elapsed_time = time.time() - self._start_time\n    792             self._print('Done %3i out of %3i | elapsed: %s finished',\n    793                         (len(self._output), len(self._output),\n\n---------------------------------------------------------------------------\nSub-process traceback:\n---------------------------------------------------------------------------\nValueError                                         Mon Apr 16 09:33:13 2018\nPID: 21772                                   Python 3.6.3: /usr/bin/python3\n...........................................................................\n/home/bob/.local/lib/python3.6/site-packages/sklearn/externals/joblib/parallel.py in __call__(self=<sklearn.externals.joblib.parallel.BatchedCalls object>)\n    126     def __init__(self, iterator_slice):\n    127         self.items = list(iterator_slice)\n    128         self._size = len(self.items)\n    129 \n    130     def __call__(self):\n--> 131         return [func(*args, **kwargs) for func, args, kwargs in self.items]\n        self.items = [(<function _fit_and_score>, (Pipeline(memory=None,\n     steps=[('clf', NuSVC(...7,\n   shrinking=True, tol=0.01, verbose=False))]), memmap([[0., 0., 0., ..., 0., 0., 0.],\n        [... 0., 0.],\n        [0., 0., 0., ..., 0., 0., 0.]]), [0, 0, 0, 0, 0, 0, 4, 1, 2, 1, 2, 1, 6, 2, 0, 2, 8, 2, 8, 2, ...], {'score': <function _passthrough_scorer>}, array([1238, 1241, 1244, ..., 3172, 3173, 3174]), array([   0,    1,    2, ..., 1870, 1873, 1876]), 0, {'clf__decision_function_shape': 'ovo', 'clf__kernel': 'linear', 'clf__nu': 0.8, 'clf__random_state': 1337, 'clf__shrinking': True, 'clf__tol': 0.01}), {'error_score': 'raise', 'fit_params': {}, 'return_n_test_samples': True, 'return_parameters': False, 'return_times': True, 'return_train_score': 'warn'})]\n    132 \n    133     def __len__(self):\n    134         return self._size\n    135 \n\n...........................................................................\n/home/bob/.local/lib/python3.6/site-packages/sklearn/externals/joblib/parallel.py in <listcomp>(.0=<list_iterator object>)\n    126     def __init__(self, iterator_slice):\n    127         self.items = list(iterator_slice)\n    128         self._size = len(self.items)\n    129 \n    130     def __call__(self):\n--> 131         return [func(*args, **kwargs) for func, args, kwargs in self.items]\n        func = <function _fit_and_score>\n        args = (Pipeline(memory=None,\n     steps=[('clf', NuSVC(...7,\n   shrinking=True, tol=0.01, verbose=False))]), memmap([[0., 0., 0., ..., 0., 0., 0.],\n        [... 0., 0.],\n        [0., 0., 0., ..., 0., 0., 0.]]), [0, 0, 0, 0, 0, 0, 4, 1, 2, 1, 2, 1, 6, 2, 0, 2, 8, 2, 8, 2, ...], {'score': <function _passthrough_scorer>}, array([1238, 1241, 1244, ..., 3172, 3173, 3174]), array([   0,    1,    2, ..., 1870, 1873, 1876]), 0, {'clf__decision_function_shape': 'ovo', 'clf__kernel': 'linear', 'clf__nu': 0.8, 'clf__random_state': 1337, 'clf__shrinking': True, 'clf__tol': 0.01})\n        kwargs = {'error_score': 'raise', 'fit_params': {}, 'return_n_test_samples': True, 'return_parameters': False, 'return_times': True, 'return_train_score': 'warn'}\n    132 \n    133     def __len__(self):\n    134         return self._size\n    135 \n\n...........................................................................\n/home/bob/.local/lib/python3.6/site-packages/sklearn/model_selection/_validation.py in _fit_and_score(estimator=Pipeline(memory=None,\n     steps=[('clf', NuSVC(...7,\n   shrinking=True, tol=0.01, verbose=False))]), X=memmap([[0., 0., 0., ..., 0., 0., 0.],\n        [... 0., 0.],\n        [0., 0., 0., ..., 0., 0., 0.]]), y=[0, 0, 0, 0, 0, 0, 4, 1, 2, 1, 2, 1, 6, 2, 0, 2, 8, 2, 8, 2, ...], scorer={'score': <function _passthrough_scorer>}, train=array([1238, 1241, 1244, ..., 3172, 3173, 3174]), test=array([   0,    1,    2, ..., 1870, 1873, 1876]), verbose=0, parameters={'clf__decision_function_shape': 'ovo', 'clf__kernel': 'linear', 'clf__nu': 0.8, 'clf__random_state': 1337, 'clf__shrinking': True, 'clf__tol': 0.01}, fit_params={}, return_train_score='warn', return_parameters=False, return_n_test_samples=True, return_times=True, error_score='raise')\n    453 \n    454     try:\n    455         if y_train is None:\n    456             estimator.fit(X_train, **fit_params)\n    457         else:\n--> 458             estimator.fit(X_train, y_train, **fit_params)\n        estimator.fit = <bound method Pipeline.fit of Pipeline(memory=No...,\n   shrinking=True, tol=0.01, verbose=False))])>\n        X_train = memmap([[0., 0., 0., ..., 0., 0., 0.],\n        [... 0., 0.],\n        [0., 0., 0., ..., 0., 0., 0.]])\n        y_train = [3, 3, 3, 3, 3, 9, 9, 9, 3, 9, 6, 9, 9, 9, 9, 9, 9, 9, 9, 9, ...]\n        fit_params = {}\n    459 \n    460     except Exception as e:\n    461         # Note fit time as time until error\n    462         fit_time = time.time() - start_time\n\n...........................................................................\n/home/bob/.local/lib/python3.6/site-packages/sklearn/pipeline.py in fit(self=Pipeline(memory=None,\n     steps=[('clf', NuSVC(...7,\n   shrinking=True, tol=0.01, verbose=False))]), X=memmap([[0., 0., 0., ..., 0., 0., 0.],\n        [... 0., 0.],\n        [0., 0., 0., ..., 0., 0., 0.]]), y=[3, 3, 3, 3, 3, 9, 9, 9, 3, 9, 6, 9, 9, 9, 9, 9, 9, 9, 9, 9, ...], **fit_params={})\n    245         self : Pipeline\n    246             This estimator\n    247         \"\"\"\n    248         Xt, fit_params = self._fit(X, y, **fit_params)\n    249         if self._final_estimator is not None:\n--> 250             self._final_estimator.fit(Xt, y, **fit_params)\n        self._final_estimator.fit = <bound method BaseLibSVM.fit of NuSVC(cache_size...337,\n   shrinking=True, tol=0.01, verbose=False)>\n        Xt = memmap([[0., 0., 0., ..., 0., 0., 0.],\n        [... 0., 0.],\n        [0., 0., 0., ..., 0., 0., 0.]])\n        y = [3, 3, 3, 3, 3, 9, 9, 9, 3, 9, 6, 9, 9, 9, 9, 9, 9, 9, 9, 9, ...]\n        fit_params = {}\n    251         return self\n    252 \n    253     def fit_transform(self, X, y=None, **fit_params):\n    254         \"\"\"Fit the model and transform with the final estimator\n\n...........................................................................\n/home/bob/.local/lib/python3.6/site-packages/sklearn/svm/base.py in fit(self=NuSVC(cache_size=200, class_weight=None, coef0=0...1337,\n   shrinking=True, tol=0.01, verbose=False), X=array([[0., 0., 0., ..., 0., 0., 0.],\n       [0...., 0., 0.],\n       [0., 0., 0., ..., 0., 0., 0.]]), y=array([3., 3., 3., ..., 1., 8., 0.]), sample_weight=array([], dtype=float64))\n    182         fit = self._sparse_fit if self._sparse else self._dense_fit\n    183         if self.verbose:  # pragma: no cover\n    184             print('[LibSVM]', end='')\n    185 \n    186         seed = rnd.randint(np.iinfo('i').max)\n--> 187         fit(X, y, sample_weight, solver_type, kernel, random_seed=seed)\n        fit = <bound method BaseLibSVM._dense_fit of NuSVC(cac...337,\n   shrinking=True, tol=0.01, verbose=False)>\n        X = array([[0., 0., 0., ..., 0., 0., 0.],\n       [0...., 0., 0.],\n       [0., 0., 0., ..., 0., 0., 0.]])\n        y = array([3., 3., 3., ..., 1., 8., 0.])\n        sample_weight = array([], dtype=float64)\n        solver_type = 1\n        kernel = 'linear'\n        seed = 1125387415\n    188         # see comment on the other call to np.iinfo in this file\n    189 \n    190         self.shape_fit_ = X.shape\n    191 \n\n...........................................................................\n/home/bob/.local/lib/python3.6/site-packages/sklearn/svm/base.py in _dense_fit(self=NuSVC(cache_size=200, class_weight=None, coef0=0...1337,\n   shrinking=True, tol=0.01, verbose=False), X=array([[0., 0., 0., ..., 0., 0., 0.],\n       [0...., 0., 0.],\n       [0., 0., 0., ..., 0., 0., 0.]]), y=array([3., 3., 3., ..., 1., 8., 0.]), sample_weight=array([], dtype=float64), solver_type=1, kernel='linear', random_seed=1125387415)\n    249                 class_weight=self.class_weight_, kernel=kernel, C=self.C,\n    250                 nu=self.nu, probability=self.probability, degree=self.degree,\n    251                 shrinking=self.shrinking, tol=self.tol,\n    252                 cache_size=self.cache_size, coef0=self.coef0,\n    253                 gamma=self._gamma, epsilon=self.epsilon,\n--> 254                 max_iter=self.max_iter, random_seed=random_seed)\n        self.max_iter = -1\n        random_seed = 1125387415\n    255 \n    256         self._warn_from_fit_status()\n    257 \n    258     def _sparse_fit(self, X, y, sample_weight, solver_type, kernel,\n\n...........................................................................\n/home/bob/.local/lib/python3.6/site-packages/sklearn/svm/libsvm.cpython-36m-x86_64-linux-gnu.so in sklearn.svm.libsvm.fit()\n\nValueError: specified nu is infeasible\n___________________________________________________________________________",
     "output_type": "error",
     "traceback": [
      "\u001b[0;31m---------------------------------------------------------------------------\u001b[0m",
      "\u001b[0;31mRemoteTraceback\u001b[0m                           Traceback (most recent call last)",
      "\u001b[0;31mRemoteTraceback\u001b[0m: \n\"\"\"\nTraceback (most recent call last):\n  File \"/home/bob/.local/lib/python3.6/site-packages/sklearn/externals/joblib/_parallel_backends.py\", line 350, in __call__\n    return self.func(*args, **kwargs)\n  File \"/home/bob/.local/lib/python3.6/site-packages/sklearn/externals/joblib/parallel.py\", line 131, in __call__\n    return [func(*args, **kwargs) for func, args, kwargs in self.items]\n  File \"/home/bob/.local/lib/python3.6/site-packages/sklearn/externals/joblib/parallel.py\", line 131, in <listcomp>\n    return [func(*args, **kwargs) for func, args, kwargs in self.items]\n  File \"/home/bob/.local/lib/python3.6/site-packages/sklearn/model_selection/_validation.py\", line 458, in _fit_and_score\n    estimator.fit(X_train, y_train, **fit_params)\n  File \"/home/bob/.local/lib/python3.6/site-packages/sklearn/pipeline.py\", line 250, in fit\n    self._final_estimator.fit(Xt, y, **fit_params)\n  File \"/home/bob/.local/lib/python3.6/site-packages/sklearn/svm/base.py\", line 187, in fit\n    fit(X, y, sample_weight, solver_type, kernel, random_seed=seed)\n  File \"/home/bob/.local/lib/python3.6/site-packages/sklearn/svm/base.py\", line 254, in _dense_fit\n    max_iter=self.max_iter, random_seed=random_seed)\n  File \"sklearn/svm/libsvm.pyx\", line 187, in sklearn.svm.libsvm.fit\nValueError: specified nu is infeasible\n\nDuring handling of the above exception, another exception occurred:\n\nTraceback (most recent call last):\n  File \"/usr/lib/python3.6/multiprocessing/pool.py\", line 119, in worker\n    result = (True, func(*args, **kwds))\n  File \"/home/bob/.local/lib/python3.6/site-packages/sklearn/externals/joblib/_parallel_backends.py\", line 359, in __call__\n    raise TransportableException(text, e_type)\nsklearn.externals.joblib.my_exceptions.TransportableException: TransportableException\n___________________________________________________________________________\nValueError                                         Mon Apr 16 09:33:13 2018\nPID: 21772                                   Python 3.6.3: /usr/bin/python3\n...........................................................................\n/home/bob/.local/lib/python3.6/site-packages/sklearn/externals/joblib/parallel.py in __call__(self=<sklearn.externals.joblib.parallel.BatchedCalls object>)\n    126     def __init__(self, iterator_slice):\n    127         self.items = list(iterator_slice)\n    128         self._size = len(self.items)\n    129 \n    130     def __call__(self):\n--> 131         return [func(*args, **kwargs) for func, args, kwargs in self.items]\n        self.items = [(<function _fit_and_score>, (Pipeline(memory=None,\n     steps=[('clf', NuSVC(...7,\n   shrinking=True, tol=0.01, verbose=False))]), memmap([[0., 0., 0., ..., 0., 0., 0.],\n        [... 0., 0.],\n        [0., 0., 0., ..., 0., 0., 0.]]), [0, 0, 0, 0, 0, 0, 4, 1, 2, 1, 2, 1, 6, 2, 0, 2, 8, 2, 8, 2, ...], {'score': <function _passthrough_scorer>}, array([1238, 1241, 1244, ..., 3172, 3173, 3174]), array([   0,    1,    2, ..., 1870, 1873, 1876]), 0, {'clf__decision_function_shape': 'ovo', 'clf__kernel': 'linear', 'clf__nu': 0.8, 'clf__random_state': 1337, 'clf__shrinking': True, 'clf__tol': 0.01}), {'error_score': 'raise', 'fit_params': {}, 'return_n_test_samples': True, 'return_parameters': False, 'return_times': True, 'return_train_score': 'warn'})]\n    132 \n    133     def __len__(self):\n    134         return self._size\n    135 \n\n...........................................................................\n/home/bob/.local/lib/python3.6/site-packages/sklearn/externals/joblib/parallel.py in <listcomp>(.0=<list_iterator object>)\n    126     def __init__(self, iterator_slice):\n    127         self.items = list(iterator_slice)\n    128         self._size = len(self.items)\n    129 \n    130     def __call__(self):\n--> 131         return [func(*args, **kwargs) for func, args, kwargs in self.items]\n        func = <function _fit_and_score>\n        args = (Pipeline(memory=None,\n     steps=[('clf', NuSVC(...7,\n   shrinking=True, tol=0.01, verbose=False))]), memmap([[0., 0., 0., ..., 0., 0., 0.],\n        [... 0., 0.],\n        [0., 0., 0., ..., 0., 0., 0.]]), [0, 0, 0, 0, 0, 0, 4, 1, 2, 1, 2, 1, 6, 2, 0, 2, 8, 2, 8, 2, ...], {'score': <function _passthrough_scorer>}, array([1238, 1241, 1244, ..., 3172, 3173, 3174]), array([   0,    1,    2, ..., 1870, 1873, 1876]), 0, {'clf__decision_function_shape': 'ovo', 'clf__kernel': 'linear', 'clf__nu': 0.8, 'clf__random_state': 1337, 'clf__shrinking': True, 'clf__tol': 0.01})\n        kwargs = {'error_score': 'raise', 'fit_params': {}, 'return_n_test_samples': True, 'return_parameters': False, 'return_times': True, 'return_train_score': 'warn'}\n    132 \n    133     def __len__(self):\n    134         return self._size\n    135 \n\n...........................................................................\n/home/bob/.local/lib/python3.6/site-packages/sklearn/model_selection/_validation.py in _fit_and_score(estimator=Pipeline(memory=None,\n     steps=[('clf', NuSVC(...7,\n   shrinking=True, tol=0.01, verbose=False))]), X=memmap([[0., 0., 0., ..., 0., 0., 0.],\n        [... 0., 0.],\n        [0., 0., 0., ..., 0., 0., 0.]]), y=[0, 0, 0, 0, 0, 0, 4, 1, 2, 1, 2, 1, 6, 2, 0, 2, 8, 2, 8, 2, ...], scorer={'score': <function _passthrough_scorer>}, train=array([1238, 1241, 1244, ..., 3172, 3173, 3174]), test=array([   0,    1,    2, ..., 1870, 1873, 1876]), verbose=0, parameters={'clf__decision_function_shape': 'ovo', 'clf__kernel': 'linear', 'clf__nu': 0.8, 'clf__random_state': 1337, 'clf__shrinking': True, 'clf__tol': 0.01}, fit_params={}, return_train_score='warn', return_parameters=False, return_n_test_samples=True, return_times=True, error_score='raise')\n    453 \n    454     try:\n    455         if y_train is None:\n    456             estimator.fit(X_train, **fit_params)\n    457         else:\n--> 458             estimator.fit(X_train, y_train, **fit_params)\n        estimator.fit = <bound method Pipeline.fit of Pipeline(memory=No...,\n   shrinking=True, tol=0.01, verbose=False))])>\n        X_train = memmap([[0., 0., 0., ..., 0., 0., 0.],\n        [... 0., 0.],\n        [0., 0., 0., ..., 0., 0., 0.]])\n        y_train = [3, 3, 3, 3, 3, 9, 9, 9, 3, 9, 6, 9, 9, 9, 9, 9, 9, 9, 9, 9, ...]\n        fit_params = {}\n    459 \n    460     except Exception as e:\n    461         # Note fit time as time until error\n    462         fit_time = time.time() - start_time\n\n...........................................................................\n/home/bob/.local/lib/python3.6/site-packages/sklearn/pipeline.py in fit(self=Pipeline(memory=None,\n     steps=[('clf', NuSVC(...7,\n   shrinking=True, tol=0.01, verbose=False))]), X=memmap([[0., 0., 0., ..., 0., 0., 0.],\n        [... 0., 0.],\n        [0., 0., 0., ..., 0., 0., 0.]]), y=[3, 3, 3, 3, 3, 9, 9, 9, 3, 9, 6, 9, 9, 9, 9, 9, 9, 9, 9, 9, ...], **fit_params={})\n    245         self : Pipeline\n    246             This estimator\n    247         \"\"\"\n    248         Xt, fit_params = self._fit(X, y, **fit_params)\n    249         if self._final_estimator is not None:\n--> 250             self._final_estimator.fit(Xt, y, **fit_params)\n        self._final_estimator.fit = <bound method BaseLibSVM.fit of NuSVC(cache_size...337,\n   shrinking=True, tol=0.01, verbose=False)>\n        Xt = memmap([[0., 0., 0., ..., 0., 0., 0.],\n        [... 0., 0.],\n        [0., 0., 0., ..., 0., 0., 0.]])\n        y = [3, 3, 3, 3, 3, 9, 9, 9, 3, 9, 6, 9, 9, 9, 9, 9, 9, 9, 9, 9, ...]\n        fit_params = {}\n    251         return self\n    252 \n    253     def fit_transform(self, X, y=None, **fit_params):\n    254         \"\"\"Fit the model and transform with the final estimator\n\n...........................................................................\n/home/bob/.local/lib/python3.6/site-packages/sklearn/svm/base.py in fit(self=NuSVC(cache_size=200, class_weight=None, coef0=0...1337,\n   shrinking=True, tol=0.01, verbose=False), X=array([[0., 0., 0., ..., 0., 0., 0.],\n       [0...., 0., 0.],\n       [0., 0., 0., ..., 0., 0., 0.]]), y=array([3., 3., 3., ..., 1., 8., 0.]), sample_weight=array([], dtype=float64))\n    182         fit = self._sparse_fit if self._sparse else self._dense_fit\n    183         if self.verbose:  # pragma: no cover\n    184             print('[LibSVM]', end='')\n    185 \n    186         seed = rnd.randint(np.iinfo('i').max)\n--> 187         fit(X, y, sample_weight, solver_type, kernel, random_seed=seed)\n        fit = <bound method BaseLibSVM._dense_fit of NuSVC(cac...337,\n   shrinking=True, tol=0.01, verbose=False)>\n        X = array([[0., 0., 0., ..., 0., 0., 0.],\n       [0...., 0., 0.],\n       [0., 0., 0., ..., 0., 0., 0.]])\n        y = array([3., 3., 3., ..., 1., 8., 0.])\n        sample_weight = array([], dtype=float64)\n        solver_type = 1\n        kernel = 'linear'\n        seed = 1125387415\n    188         # see comment on the other call to np.iinfo in this file\n    189 \n    190         self.shape_fit_ = X.shape\n    191 \n\n...........................................................................\n/home/bob/.local/lib/python3.6/site-packages/sklearn/svm/base.py in _dense_fit(self=NuSVC(cache_size=200, class_weight=None, coef0=0...1337,\n   shrinking=True, tol=0.01, verbose=False), X=array([[0., 0., 0., ..., 0., 0., 0.],\n       [0...., 0., 0.],\n       [0., 0., 0., ..., 0., 0., 0.]]), y=array([3., 3., 3., ..., 1., 8., 0.]), sample_weight=array([], dtype=float64), solver_type=1, kernel='linear', random_seed=1125387415)\n    249                 class_weight=self.class_weight_, kernel=kernel, C=self.C,\n    250                 nu=self.nu, probability=self.probability, degree=self.degree,\n    251                 shrinking=self.shrinking, tol=self.tol,\n    252                 cache_size=self.cache_size, coef0=self.coef0,\n    253                 gamma=self._gamma, epsilon=self.epsilon,\n--> 254                 max_iter=self.max_iter, random_seed=random_seed)\n        self.max_iter = -1\n        random_seed = 1125387415\n    255 \n    256         self._warn_from_fit_status()\n    257 \n    258     def _sparse_fit(self, X, y, sample_weight, solver_type, kernel,\n\n...........................................................................\n/home/bob/.local/lib/python3.6/site-packages/sklearn/svm/libsvm.cpython-36m-x86_64-linux-gnu.so in sklearn.svm.libsvm.fit()\n\nValueError: specified nu is infeasible\n___________________________________________________________________________\n\"\"\"",
      "\nThe above exception was the direct cause of the following exception:\n",
      "\u001b[0;31mTransportableException\u001b[0m                    Traceback (most recent call last)",
      "\u001b[0;32m~/.local/lib/python3.6/site-packages/sklearn/externals/joblib/parallel.py\u001b[0m in \u001b[0;36mretrieve\u001b[0;34m(self)\u001b[0m\n\u001b[1;32m    698\u001b[0m                 \u001b[0;32mif\u001b[0m \u001b[0mgetattr\u001b[0m\u001b[0;34m(\u001b[0m\u001b[0mself\u001b[0m\u001b[0;34m.\u001b[0m\u001b[0m_backend\u001b[0m\u001b[0;34m,\u001b[0m \u001b[0;34m'supports_timeout'\u001b[0m\u001b[0;34m,\u001b[0m \u001b[0;32mFalse\u001b[0m\u001b[0;34m)\u001b[0m\u001b[0;34m:\u001b[0m\u001b[0;34m\u001b[0m\u001b[0m\n\u001b[0;32m--> 699\u001b[0;31m                     \u001b[0mself\u001b[0m\u001b[0;34m.\u001b[0m\u001b[0m_output\u001b[0m\u001b[0;34m.\u001b[0m\u001b[0mextend\u001b[0m\u001b[0;34m(\u001b[0m\u001b[0mjob\u001b[0m\u001b[0;34m.\u001b[0m\u001b[0mget\u001b[0m\u001b[0;34m(\u001b[0m\u001b[0mtimeout\u001b[0m\u001b[0;34m=\u001b[0m\u001b[0mself\u001b[0m\u001b[0;34m.\u001b[0m\u001b[0mtimeout\u001b[0m\u001b[0;34m)\u001b[0m\u001b[0;34m)\u001b[0m\u001b[0;34m\u001b[0m\u001b[0m\n\u001b[0m\u001b[1;32m    700\u001b[0m                 \u001b[0;32melse\u001b[0m\u001b[0;34m:\u001b[0m\u001b[0;34m\u001b[0m\u001b[0m\n",
      "\u001b[0;32m/usr/lib/python3.6/multiprocessing/pool.py\u001b[0m in \u001b[0;36mget\u001b[0;34m(self, timeout)\u001b[0m\n\u001b[1;32m    643\u001b[0m         \u001b[0;32melse\u001b[0m\u001b[0;34m:\u001b[0m\u001b[0;34m\u001b[0m\u001b[0m\n\u001b[0;32m--> 644\u001b[0;31m             \u001b[0;32mraise\u001b[0m \u001b[0mself\u001b[0m\u001b[0;34m.\u001b[0m\u001b[0m_value\u001b[0m\u001b[0;34m\u001b[0m\u001b[0m\n\u001b[0m\u001b[1;32m    645\u001b[0m \u001b[0;34m\u001b[0m\u001b[0m\n",
      "\u001b[0;31mTransportableException\u001b[0m: TransportableException\n___________________________________________________________________________\nValueError                                         Mon Apr 16 09:33:13 2018\nPID: 21772                                   Python 3.6.3: /usr/bin/python3\n...........................................................................\n/home/bob/.local/lib/python3.6/site-packages/sklearn/externals/joblib/parallel.py in __call__(self=<sklearn.externals.joblib.parallel.BatchedCalls object>)\n    126     def __init__(self, iterator_slice):\n    127         self.items = list(iterator_slice)\n    128         self._size = len(self.items)\n    129 \n    130     def __call__(self):\n--> 131         return [func(*args, **kwargs) for func, args, kwargs in self.items]\n        self.items = [(<function _fit_and_score>, (Pipeline(memory=None,\n     steps=[('clf', NuSVC(...7,\n   shrinking=True, tol=0.01, verbose=False))]), memmap([[0., 0., 0., ..., 0., 0., 0.],\n        [... 0., 0.],\n        [0., 0., 0., ..., 0., 0., 0.]]), [0, 0, 0, 0, 0, 0, 4, 1, 2, 1, 2, 1, 6, 2, 0, 2, 8, 2, 8, 2, ...], {'score': <function _passthrough_scorer>}, array([1238, 1241, 1244, ..., 3172, 3173, 3174]), array([   0,    1,    2, ..., 1870, 1873, 1876]), 0, {'clf__decision_function_shape': 'ovo', 'clf__kernel': 'linear', 'clf__nu': 0.8, 'clf__random_state': 1337, 'clf__shrinking': True, 'clf__tol': 0.01}), {'error_score': 'raise', 'fit_params': {}, 'return_n_test_samples': True, 'return_parameters': False, 'return_times': True, 'return_train_score': 'warn'})]\n    132 \n    133     def __len__(self):\n    134         return self._size\n    135 \n\n...........................................................................\n/home/bob/.local/lib/python3.6/site-packages/sklearn/externals/joblib/parallel.py in <listcomp>(.0=<list_iterator object>)\n    126     def __init__(self, iterator_slice):\n    127         self.items = list(iterator_slice)\n    128         self._size = len(self.items)\n    129 \n    130     def __call__(self):\n--> 131         return [func(*args, **kwargs) for func, args, kwargs in self.items]\n        func = <function _fit_and_score>\n        args = (Pipeline(memory=None,\n     steps=[('clf', NuSVC(...7,\n   shrinking=True, tol=0.01, verbose=False))]), memmap([[0., 0., 0., ..., 0., 0., 0.],\n        [... 0., 0.],\n        [0., 0., 0., ..., 0., 0., 0.]]), [0, 0, 0, 0, 0, 0, 4, 1, 2, 1, 2, 1, 6, 2, 0, 2, 8, 2, 8, 2, ...], {'score': <function _passthrough_scorer>}, array([1238, 1241, 1244, ..., 3172, 3173, 3174]), array([   0,    1,    2, ..., 1870, 1873, 1876]), 0, {'clf__decision_function_shape': 'ovo', 'clf__kernel': 'linear', 'clf__nu': 0.8, 'clf__random_state': 1337, 'clf__shrinking': True, 'clf__tol': 0.01})\n        kwargs = {'error_score': 'raise', 'fit_params': {}, 'return_n_test_samples': True, 'return_parameters': False, 'return_times': True, 'return_train_score': 'warn'}\n    132 \n    133     def __len__(self):\n    134         return self._size\n    135 \n\n...........................................................................\n/home/bob/.local/lib/python3.6/site-packages/sklearn/model_selection/_validation.py in _fit_and_score(estimator=Pipeline(memory=None,\n     steps=[('clf', NuSVC(...7,\n   shrinking=True, tol=0.01, verbose=False))]), X=memmap([[0., 0., 0., ..., 0., 0., 0.],\n        [... 0., 0.],\n        [0., 0., 0., ..., 0., 0., 0.]]), y=[0, 0, 0, 0, 0, 0, 4, 1, 2, 1, 2, 1, 6, 2, 0, 2, 8, 2, 8, 2, ...], scorer={'score': <function _passthrough_scorer>}, train=array([1238, 1241, 1244, ..., 3172, 3173, 3174]), test=array([   0,    1,    2, ..., 1870, 1873, 1876]), verbose=0, parameters={'clf__decision_function_shape': 'ovo', 'clf__kernel': 'linear', 'clf__nu': 0.8, 'clf__random_state': 1337, 'clf__shrinking': True, 'clf__tol': 0.01}, fit_params={}, return_train_score='warn', return_parameters=False, return_n_test_samples=True, return_times=True, error_score='raise')\n    453 \n    454     try:\n    455         if y_train is None:\n    456             estimator.fit(X_train, **fit_params)\n    457         else:\n--> 458             estimator.fit(X_train, y_train, **fit_params)\n        estimator.fit = <bound method Pipeline.fit of Pipeline(memory=No...,\n   shrinking=True, tol=0.01, verbose=False))])>\n        X_train = memmap([[0., 0., 0., ..., 0., 0., 0.],\n        [... 0., 0.],\n        [0., 0., 0., ..., 0., 0., 0.]])\n        y_train = [3, 3, 3, 3, 3, 9, 9, 9, 3, 9, 6, 9, 9, 9, 9, 9, 9, 9, 9, 9, ...]\n        fit_params = {}\n    459 \n    460     except Exception as e:\n    461         # Note fit time as time until error\n    462         fit_time = time.time() - start_time\n\n...........................................................................\n/home/bob/.local/lib/python3.6/site-packages/sklearn/pipeline.py in fit(self=Pipeline(memory=None,\n     steps=[('clf', NuSVC(...7,\n   shrinking=True, tol=0.01, verbose=False))]), X=memmap([[0., 0., 0., ..., 0., 0., 0.],\n        [... 0., 0.],\n        [0., 0., 0., ..., 0., 0., 0.]]), y=[3, 3, 3, 3, 3, 9, 9, 9, 3, 9, 6, 9, 9, 9, 9, 9, 9, 9, 9, 9, ...], **fit_params={})\n    245         self : Pipeline\n    246             This estimator\n    247         \"\"\"\n    248         Xt, fit_params = self._fit(X, y, **fit_params)\n    249         if self._final_estimator is not None:\n--> 250             self._final_estimator.fit(Xt, y, **fit_params)\n        self._final_estimator.fit = <bound method BaseLibSVM.fit of NuSVC(cache_size...337,\n   shrinking=True, tol=0.01, verbose=False)>\n        Xt = memmap([[0., 0., 0., ..., 0., 0., 0.],\n        [... 0., 0.],\n        [0., 0., 0., ..., 0., 0., 0.]])\n        y = [3, 3, 3, 3, 3, 9, 9, 9, 3, 9, 6, 9, 9, 9, 9, 9, 9, 9, 9, 9, ...]\n        fit_params = {}\n    251         return self\n    252 \n    253     def fit_transform(self, X, y=None, **fit_params):\n    254         \"\"\"Fit the model and transform with the final estimator\n\n...........................................................................\n/home/bob/.local/lib/python3.6/site-packages/sklearn/svm/base.py in fit(self=NuSVC(cache_size=200, class_weight=None, coef0=0...1337,\n   shrinking=True, tol=0.01, verbose=False), X=array([[0., 0., 0., ..., 0., 0., 0.],\n       [0...., 0., 0.],\n       [0., 0., 0., ..., 0., 0., 0.]]), y=array([3., 3., 3., ..., 1., 8., 0.]), sample_weight=array([], dtype=float64))\n    182         fit = self._sparse_fit if self._sparse else self._dense_fit\n    183         if self.verbose:  # pragma: no cover\n    184             print('[LibSVM]', end='')\n    185 \n    186         seed = rnd.randint(np.iinfo('i').max)\n--> 187         fit(X, y, sample_weight, solver_type, kernel, random_seed=seed)\n        fit = <bound method BaseLibSVM._dense_fit of NuSVC(cac...337,\n   shrinking=True, tol=0.01, verbose=False)>\n        X = array([[0., 0., 0., ..., 0., 0., 0.],\n       [0...., 0., 0.],\n       [0., 0., 0., ..., 0., 0., 0.]])\n        y = array([3., 3., 3., ..., 1., 8., 0.])\n        sample_weight = array([], dtype=float64)\n        solver_type = 1\n        kernel = 'linear'\n        seed = 1125387415\n    188         # see comment on the other call to np.iinfo in this file\n    189 \n    190         self.shape_fit_ = X.shape\n    191 \n\n...........................................................................\n/home/bob/.local/lib/python3.6/site-packages/sklearn/svm/base.py in _dense_fit(self=NuSVC(cache_size=200, class_weight=None, coef0=0...1337,\n   shrinking=True, tol=0.01, verbose=False), X=array([[0., 0., 0., ..., 0., 0., 0.],\n       [0...., 0., 0.],\n       [0., 0., 0., ..., 0., 0., 0.]]), y=array([3., 3., 3., ..., 1., 8., 0.]), sample_weight=array([], dtype=float64), solver_type=1, kernel='linear', random_seed=1125387415)\n    249                 class_weight=self.class_weight_, kernel=kernel, C=self.C,\n    250                 nu=self.nu, probability=self.probability, degree=self.degree,\n    251                 shrinking=self.shrinking, tol=self.tol,\n    252                 cache_size=self.cache_size, coef0=self.coef0,\n    253                 gamma=self._gamma, epsilon=self.epsilon,\n--> 254                 max_iter=self.max_iter, random_seed=random_seed)\n        self.max_iter = -1\n        random_seed = 1125387415\n    255 \n    256         self._warn_from_fit_status()\n    257 \n    258     def _sparse_fit(self, X, y, sample_weight, solver_type, kernel,\n\n...........................................................................\n/home/bob/.local/lib/python3.6/site-packages/sklearn/svm/libsvm.cpython-36m-x86_64-linux-gnu.so in sklearn.svm.libsvm.fit()\n\nValueError: specified nu is infeasible\n___________________________________________________________________________",
      "\nDuring handling of the above exception, another exception occurred:\n",
      "\u001b[0;31mJoblibValueError\u001b[0m                          Traceback (most recent call last)",
      "\u001b[0;32m<ipython-input-306-7ea50c2bdd1d>\u001b[0m in \u001b[0;36m<module>\u001b[0;34m()\u001b[0m\n\u001b[0;32m----> 1\u001b[0;31m \u001b[0mgrid_search\u001b[0m\u001b[0;34m(\u001b[0m\u001b[0;34m)\u001b[0m\u001b[0;34m\u001b[0m\u001b[0m\n\u001b[0m",
      "\u001b[0;32m<ipython-input-305-471b8d13729a>\u001b[0m in \u001b[0;36mgrid_search\u001b[0;34m()\u001b[0m\n\u001b[1;32m     12\u001b[0m     \u001b[0mgrid_search\u001b[0m \u001b[0;34m=\u001b[0m \u001b[0mGridSearchCV\u001b[0m\u001b[0;34m(\u001b[0m\u001b[0mpipeline\u001b[0m\u001b[0;34m,\u001b[0m \u001b[0mparam_grid\u001b[0m\u001b[0;34m=\u001b[0m\u001b[0mparams\u001b[0m\u001b[0;34m,\u001b[0m \u001b[0mcv\u001b[0m\u001b[0;34m=\u001b[0m\u001b[0;36m2\u001b[0m\u001b[0;34m,\u001b[0m \u001b[0mn_jobs\u001b[0m\u001b[0;34m=\u001b[0m\u001b[0;36m4\u001b[0m\u001b[0;34m)\u001b[0m\u001b[0;34m\u001b[0m\u001b[0m\n\u001b[1;32m     13\u001b[0m \u001b[0;34m\u001b[0m\u001b[0m\n\u001b[0;32m---> 14\u001b[0;31m     \u001b[0mgrid_search\u001b[0m\u001b[0;34m.\u001b[0m\u001b[0mfit\u001b[0m\u001b[0;34m(\u001b[0m\u001b[0mflattened_images\u001b[0m\u001b[0;34m,\u001b[0m \u001b[0mclassifications\u001b[0m \u001b[0;34m)\u001b[0m\u001b[0;34m\u001b[0m\u001b[0m\n\u001b[0m\u001b[1;32m     15\u001b[0m     \u001b[0mreport\u001b[0m\u001b[0;34m(\u001b[0m\u001b[0mgrid_search\u001b[0m\u001b[0;34m.\u001b[0m\u001b[0mcv_results_\u001b[0m\u001b[0;34m)\u001b[0m\u001b[0;34m\u001b[0m\u001b[0m\n",
      "\u001b[0;32m~/.local/lib/python3.6/site-packages/sklearn/model_selection/_search.py\u001b[0m in \u001b[0;36mfit\u001b[0;34m(self, X, y, groups, **fit_params)\u001b[0m\n\u001b[1;32m    637\u001b[0m                                   error_score=self.error_score)\n\u001b[1;32m    638\u001b[0m           for parameters, (train, test) in product(candidate_params,\n\u001b[0;32m--> 639\u001b[0;31m                                                    cv.split(X, y, groups)))\n\u001b[0m\u001b[1;32m    640\u001b[0m \u001b[0;34m\u001b[0m\u001b[0m\n\u001b[1;32m    641\u001b[0m         \u001b[0;31m# if one choose to see train score, \"out\" will contain train score info\u001b[0m\u001b[0;34m\u001b[0m\u001b[0;34m\u001b[0m\u001b[0m\n",
      "\u001b[0;32m~/.local/lib/python3.6/site-packages/sklearn/externals/joblib/parallel.py\u001b[0m in \u001b[0;36m__call__\u001b[0;34m(self, iterable)\u001b[0m\n\u001b[1;32m    787\u001b[0m                 \u001b[0;31m# consumption.\u001b[0m\u001b[0;34m\u001b[0m\u001b[0;34m\u001b[0m\u001b[0m\n\u001b[1;32m    788\u001b[0m                 \u001b[0mself\u001b[0m\u001b[0;34m.\u001b[0m\u001b[0m_iterating\u001b[0m \u001b[0;34m=\u001b[0m \u001b[0;32mFalse\u001b[0m\u001b[0;34m\u001b[0m\u001b[0m\n\u001b[0;32m--> 789\u001b[0;31m             \u001b[0mself\u001b[0m\u001b[0;34m.\u001b[0m\u001b[0mretrieve\u001b[0m\u001b[0;34m(\u001b[0m\u001b[0;34m)\u001b[0m\u001b[0;34m\u001b[0m\u001b[0m\n\u001b[0m\u001b[1;32m    790\u001b[0m             \u001b[0;31m# Make sure that we get a last message telling us we are done\u001b[0m\u001b[0;34m\u001b[0m\u001b[0;34m\u001b[0m\u001b[0m\n\u001b[1;32m    791\u001b[0m             \u001b[0melapsed_time\u001b[0m \u001b[0;34m=\u001b[0m \u001b[0mtime\u001b[0m\u001b[0;34m.\u001b[0m\u001b[0mtime\u001b[0m\u001b[0;34m(\u001b[0m\u001b[0;34m)\u001b[0m \u001b[0;34m-\u001b[0m \u001b[0mself\u001b[0m\u001b[0;34m.\u001b[0m\u001b[0m_start_time\u001b[0m\u001b[0;34m\u001b[0m\u001b[0m\n",
      "\u001b[0;32m~/.local/lib/python3.6/site-packages/sklearn/externals/joblib/parallel.py\u001b[0m in \u001b[0;36mretrieve\u001b[0;34m(self)\u001b[0m\n\u001b[1;32m    738\u001b[0m                     \u001b[0mexception\u001b[0m \u001b[0;34m=\u001b[0m \u001b[0mexception_type\u001b[0m\u001b[0;34m(\u001b[0m\u001b[0mreport\u001b[0m\u001b[0;34m)\u001b[0m\u001b[0;34m\u001b[0m\u001b[0m\n\u001b[1;32m    739\u001b[0m \u001b[0;34m\u001b[0m\u001b[0m\n\u001b[0;32m--> 740\u001b[0;31m                     \u001b[0;32mraise\u001b[0m \u001b[0mexception\u001b[0m\u001b[0;34m\u001b[0m\u001b[0m\n\u001b[0m\u001b[1;32m    741\u001b[0m \u001b[0;34m\u001b[0m\u001b[0m\n\u001b[1;32m    742\u001b[0m     \u001b[0;32mdef\u001b[0m \u001b[0m__call__\u001b[0m\u001b[0;34m(\u001b[0m\u001b[0mself\u001b[0m\u001b[0;34m,\u001b[0m \u001b[0miterable\u001b[0m\u001b[0;34m)\u001b[0m\u001b[0;34m:\u001b[0m\u001b[0;34m\u001b[0m\u001b[0m\n",
      "\u001b[0;31mJoblibValueError\u001b[0m: JoblibValueError\n___________________________________________________________________________\nMultiprocessing exception:\n...........................................................................\n/usr/lib/python3.6/runpy.py in _run_module_as_main(mod_name='ipykernel_launcher', alter_argv=1)\n    188         sys.exit(msg)\n    189     main_globals = sys.modules[\"__main__\"].__dict__\n    190     if alter_argv:\n    191         sys.argv[0] = mod_spec.origin\n    192     return _run_code(code, main_globals, None,\n--> 193                      \"__main__\", mod_spec)\n        mod_spec = ModuleSpec(name='ipykernel_launcher', loader=<_f...b/python3.6/site-packages/ipykernel_launcher.py')\n    194 \n    195 def run_module(mod_name, init_globals=None,\n    196                run_name=None, alter_sys=False):\n    197     \"\"\"Execute a module's code without importing it\n\n...........................................................................\n/usr/lib/python3.6/runpy.py in _run_code(code=<code object <module> at 0x7f74cf8671e0, file \"/...3.6/site-packages/ipykernel_launcher.py\", line 5>, run_globals={'__annotations__': {}, '__builtins__': <module 'builtins' (built-in)>, '__cached__': '/home/bob/.local/lib/python3.6/site-packages/__pycache__/ipykernel_launcher.cpython-36.pyc', '__doc__': 'Entry point for launching an IPython kernel.\\n\\nTh...orts until\\nafter removing the cwd from sys.path.\\n', '__file__': '/home/bob/.local/lib/python3.6/site-packages/ipykernel_launcher.py', '__loader__': <_frozen_importlib_external.SourceFileLoader object>, '__name__': '__main__', '__package__': '', '__spec__': ModuleSpec(name='ipykernel_launcher', loader=<_f...b/python3.6/site-packages/ipykernel_launcher.py'), 'app': <module 'ipykernel.kernelapp' from '/home/bob/.l.../python3.6/site-packages/ipykernel/kernelapp.py'>, ...}, init_globals=None, mod_name='__main__', mod_spec=ModuleSpec(name='ipykernel_launcher', loader=<_f...b/python3.6/site-packages/ipykernel_launcher.py'), pkg_name='', script_name=None)\n     80                        __cached__ = cached,\n     81                        __doc__ = None,\n     82                        __loader__ = loader,\n     83                        __package__ = pkg_name,\n     84                        __spec__ = mod_spec)\n---> 85     exec(code, run_globals)\n        code = <code object <module> at 0x7f74cf8671e0, file \"/...3.6/site-packages/ipykernel_launcher.py\", line 5>\n        run_globals = {'__annotations__': {}, '__builtins__': <module 'builtins' (built-in)>, '__cached__': '/home/bob/.local/lib/python3.6/site-packages/__pycache__/ipykernel_launcher.cpython-36.pyc', '__doc__': 'Entry point for launching an IPython kernel.\\n\\nTh...orts until\\nafter removing the cwd from sys.path.\\n', '__file__': '/home/bob/.local/lib/python3.6/site-packages/ipykernel_launcher.py', '__loader__': <_frozen_importlib_external.SourceFileLoader object>, '__name__': '__main__', '__package__': '', '__spec__': ModuleSpec(name='ipykernel_launcher', loader=<_f...b/python3.6/site-packages/ipykernel_launcher.py'), 'app': <module 'ipykernel.kernelapp' from '/home/bob/.l.../python3.6/site-packages/ipykernel/kernelapp.py'>, ...}\n     86     return run_globals\n     87 \n     88 def _run_module_code(code, init_globals=None,\n     89                     mod_name=None, mod_spec=None,\n\n...........................................................................\n/home/bob/.local/lib/python3.6/site-packages/ipykernel_launcher.py in <module>()\n     11     # This is added back by InteractiveShellApp.init_path()\n     12     if sys.path[0] == '':\n     13         del sys.path[0]\n     14 \n     15     from ipykernel import kernelapp as app\n---> 16     app.launch_new_instance()\n\n...........................................................................\n/home/bob/.local/lib/python3.6/site-packages/traitlets/config/application.py in launch_instance(cls=<class 'ipykernel.kernelapp.IPKernelApp'>, argv=None, **kwargs={})\n    653 \n    654         If a global instance already exists, this reinitializes and starts it\n    655         \"\"\"\n    656         app = cls.instance(**kwargs)\n    657         app.initialize(argv)\n--> 658         app.start()\n        app.start = <bound method IPKernelApp.start of <ipykernel.kernelapp.IPKernelApp object>>\n    659 \n    660 #-----------------------------------------------------------------------------\n    661 # utility functions, for convenience\n    662 #-----------------------------------------------------------------------------\n\n...........................................................................\n/home/bob/.local/lib/python3.6/site-packages/ipykernel/kernelapp.py in start(self=<ipykernel.kernelapp.IPKernelApp object>)\n    473         if self.poller is not None:\n    474             self.poller.start()\n    475         self.kernel.start()\n    476         self.io_loop = ioloop.IOLoop.current()\n    477         try:\n--> 478             self.io_loop.start()\n        self.io_loop.start = <bound method ZMQIOLoop.start of <zmq.eventloop.ioloop.ZMQIOLoop object>>\n    479         except KeyboardInterrupt:\n    480             pass\n    481 \n    482 launch_new_instance = IPKernelApp.launch_instance\n\n...........................................................................\n/home/bob/.local/lib/python3.6/site-packages/zmq/eventloop/ioloop.py in start(self=<zmq.eventloop.ioloop.ZMQIOLoop object>)\n    172             )\n    173         return loop\n    174     \n    175     def start(self):\n    176         try:\n--> 177             super(ZMQIOLoop, self).start()\n        self.start = <bound method ZMQIOLoop.start of <zmq.eventloop.ioloop.ZMQIOLoop object>>\n    178         except ZMQError as e:\n    179             if e.errno == ETERM:\n    180                 # quietly return on ETERM\n    181                 pass\n\n...........................................................................\n/home/bob/.local/lib/python3.6/site-packages/tornado/ioloop.py in start(self=<zmq.eventloop.ioloop.ZMQIOLoop object>)\n    883                 self._events.update(event_pairs)\n    884                 while self._events:\n    885                     fd, events = self._events.popitem()\n    886                     try:\n    887                         fd_obj, handler_func = self._handlers[fd]\n--> 888                         handler_func(fd_obj, events)\n        handler_func = <function wrap.<locals>.null_wrapper>\n        fd_obj = <zmq.sugar.socket.Socket object>\n        events = 1\n    889                     except (OSError, IOError) as e:\n    890                         if errno_from_exception(e) == errno.EPIPE:\n    891                             # Happens when the client closes the connection\n    892                             pass\n\n...........................................................................\n/home/bob/.local/lib/python3.6/site-packages/tornado/stack_context.py in null_wrapper(*args=(<zmq.sugar.socket.Socket object>, 1), **kwargs={})\n    272         # Fast path when there are no active contexts.\n    273         def null_wrapper(*args, **kwargs):\n    274             try:\n    275                 current_state = _state.contexts\n    276                 _state.contexts = cap_contexts[0]\n--> 277                 return fn(*args, **kwargs)\n        args = (<zmq.sugar.socket.Socket object>, 1)\n        kwargs = {}\n    278             finally:\n    279                 _state.contexts = current_state\n    280         null_wrapper._wrapped = True\n    281         return null_wrapper\n\n...........................................................................\n/home/bob/.local/lib/python3.6/site-packages/zmq/eventloop/zmqstream.py in _handle_events(self=<zmq.eventloop.zmqstream.ZMQStream object>, fd=<zmq.sugar.socket.Socket object>, events=1)\n    435             # dispatch events:\n    436             if events & IOLoop.ERROR:\n    437                 gen_log.error(\"got POLLERR event on ZMQStream, which doesn't make sense\")\n    438                 return\n    439             if events & IOLoop.READ:\n--> 440                 self._handle_recv()\n        self._handle_recv = <bound method ZMQStream._handle_recv of <zmq.eventloop.zmqstream.ZMQStream object>>\n    441                 if not self.socket:\n    442                     return\n    443             if events & IOLoop.WRITE:\n    444                 self._handle_send()\n\n...........................................................................\n/home/bob/.local/lib/python3.6/site-packages/zmq/eventloop/zmqstream.py in _handle_recv(self=<zmq.eventloop.zmqstream.ZMQStream object>)\n    467                 gen_log.error(\"RECV Error: %s\"%zmq.strerror(e.errno))\n    468         else:\n    469             if self._recv_callback:\n    470                 callback = self._recv_callback\n    471                 # self._recv_callback = None\n--> 472                 self._run_callback(callback, msg)\n        self._run_callback = <bound method ZMQStream._run_callback of <zmq.eventloop.zmqstream.ZMQStream object>>\n        callback = <function wrap.<locals>.null_wrapper>\n        msg = [<zmq.sugar.frame.Frame object>, <zmq.sugar.frame.Frame object>, <zmq.sugar.frame.Frame object>, <zmq.sugar.frame.Frame object>, <zmq.sugar.frame.Frame object>, <zmq.sugar.frame.Frame object>, <zmq.sugar.frame.Frame object>]\n    473                 \n    474         # self.update_state()\n    475         \n    476 \n\n...........................................................................\n/home/bob/.local/lib/python3.6/site-packages/zmq/eventloop/zmqstream.py in _run_callback(self=<zmq.eventloop.zmqstream.ZMQStream object>, callback=<function wrap.<locals>.null_wrapper>, *args=([<zmq.sugar.frame.Frame object>, <zmq.sugar.frame.Frame object>, <zmq.sugar.frame.Frame object>, <zmq.sugar.frame.Frame object>, <zmq.sugar.frame.Frame object>, <zmq.sugar.frame.Frame object>, <zmq.sugar.frame.Frame object>],), **kwargs={})\n    409         close our socket.\"\"\"\n    410         try:\n    411             # Use a NullContext to ensure that all StackContexts are run\n    412             # inside our blanket exception handler rather than outside.\n    413             with stack_context.NullContext():\n--> 414                 callback(*args, **kwargs)\n        callback = <function wrap.<locals>.null_wrapper>\n        args = ([<zmq.sugar.frame.Frame object>, <zmq.sugar.frame.Frame object>, <zmq.sugar.frame.Frame object>, <zmq.sugar.frame.Frame object>, <zmq.sugar.frame.Frame object>, <zmq.sugar.frame.Frame object>, <zmq.sugar.frame.Frame object>],)\n        kwargs = {}\n    415         except:\n    416             gen_log.error(\"Uncaught exception, closing connection.\",\n    417                           exc_info=True)\n    418             # Close the socket on an uncaught exception from a user callback\n\n...........................................................................\n/home/bob/.local/lib/python3.6/site-packages/tornado/stack_context.py in null_wrapper(*args=([<zmq.sugar.frame.Frame object>, <zmq.sugar.frame.Frame object>, <zmq.sugar.frame.Frame object>, <zmq.sugar.frame.Frame object>, <zmq.sugar.frame.Frame object>, <zmq.sugar.frame.Frame object>, <zmq.sugar.frame.Frame object>],), **kwargs={})\n    272         # Fast path when there are no active contexts.\n    273         def null_wrapper(*args, **kwargs):\n    274             try:\n    275                 current_state = _state.contexts\n    276                 _state.contexts = cap_contexts[0]\n--> 277                 return fn(*args, **kwargs)\n        args = ([<zmq.sugar.frame.Frame object>, <zmq.sugar.frame.Frame object>, <zmq.sugar.frame.Frame object>, <zmq.sugar.frame.Frame object>, <zmq.sugar.frame.Frame object>, <zmq.sugar.frame.Frame object>, <zmq.sugar.frame.Frame object>],)\n        kwargs = {}\n    278             finally:\n    279                 _state.contexts = current_state\n    280         null_wrapper._wrapped = True\n    281         return null_wrapper\n\n...........................................................................\n/home/bob/.local/lib/python3.6/site-packages/ipykernel/kernelbase.py in dispatcher(msg=[<zmq.sugar.frame.Frame object>, <zmq.sugar.frame.Frame object>, <zmq.sugar.frame.Frame object>, <zmq.sugar.frame.Frame object>, <zmq.sugar.frame.Frame object>, <zmq.sugar.frame.Frame object>, <zmq.sugar.frame.Frame object>])\n    276         if self.control_stream:\n    277             self.control_stream.on_recv(self.dispatch_control, copy=False)\n    278 \n    279         def make_dispatcher(stream):\n    280             def dispatcher(msg):\n--> 281                 return self.dispatch_shell(stream, msg)\n        msg = [<zmq.sugar.frame.Frame object>, <zmq.sugar.frame.Frame object>, <zmq.sugar.frame.Frame object>, <zmq.sugar.frame.Frame object>, <zmq.sugar.frame.Frame object>, <zmq.sugar.frame.Frame object>, <zmq.sugar.frame.Frame object>]\n    282             return dispatcher\n    283 \n    284         for s in self.shell_streams:\n    285             s.on_recv(make_dispatcher(s), copy=False)\n\n...........................................................................\n/home/bob/.local/lib/python3.6/site-packages/ipykernel/kernelbase.py in dispatch_shell(self=<ipykernel.ipkernel.IPythonKernel object>, stream=<zmq.eventloop.zmqstream.ZMQStream object>, msg={'buffers': [], 'content': {'allow_stdin': True, 'code': 'grid_search()', 'silent': False, 'stop_on_error': True, 'store_history': True, 'user_expressions': {}}, 'header': {'date': datetime.datetime(2018, 4, 16, 16, 32, 43, 120254, tzinfo=tzutc()), 'msg_id': 'BE00966CE6864F3A93B1A94A77ADA7FF', 'msg_type': 'execute_request', 'session': '35B580B51D4742128E9F9462C1EBB33B', 'username': 'username', 'version': '5.0'}, 'metadata': {}, 'msg_id': 'BE00966CE6864F3A93B1A94A77ADA7FF', 'msg_type': 'execute_request', 'parent_header': {}})\n    227             self.log.warn(\"Unknown message type: %r\", msg_type)\n    228         else:\n    229             self.log.debug(\"%s: %s\", msg_type, msg)\n    230             self.pre_handler_hook()\n    231             try:\n--> 232                 handler(stream, idents, msg)\n        handler = <bound method Kernel.execute_request of <ipykernel.ipkernel.IPythonKernel object>>\n        stream = <zmq.eventloop.zmqstream.ZMQStream object>\n        idents = [b'35B580B51D4742128E9F9462C1EBB33B']\n        msg = {'buffers': [], 'content': {'allow_stdin': True, 'code': 'grid_search()', 'silent': False, 'stop_on_error': True, 'store_history': True, 'user_expressions': {}}, 'header': {'date': datetime.datetime(2018, 4, 16, 16, 32, 43, 120254, tzinfo=tzutc()), 'msg_id': 'BE00966CE6864F3A93B1A94A77ADA7FF', 'msg_type': 'execute_request', 'session': '35B580B51D4742128E9F9462C1EBB33B', 'username': 'username', 'version': '5.0'}, 'metadata': {}, 'msg_id': 'BE00966CE6864F3A93B1A94A77ADA7FF', 'msg_type': 'execute_request', 'parent_header': {}}\n    233             except Exception:\n    234                 self.log.error(\"Exception in message handler:\", exc_info=True)\n    235             finally:\n    236                 self.post_handler_hook()\n\n...........................................................................\n/home/bob/.local/lib/python3.6/site-packages/ipykernel/kernelbase.py in execute_request(self=<ipykernel.ipkernel.IPythonKernel object>, stream=<zmq.eventloop.zmqstream.ZMQStream object>, ident=[b'35B580B51D4742128E9F9462C1EBB33B'], parent={'buffers': [], 'content': {'allow_stdin': True, 'code': 'grid_search()', 'silent': False, 'stop_on_error': True, 'store_history': True, 'user_expressions': {}}, 'header': {'date': datetime.datetime(2018, 4, 16, 16, 32, 43, 120254, tzinfo=tzutc()), 'msg_id': 'BE00966CE6864F3A93B1A94A77ADA7FF', 'msg_type': 'execute_request', 'session': '35B580B51D4742128E9F9462C1EBB33B', 'username': 'username', 'version': '5.0'}, 'metadata': {}, 'msg_id': 'BE00966CE6864F3A93B1A94A77ADA7FF', 'msg_type': 'execute_request', 'parent_header': {}})\n    392         if not silent:\n    393             self.execution_count += 1\n    394             self._publish_execute_input(code, parent, self.execution_count)\n    395 \n    396         reply_content = self.do_execute(code, silent, store_history,\n--> 397                                         user_expressions, allow_stdin)\n        user_expressions = {}\n        allow_stdin = True\n    398 \n    399         # Flush output before sending the reply.\n    400         sys.stdout.flush()\n    401         sys.stderr.flush()\n\n...........................................................................\n/home/bob/.local/lib/python3.6/site-packages/ipykernel/ipkernel.py in do_execute(self=<ipykernel.ipkernel.IPythonKernel object>, code='grid_search()', silent=False, store_history=True, user_expressions={}, allow_stdin=True)\n    203 \n    204         self._forward_input(allow_stdin)\n    205 \n    206         reply_content = {}\n    207         try:\n--> 208             res = shell.run_cell(code, store_history=store_history, silent=silent)\n        res = undefined\n        shell.run_cell = <bound method ZMQInteractiveShell.run_cell of <ipykernel.zmqshell.ZMQInteractiveShell object>>\n        code = 'grid_search()'\n        store_history = True\n        silent = False\n    209         finally:\n    210             self._restore_input()\n    211 \n    212         if res.error_before_exec is not None:\n\n...........................................................................\n/home/bob/.local/lib/python3.6/site-packages/ipykernel/zmqshell.py in run_cell(self=<ipykernel.zmqshell.ZMQInteractiveShell object>, *args=('grid_search()',), **kwargs={'silent': False, 'store_history': True})\n    528             )\n    529         self.payload_manager.write_payload(payload)\n    530 \n    531     def run_cell(self, *args, **kwargs):\n    532         self._last_traceback = None\n--> 533         return super(ZMQInteractiveShell, self).run_cell(*args, **kwargs)\n        self.run_cell = <bound method ZMQInteractiveShell.run_cell of <ipykernel.zmqshell.ZMQInteractiveShell object>>\n        args = ('grid_search()',)\n        kwargs = {'silent': False, 'store_history': True}\n    534 \n    535     def _showtraceback(self, etype, evalue, stb):\n    536         # try to preserve ordering of tracebacks and print statements\n    537         sys.stdout.flush()\n\n...........................................................................\n/home/bob/.local/lib/python3.6/site-packages/IPython/core/interactiveshell.py in run_cell(self=<ipykernel.zmqshell.ZMQInteractiveShell object>, raw_cell='grid_search()', store_history=True, silent=False, shell_futures=True)\n   2723                 self.displayhook.exec_result = result\n   2724 \n   2725                 # Execute the user code\n   2726                 interactivity = \"none\" if silent else self.ast_node_interactivity\n   2727                 has_raised = self.run_ast_nodes(code_ast.body, cell_name,\n-> 2728                    interactivity=interactivity, compiler=compiler, result=result)\n        interactivity = 'last_expr'\n        compiler = <IPython.core.compilerop.CachingCompiler object>\n   2729                 \n   2730                 self.last_execution_succeeded = not has_raised\n   2731                 self.last_execution_result = result\n   2732 \n\n...........................................................................\n/home/bob/.local/lib/python3.6/site-packages/IPython/core/interactiveshell.py in run_ast_nodes(self=<ipykernel.zmqshell.ZMQInteractiveShell object>, nodelist=[<_ast.Expr object>], cell_name='<ipython-input-306-7ea50c2bdd1d>', interactivity='last', compiler=<IPython.core.compilerop.CachingCompiler object>, result=<ExecutionResult object at 7f748785e240, executi..._before_exec=None error_in_exec=None result=None>)\n   2851                     return True\n   2852 \n   2853             for i, node in enumerate(to_run_interactive):\n   2854                 mod = ast.Interactive([node])\n   2855                 code = compiler(mod, cell_name, \"single\")\n-> 2856                 if self.run_code(code, result):\n        self.run_code = <bound method InteractiveShell.run_code of <ipykernel.zmqshell.ZMQInteractiveShell object>>\n        code = <code object <module> at 0x7f7487889f60, file \"<ipython-input-306-7ea50c2bdd1d>\", line 1>\n        result = <ExecutionResult object at 7f748785e240, executi..._before_exec=None error_in_exec=None result=None>\n   2857                     return True\n   2858 \n   2859             # Flush softspace\n   2860             if softspace(sys.stdout, 0):\n\n...........................................................................\n/home/bob/.local/lib/python3.6/site-packages/IPython/core/interactiveshell.py in run_code(self=<ipykernel.zmqshell.ZMQInteractiveShell object>, code_obj=<code object <module> at 0x7f7487889f60, file \"<ipython-input-306-7ea50c2bdd1d>\", line 1>, result=<ExecutionResult object at 7f748785e240, executi..._before_exec=None error_in_exec=None result=None>)\n   2905         outflag = True  # happens in more places, so it's easier as default\n   2906         try:\n   2907             try:\n   2908                 self.hooks.pre_run_code_hook()\n   2909                 #rprint('Running code', repr(code_obj)) # dbg\n-> 2910                 exec(code_obj, self.user_global_ns, self.user_ns)\n        code_obj = <code object <module> at 0x7f7487889f60, file \"<ipython-input-306-7ea50c2bdd1d>\", line 1>\n        self.user_global_ns = {'GridSearchCV': <class 'sklearn.model_selection._search.GridSearchCV'>, 'In': ['', 'import os\\nimport math\\nimport numpy as np\\nimport ...MPLE_FOLDER = \"/mnt/hgfs/projlogs/gamcon_samples\"', 'def grouper(iterable, n, fillvalue=None):\\n    \"C...itertools.zip_longest(*args, fillvalue=fillvalue)', 'def show_raw(images, labels):\\n    fig, ax = plt....       ax[i].set_title(labels[i])\\n\\n    plt.show()', 'def show_all(images, labels=None):\\n    if labels...es, 6, np.zeros(images[0].shape, dtype=np.int)) ]', 'def preprocess_score_image(original, verbose=0):...ed_digits, digit, 0)\\n\\n    return flattened_digits', '# load classifications\\nclassifications = []\\nwith...print(len(classifications), classifications[:15])', \"test_image = cv2.imread(os.path.join(SAMPLE_FOLDER, 'sample_8.png'))\\nplt.imshow(test_image)\", 'if MIN_CONTOUR_AREA < 30:\\n    MIN_CONTOUR_AREA =...s = preprocess_score_image(test_image, verbose=1)', 'MIN_CONTOUR_AREA = 2\\nparts = preprocess_score_image(test_image, verbose=1)', 'print(parts)', 'FAIL HERE', 'if MIN_CONTOUR_AREA < 30:\\n    MIN_CONTOUR_AREA =...s = preprocess_score_image(test_image, verbose=1)', 'def col_filter(image, color, threshold=20):\\n    ...   res = cv2.medianBlur(mask, 5);\\n\\n    return res', 'def split_rois(image, grid_color=GRID_COLOR, ver..._screen, score_screen_start_x, score_screen_end_x', 'def split_rois(image, grid_color=[0,0,255], verb..._screen, score_screen_start_x, score_screen_end_x', 'split_rois(test_image, verbose=1)', 'def split_rois(image, grid_color=[0,0,255], verb..._screen, score_screen_start_x, score_screen_end_x', 'split_rois(test_image, verbose=1)', 'def split_rois(image, grid_color=[0,0,255], verb...kscreen, score_screen_start_x, score_screen_end_x', ...], 'MIN_CONTOUR_AREA': 30, 'Out': {7: <matplotlib.image.AxesImage object>, 20: (array([[0, 0, 0, ..., 0, 0, 0],\n       [0, 0, 0,...0],\n       [0, 0, 0, ..., 0, 0, 0]], dtype=uint8), 0, 79), 33: <matplotlib.image.AxesImage object>, 96: (28, 80, 3), 217: 3175, 224: array([0., 0., 0., 0., 0., 0., 4., 1., 2., 1., 2., 1., 6., 2., 0.]), 226: ['\\x00', '\\x00', '\\x00', '\\x00', '\\x00', '\\x00', '\\x04', '\\x01', '\\x02', '\\x01', '\\x02', '\\x01', '\\x06', '\\x02', '\\x00'], 227: ['\\x00', '\\x00', '\\x00', '\\x00', '\\x00', '\\x00', '\\x04', '\\x01', '\\x02', '\\x01', '\\x02', '\\x01', '\\x06', '\\x02', '\\x00'], 229: ['0\\n', '0\\n', '0\\n', '0\\n', '0\\n', '0\\n', '4\\n', '1\\n', '2\\n', '1\\n', '2\\n', '1\\n', '6\\n', '2\\n', '0\\n'], 231: ['\\x00', '\\x00', '\\x00', '\\x00', '\\x00', '\\x00', '\\x04', '\\x01', '\\x02', '\\x01', '\\x02', '\\x01', '\\x06', '\\x02', '\\x00'], ...}, 'Pipeline': <class 'sklearn.pipeline.Pipeline'>, 'RESIZED_IMAGE_HEIGHT': 30, 'RESIZED_IMAGE_WIDTH': 20, 'SAMPLES_COUNT': 1002, 'SAMPLE_FOLDER': '/mnt/hgfs/projlogs/gamcon_samples', 'SCORE_COLOR': [235, 235, 235], ...}\n        self.user_ns = {'GridSearchCV': <class 'sklearn.model_selection._search.GridSearchCV'>, 'In': ['', 'import os\\nimport math\\nimport numpy as np\\nimport ...MPLE_FOLDER = \"/mnt/hgfs/projlogs/gamcon_samples\"', 'def grouper(iterable, n, fillvalue=None):\\n    \"C...itertools.zip_longest(*args, fillvalue=fillvalue)', 'def show_raw(images, labels):\\n    fig, ax = plt....       ax[i].set_title(labels[i])\\n\\n    plt.show()', 'def show_all(images, labels=None):\\n    if labels...es, 6, np.zeros(images[0].shape, dtype=np.int)) ]', 'def preprocess_score_image(original, verbose=0):...ed_digits, digit, 0)\\n\\n    return flattened_digits', '# load classifications\\nclassifications = []\\nwith...print(len(classifications), classifications[:15])', \"test_image = cv2.imread(os.path.join(SAMPLE_FOLDER, 'sample_8.png'))\\nplt.imshow(test_image)\", 'if MIN_CONTOUR_AREA < 30:\\n    MIN_CONTOUR_AREA =...s = preprocess_score_image(test_image, verbose=1)', 'MIN_CONTOUR_AREA = 2\\nparts = preprocess_score_image(test_image, verbose=1)', 'print(parts)', 'FAIL HERE', 'if MIN_CONTOUR_AREA < 30:\\n    MIN_CONTOUR_AREA =...s = preprocess_score_image(test_image, verbose=1)', 'def col_filter(image, color, threshold=20):\\n    ...   res = cv2.medianBlur(mask, 5);\\n\\n    return res', 'def split_rois(image, grid_color=GRID_COLOR, ver..._screen, score_screen_start_x, score_screen_end_x', 'def split_rois(image, grid_color=[0,0,255], verb..._screen, score_screen_start_x, score_screen_end_x', 'split_rois(test_image, verbose=1)', 'def split_rois(image, grid_color=[0,0,255], verb..._screen, score_screen_start_x, score_screen_end_x', 'split_rois(test_image, verbose=1)', 'def split_rois(image, grid_color=[0,0,255], verb...kscreen, score_screen_start_x, score_screen_end_x', ...], 'MIN_CONTOUR_AREA': 30, 'Out': {7: <matplotlib.image.AxesImage object>, 20: (array([[0, 0, 0, ..., 0, 0, 0],\n       [0, 0, 0,...0],\n       [0, 0, 0, ..., 0, 0, 0]], dtype=uint8), 0, 79), 33: <matplotlib.image.AxesImage object>, 96: (28, 80, 3), 217: 3175, 224: array([0., 0., 0., 0., 0., 0., 4., 1., 2., 1., 2., 1., 6., 2., 0.]), 226: ['\\x00', '\\x00', '\\x00', '\\x00', '\\x00', '\\x00', '\\x04', '\\x01', '\\x02', '\\x01', '\\x02', '\\x01', '\\x06', '\\x02', '\\x00'], 227: ['\\x00', '\\x00', '\\x00', '\\x00', '\\x00', '\\x00', '\\x04', '\\x01', '\\x02', '\\x01', '\\x02', '\\x01', '\\x06', '\\x02', '\\x00'], 229: ['0\\n', '0\\n', '0\\n', '0\\n', '0\\n', '0\\n', '4\\n', '1\\n', '2\\n', '1\\n', '2\\n', '1\\n', '6\\n', '2\\n', '0\\n'], 231: ['\\x00', '\\x00', '\\x00', '\\x00', '\\x00', '\\x00', '\\x04', '\\x01', '\\x02', '\\x01', '\\x02', '\\x01', '\\x06', '\\x02', '\\x00'], ...}, 'Pipeline': <class 'sklearn.pipeline.Pipeline'>, 'RESIZED_IMAGE_HEIGHT': 30, 'RESIZED_IMAGE_WIDTH': 20, 'SAMPLES_COUNT': 1002, 'SAMPLE_FOLDER': '/mnt/hgfs/projlogs/gamcon_samples', 'SCORE_COLOR': [235, 235, 235], ...}\n   2911             finally:\n   2912                 # Reset our crash handler in place\n   2913                 sys.excepthook = old_excepthook\n   2914         except SystemExit as e:\n\n...........................................................................\n/home/bob/gits/gamcon/<ipython-input-306-7ea50c2bdd1d> in <module>()\n----> 1 grid_search()\n\n...........................................................................\n/home/bob/gits/gamcon/<ipython-input-305-471b8d13729a> in grid_search()\n      9         ('clf', svm.NuSVC())\n     10     ])\n     11 \n     12     grid_search = GridSearchCV(pipeline, param_grid=params, cv=2, n_jobs=4)\n     13 \n---> 14     grid_search.fit(flattened_images, classifications )\n     15     report(grid_search.cv_results_)\n\n...........................................................................\n/home/bob/.local/lib/python3.6/site-packages/sklearn/model_selection/_search.py in fit(self=GridSearchCV(cv=2, error_score='raise',\n       e...ain_score='warn',\n       scoring=None, verbose=0), X=array([[0., 0., 0., ..., 0., 0., 0.],\n       [0...., 0., 0.],\n       [0., 0., 0., ..., 0., 0., 0.]]), y=[0, 0, 0, 0, 0, 0, 4, 1, 2, 1, 2, 1, 6, 2, 0, 2, 8, 2, 8, 2, ...], groups=None, **fit_params={})\n    634                                   return_train_score=self.return_train_score,\n    635                                   return_n_test_samples=True,\n    636                                   return_times=True, return_parameters=False,\n    637                                   error_score=self.error_score)\n    638           for parameters, (train, test) in product(candidate_params,\n--> 639                                                    cv.split(X, y, groups)))\n        cv.split = <bound method StratifiedKFold.split of Stratifie...ld(n_splits=2, random_state=None, shuffle=False)>\n        X = array([[0., 0., 0., ..., 0., 0., 0.],\n       [0...., 0., 0.],\n       [0., 0., 0., ..., 0., 0., 0.]])\n        y = [0, 0, 0, 0, 0, 0, 4, 1, 2, 1, 2, 1, 6, 2, 0, 2, 8, 2, 8, 2, ...]\n        groups = None\n    640 \n    641         # if one choose to see train score, \"out\" will contain train score info\n    642         if self.return_train_score:\n    643             (train_score_dicts, test_score_dicts, test_sample_counts, fit_time,\n\n...........................................................................\n/home/bob/.local/lib/python3.6/site-packages/sklearn/externals/joblib/parallel.py in __call__(self=Parallel(n_jobs=4), iterable=<generator object BaseSearchCV.fit.<locals>.<genexpr>>)\n    784             if pre_dispatch == \"all\" or n_jobs == 1:\n    785                 # The iterable was consumed all at once by the above for loop.\n    786                 # No need to wait for async callbacks to trigger to\n    787                 # consumption.\n    788                 self._iterating = False\n--> 789             self.retrieve()\n        self.retrieve = <bound method Parallel.retrieve of Parallel(n_jobs=4)>\n    790             # Make sure that we get a last message telling us we are done\n    791             elapsed_time = time.time() - self._start_time\n    792             self._print('Done %3i out of %3i | elapsed: %s finished',\n    793                         (len(self._output), len(self._output),\n\n---------------------------------------------------------------------------\nSub-process traceback:\n---------------------------------------------------------------------------\nValueError                                         Mon Apr 16 09:33:13 2018\nPID: 21772                                   Python 3.6.3: /usr/bin/python3\n...........................................................................\n/home/bob/.local/lib/python3.6/site-packages/sklearn/externals/joblib/parallel.py in __call__(self=<sklearn.externals.joblib.parallel.BatchedCalls object>)\n    126     def __init__(self, iterator_slice):\n    127         self.items = list(iterator_slice)\n    128         self._size = len(self.items)\n    129 \n    130     def __call__(self):\n--> 131         return [func(*args, **kwargs) for func, args, kwargs in self.items]\n        self.items = [(<function _fit_and_score>, (Pipeline(memory=None,\n     steps=[('clf', NuSVC(...7,\n   shrinking=True, tol=0.01, verbose=False))]), memmap([[0., 0., 0., ..., 0., 0., 0.],\n        [... 0., 0.],\n        [0., 0., 0., ..., 0., 0., 0.]]), [0, 0, 0, 0, 0, 0, 4, 1, 2, 1, 2, 1, 6, 2, 0, 2, 8, 2, 8, 2, ...], {'score': <function _passthrough_scorer>}, array([1238, 1241, 1244, ..., 3172, 3173, 3174]), array([   0,    1,    2, ..., 1870, 1873, 1876]), 0, {'clf__decision_function_shape': 'ovo', 'clf__kernel': 'linear', 'clf__nu': 0.8, 'clf__random_state': 1337, 'clf__shrinking': True, 'clf__tol': 0.01}), {'error_score': 'raise', 'fit_params': {}, 'return_n_test_samples': True, 'return_parameters': False, 'return_times': True, 'return_train_score': 'warn'})]\n    132 \n    133     def __len__(self):\n    134         return self._size\n    135 \n\n...........................................................................\n/home/bob/.local/lib/python3.6/site-packages/sklearn/externals/joblib/parallel.py in <listcomp>(.0=<list_iterator object>)\n    126     def __init__(self, iterator_slice):\n    127         self.items = list(iterator_slice)\n    128         self._size = len(self.items)\n    129 \n    130     def __call__(self):\n--> 131         return [func(*args, **kwargs) for func, args, kwargs in self.items]\n        func = <function _fit_and_score>\n        args = (Pipeline(memory=None,\n     steps=[('clf', NuSVC(...7,\n   shrinking=True, tol=0.01, verbose=False))]), memmap([[0., 0., 0., ..., 0., 0., 0.],\n        [... 0., 0.],\n        [0., 0., 0., ..., 0., 0., 0.]]), [0, 0, 0, 0, 0, 0, 4, 1, 2, 1, 2, 1, 6, 2, 0, 2, 8, 2, 8, 2, ...], {'score': <function _passthrough_scorer>}, array([1238, 1241, 1244, ..., 3172, 3173, 3174]), array([   0,    1,    2, ..., 1870, 1873, 1876]), 0, {'clf__decision_function_shape': 'ovo', 'clf__kernel': 'linear', 'clf__nu': 0.8, 'clf__random_state': 1337, 'clf__shrinking': True, 'clf__tol': 0.01})\n        kwargs = {'error_score': 'raise', 'fit_params': {}, 'return_n_test_samples': True, 'return_parameters': False, 'return_times': True, 'return_train_score': 'warn'}\n    132 \n    133     def __len__(self):\n    134         return self._size\n    135 \n\n...........................................................................\n/home/bob/.local/lib/python3.6/site-packages/sklearn/model_selection/_validation.py in _fit_and_score(estimator=Pipeline(memory=None,\n     steps=[('clf', NuSVC(...7,\n   shrinking=True, tol=0.01, verbose=False))]), X=memmap([[0., 0., 0., ..., 0., 0., 0.],\n        [... 0., 0.],\n        [0., 0., 0., ..., 0., 0., 0.]]), y=[0, 0, 0, 0, 0, 0, 4, 1, 2, 1, 2, 1, 6, 2, 0, 2, 8, 2, 8, 2, ...], scorer={'score': <function _passthrough_scorer>}, train=array([1238, 1241, 1244, ..., 3172, 3173, 3174]), test=array([   0,    1,    2, ..., 1870, 1873, 1876]), verbose=0, parameters={'clf__decision_function_shape': 'ovo', 'clf__kernel': 'linear', 'clf__nu': 0.8, 'clf__random_state': 1337, 'clf__shrinking': True, 'clf__tol': 0.01}, fit_params={}, return_train_score='warn', return_parameters=False, return_n_test_samples=True, return_times=True, error_score='raise')\n    453 \n    454     try:\n    455         if y_train is None:\n    456             estimator.fit(X_train, **fit_params)\n    457         else:\n--> 458             estimator.fit(X_train, y_train, **fit_params)\n        estimator.fit = <bound method Pipeline.fit of Pipeline(memory=No...,\n   shrinking=True, tol=0.01, verbose=False))])>\n        X_train = memmap([[0., 0., 0., ..., 0., 0., 0.],\n        [... 0., 0.],\n        [0., 0., 0., ..., 0., 0., 0.]])\n        y_train = [3, 3, 3, 3, 3, 9, 9, 9, 3, 9, 6, 9, 9, 9, 9, 9, 9, 9, 9, 9, ...]\n        fit_params = {}\n    459 \n    460     except Exception as e:\n    461         # Note fit time as time until error\n    462         fit_time = time.time() - start_time\n\n...........................................................................\n/home/bob/.local/lib/python3.6/site-packages/sklearn/pipeline.py in fit(self=Pipeline(memory=None,\n     steps=[('clf', NuSVC(...7,\n   shrinking=True, tol=0.01, verbose=False))]), X=memmap([[0., 0., 0., ..., 0., 0., 0.],\n        [... 0., 0.],\n        [0., 0., 0., ..., 0., 0., 0.]]), y=[3, 3, 3, 3, 3, 9, 9, 9, 3, 9, 6, 9, 9, 9, 9, 9, 9, 9, 9, 9, ...], **fit_params={})\n    245         self : Pipeline\n    246             This estimator\n    247         \"\"\"\n    248         Xt, fit_params = self._fit(X, y, **fit_params)\n    249         if self._final_estimator is not None:\n--> 250             self._final_estimator.fit(Xt, y, **fit_params)\n        self._final_estimator.fit = <bound method BaseLibSVM.fit of NuSVC(cache_size...337,\n   shrinking=True, tol=0.01, verbose=False)>\n        Xt = memmap([[0., 0., 0., ..., 0., 0., 0.],\n        [... 0., 0.],\n        [0., 0., 0., ..., 0., 0., 0.]])\n        y = [3, 3, 3, 3, 3, 9, 9, 9, 3, 9, 6, 9, 9, 9, 9, 9, 9, 9, 9, 9, ...]\n        fit_params = {}\n    251         return self\n    252 \n    253     def fit_transform(self, X, y=None, **fit_params):\n    254         \"\"\"Fit the model and transform with the final estimator\n\n...........................................................................\n/home/bob/.local/lib/python3.6/site-packages/sklearn/svm/base.py in fit(self=NuSVC(cache_size=200, class_weight=None, coef0=0...1337,\n   shrinking=True, tol=0.01, verbose=False), X=array([[0., 0., 0., ..., 0., 0., 0.],\n       [0...., 0., 0.],\n       [0., 0., 0., ..., 0., 0., 0.]]), y=array([3., 3., 3., ..., 1., 8., 0.]), sample_weight=array([], dtype=float64))\n    182         fit = self._sparse_fit if self._sparse else self._dense_fit\n    183         if self.verbose:  # pragma: no cover\n    184             print('[LibSVM]', end='')\n    185 \n    186         seed = rnd.randint(np.iinfo('i').max)\n--> 187         fit(X, y, sample_weight, solver_type, kernel, random_seed=seed)\n        fit = <bound method BaseLibSVM._dense_fit of NuSVC(cac...337,\n   shrinking=True, tol=0.01, verbose=False)>\n        X = array([[0., 0., 0., ..., 0., 0., 0.],\n       [0...., 0., 0.],\n       [0., 0., 0., ..., 0., 0., 0.]])\n        y = array([3., 3., 3., ..., 1., 8., 0.])\n        sample_weight = array([], dtype=float64)\n        solver_type = 1\n        kernel = 'linear'\n        seed = 1125387415\n    188         # see comment on the other call to np.iinfo in this file\n    189 \n    190         self.shape_fit_ = X.shape\n    191 \n\n...........................................................................\n/home/bob/.local/lib/python3.6/site-packages/sklearn/svm/base.py in _dense_fit(self=NuSVC(cache_size=200, class_weight=None, coef0=0...1337,\n   shrinking=True, tol=0.01, verbose=False), X=array([[0., 0., 0., ..., 0., 0., 0.],\n       [0...., 0., 0.],\n       [0., 0., 0., ..., 0., 0., 0.]]), y=array([3., 3., 3., ..., 1., 8., 0.]), sample_weight=array([], dtype=float64), solver_type=1, kernel='linear', random_seed=1125387415)\n    249                 class_weight=self.class_weight_, kernel=kernel, C=self.C,\n    250                 nu=self.nu, probability=self.probability, degree=self.degree,\n    251                 shrinking=self.shrinking, tol=self.tol,\n    252                 cache_size=self.cache_size, coef0=self.coef0,\n    253                 gamma=self._gamma, epsilon=self.epsilon,\n--> 254                 max_iter=self.max_iter, random_seed=random_seed)\n        self.max_iter = -1\n        random_seed = 1125387415\n    255 \n    256         self._warn_from_fit_status()\n    257 \n    258     def _sparse_fit(self, X, y, sample_weight, solver_type, kernel,\n\n...........................................................................\n/home/bob/.local/lib/python3.6/site-packages/sklearn/svm/libsvm.cpython-36m-x86_64-linux-gnu.so in sklearn.svm.libsvm.fit()\n\nValueError: specified nu is infeasible\n___________________________________________________________________________"
     ]
    }
   ],
   "source": [
    "grid_search()"
   ]
  },
  {
   "cell_type": "code",
   "execution_count": null,
   "metadata": {
    "collapsed": true
   },
   "outputs": [],
   "source": [
    "=-=--=-==--==--=--"
   ]
  },
  {
   "cell_type": "markdown",
   "metadata": {},
   "source": [
    "Use the results from the grid search above to fill in the next training model:"
   ]
  },
  {
   "cell_type": "code",
   "execution_count": null,
   "metadata": {
    "collapsed": true
   },
   "outputs": [],
   "source": [
    "clf = svm.NuSVC(decision_function_shape='ovo', kernel='linear', nu=0.8, random_state=1337, shrinking=True, tol=0.01)\n",
    "clf.fit(flattened_images, classifications)"
   ]
  },
  {
   "cell_type": "markdown",
   "metadata": {},
   "source": [
    "reminder of the test sample"
   ]
  },
  {
   "cell_type": "code",
   "execution_count": null,
   "metadata": {
    "collapsed": true
   },
   "outputs": [],
   "source": [
    "show_all(test_images)"
   ]
  },
  {
   "cell_type": "markdown",
   "metadata": {},
   "source": [
    "use the model to predict the test sample"
   ]
  },
  {
   "cell_type": "code",
   "execution_count": null,
   "metadata": {
    "collapsed": true
   },
   "outputs": [],
   "source": [
    "for digit in test:\n",
    "    predict = clf.predict([digit])\n",
    "    print(chr(int(predict)))"
   ]
  },
  {
   "cell_type": "code",
   "execution_count": null,
   "metadata": {
    "collapsed": true
   },
   "outputs": [],
   "source": [
    "predictions = [ clf.predict([z]) for z in test ]\n",
    "show_all(test_images, labels=[ chr(z) for z in predictions])"
   ]
  },
  {
   "cell_type": "markdown",
   "metadata": {},
   "source": [
    "SAVE it"
   ]
  },
  {
   "cell_type": "code",
   "execution_count": null,
   "metadata": {
    "collapsed": true
   },
   "outputs": [],
   "source": [
    "import pickle\n",
    "with open('score_model2.pickle', 'wb') as f:\n",
    "    pickle.dump(clf, f)\n",
    "\n",
    "with open('score_model2.pickle', 'rb') as f:\n",
    "    clf2 = pickle.load(f)\n",
    "first_digit = clf2.predict([test[0]])\n",
    "print('first digit of the score sample is', chr(first_digit))"
   ]
  }
 ],
 "metadata": {
  "kernelspec": {
   "display_name": "Python 3",
   "language": "python",
   "name": "python3"
  },
  "language_info": {
   "codemirror_mode": {
    "name": "ipython",
    "version": 3
   },
   "file_extension": ".py",
   "mimetype": "text/x-python",
   "name": "python",
   "nbconvert_exporter": "python",
   "pygments_lexer": "ipython3",
   "version": "3.6.3"
  }
 },
 "nbformat": 4,
 "nbformat_minor": 2
}
