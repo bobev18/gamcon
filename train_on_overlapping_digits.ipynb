{
 "cells": [
  {
   "cell_type": "code",
   "execution_count": 1,
   "metadata": {
    "collapsed": true
   },
   "outputs": [],
   "source": [
    "import os\n",
    "import math\n",
    "import numpy as np\n",
    "import matplotlib.pyplot as plt\n",
    "import itertools\n",
    "\n",
    "# from skimage import data\n",
    "from skimage import transform as tf\n",
    "from skimage.transform import rotate\n",
    "\n",
    "import cv2\n",
    "\n",
    "MIN_CONTOUR_AREA = 30\n",
    "RESIZED_IMAGE_WIDTH = 20\n",
    "RESIZED_IMAGE_HEIGHT = 30\n",
    "\n",
    "SAMPLES_COUNT = 1002\n",
    "SCORE_COLOR = [235,235,235]\n",
    "\n",
    "# SAMPLE_FOLDER = 'F:\\projlogs\\gamcon_samples'\n",
    "SAMPLE_FOLDER = \"/mnt/hgfs/projlogs/gamcon_samples\""
   ]
  },
  {
   "cell_type": "code",
   "execution_count": 2,
   "metadata": {
    "collapsed": true
   },
   "outputs": [],
   "source": [
    "def grouper(iterable, n, fillvalue=None):\n",
    "    \"Collect data into fixed-length chunks or blocks\"\n",
    "    # grouper('ABCDEFG', 3, 'x') --> ABC DEF Gxx\"\n",
    "    args = [iter(iterable)] * n\n",
    "    return itertools.zip_longest(*args, fillvalue=fillvalue)"
   ]
  },
  {
   "cell_type": "code",
   "execution_count": 3,
   "metadata": {
    "collapsed": true
   },
   "outputs": [],
   "source": [
    "def show_raw(images, labels):\n",
    "    fig, ax = plt.subplots(ncols=len(images), sharex=False, sharey=False)\n",
    "    for i in range(len(images)):\n",
    "        ax[i].imshow(images[i], cmap=plt.cm.gray)\n",
    "        ax[i].axis('off')\n",
    "        if labels is not None:\n",
    "            ax[i].set_title(labels[i])\n",
    "\n",
    "    plt.show()"
   ]
  },
  {
   "cell_type": "code",
   "execution_count": 4,
   "metadata": {
    "collapsed": true
   },
   "outputs": [],
   "source": [
    "def show_all(images, labels=None):\n",
    "    if labels is not None:\n",
    "        image_sets = list(grouper(images, 6, np.zeros(images[0].shape, dtype=np.int)))\n",
    "        label_sets = list(grouper(labels, 6, ''))\n",
    "        for i, image_set in enumerate(image_sets):\n",
    "            show_raw(image_set, labels=label_sets[i])\n",
    "    else:\n",
    "        [ show_raw(z, ['']*6) for z in grouper(images, 6, np.zeros(images[0].shape, dtype=np.int)) ]"
   ]
  },
  {
   "cell_type": "code",
   "execution_count": 5,
   "metadata": {
    "collapsed": true
   },
   "outputs": [],
   "source": [
    "def preprocess_score_image(original, verbose=0):\n",
    "    gray = cv2.cvtColor(original, cv2.COLOR_BGR2GRAY)\n",
    "    _, bw_image = cv2.threshold(gray, 200, 255, cv2.THRESH_BINARY)\n",
    "    if verbose > 0:\n",
    "        plt.imshow(bw_image);\n",
    "        plt.show();\n",
    "    image = bw_image.copy()\n",
    "    img_contours, npa_contours, npa_hierarchy = cv2.findContours(image,\n",
    "                                                 cv2.RETR_EXTERNAL,\n",
    "                                                 cv2.CHAIN_APPROX_SIMPLE)\n",
    "\n",
    "    digits = []\n",
    "    not_original = original.copy()\n",
    "    for i, npa_contour in enumerate(npa_contours):\n",
    "        if cv2.contourArea(npa_contour) > MIN_CONTOUR_AREA:\n",
    "            [intX, intY, intW, intH] = cv2.boundingRect(npa_contour)\n",
    "            if verbose > 0:\n",
    "                print(i, [intX, intY, intW, intH])\n",
    "            cv2.rectangle(not_original, (intX, intY), (intX+intW,intY+intH), (0, 0, 255), 1)\n",
    "            if verbose > 0:\n",
    "                plt.imshow(not_original);\n",
    "                plt.show();\n",
    "            imgROI = image[intY:intY+intH, intX:intX+intW]\n",
    "            resized = cv2.resize(imgROI, (RESIZED_IMAGE_WIDTH, RESIZED_IMAGE_HEIGHT))\n",
    "            flattened = resized.reshape((1, RESIZED_IMAGE_WIDTH * RESIZED_IMAGE_HEIGHT))\n",
    "            digits.append((intX, flattened,))\n",
    "\n",
    "    flattened_digits =  np.empty((0, RESIZED_IMAGE_WIDTH * RESIZED_IMAGE_HEIGHT), dtype=np.int)\n",
    "    for _, digit in sorted(digits, key=lambda z: z[0]):\n",
    "        flattened_digits = np.append(flattened_digits, digit, 0)\n",
    "\n",
    "    return flattened_digits"
   ]
  },
  {
   "cell_type": "code",
   "execution_count": 6,
   "metadata": {
    "collapsed": false
   },
   "outputs": [
    {
     "name": "stdout",
     "output_type": "stream",
     "text": [
      "1002 ['0', '0', '0', '0', '0', '0', '4', '12', '12', '16', '20', '28', '28', '28', '28']\n",
      "3175\n",
      "3175 ['0', '0', '0', '0', '0', '0', '4', '1', '2', '1', '2', '1', '6', '2', '0']\n"
     ]
    }
   ],
   "source": [
    "# load classifications\n",
    "classifications = []\n",
    "with open(os.path.join(SAMPLE_FOLDER, 'score_smaples_values.txt'), 'rt') as f:\n",
    "    test = [ z.strip() for z in f.readlines()]\n",
    "    classifications = list(itertools.chain.from_iterable(test))\n",
    "    # classifications.extend([z for z in chars])\n",
    "\n",
    "print(len(test), test[:15])\n",
    "print(sum([len(z) for z in test]))\n",
    "print(len(classifications), classifications[:15])"
   ]
  },
  {
   "cell_type": "code",
   "execution_count": 7,
   "metadata": {
    "collapsed": false
   },
   "outputs": [
    {
     "data": {
      "text/plain": [
       "<matplotlib.image.AxesImage at 0x7fe4239679b0>"
      ]
     },
     "execution_count": 7,
     "metadata": {},
     "output_type": "execute_result"
    },
    {
     "data": {
      "image/png": "[encoded data removed]",
      "text/plain": [
       "<matplotlib.figure.Figure at 0x7fe425979518>"
      ]
     },
     "metadata": {},
     "output_type": "display_data"
    }
   ],
   "source": [
    "test_image = cv2.imread(os.path.join(SAMPLE_FOLDER, 'sample_8.png'))\n",
    "plt.imshow(test_image)"
   ]
  },
  {
   "cell_type": "code",
   "execution_count": 8,
   "metadata": {
    "collapsed": false
   },
   "outputs": [
    {
     "data": {
      "image/png": "[encoded data removed]",
      "text/plain": [
       "<matplotlib.figure.Figure at 0x7fe4259cca20>"
      ]
     },
     "metadata": {},
     "output_type": "display_data"
    },
    {
     "name": "stdout",
     "output_type": "stream",
     "text": [
      "5 [28, 4, 8, 17]\n"
     ]
    },
    {
     "data": {
      "image/png": "[encoded data removed]",
      "text/plain": [
       "<matplotlib.figure.Figure at 0x7fe423883470>"
      ]
     },
     "metadata": {},
     "output_type": "display_data"
    }
   ],
   "source": [
    "if MIN_CONTOUR_AREA < 30:\n",
    "    MIN_CONTOUR_AREA = 30\n",
    "parts = preprocess_score_image(test_image, verbose=1)"
   ]
  },
  {
   "cell_type": "code",
   "execution_count": 9,
   "metadata": {
    "collapsed": false
   },
   "outputs": [
    {
     "data": {
      "image/png": "[encoded data removed]",
      "text/plain": [
       "<matplotlib.figure.Figure at 0x7fe4259ccb70>"
      ]
     },
     "metadata": {},
     "output_type": "display_data"
    },
    {
     "name": "stdout",
     "output_type": "stream",
     "text": [
      "2 [42, 18, 13, 3]\n"
     ]
    },
    {
     "data": {
      "image/png": "[encoded data removed]",
      "text/plain": [
       "<matplotlib.figure.Figure at 0x7fe4238c14e0>"
      ]
     },
     "metadata": {},
     "output_type": "display_data"
    },
    {
     "name": "stdout",
     "output_type": "stream",
     "text": [
      "3 [42, 5, 4, 3]\n"
     ]
    },
    {
     "data": {
      "image/png": "[encoded data removed]",
      "text/plain": [
       "<matplotlib.figure.Figure at 0x7fe423779748>"
      ]
     },
     "metadata": {},
     "output_type": "display_data"
    },
    {
     "name": "stdout",
     "output_type": "stream",
     "text": [
      "4 [49, 4, 5, 12]\n"
     ]
    },
    {
     "data": {
      "image/png": "[encoded data removed]",
      "text/plain": [
       "<matplotlib.figure.Figure at 0x7fe4236fd8d0>"
      ]
     },
     "metadata": {},
     "output_type": "display_data"
    },
    {
     "name": "stdout",
     "output_type": "stream",
     "text": [
      "5 [28, 4, 8, 17]\n"
     ]
    },
    {
     "data": {
      "image/png": "[encoded data removed]",
      "text/plain": [
       "<matplotlib.figure.Figure at 0x7fe42379fe80>"
      ]
     },
     "metadata": {},
     "output_type": "display_data"
    }
   ],
   "source": [
    "MIN_CONTOUR_AREA = 2\n",
    "parts = preprocess_score_image(test_image, verbose=1)"
   ]
  },
  {
   "cell_type": "code",
   "execution_count": 10,
   "metadata": {
    "collapsed": false
   },
   "outputs": [
    {
     "data": {
      "text/plain": [
       "(28, 80, 3)"
      ]
     },
     "execution_count": 10,
     "metadata": {},
     "output_type": "execute_result"
    }
   ],
   "source": [
    "test_image.shape"
   ]
  },
  {
   "cell_type": "code",
   "execution_count": 11,
   "metadata": {
    "collapsed": false
   },
   "outputs": [],
   "source": [
    "def col_filter(image, color, threshold=20):\n",
    "    # filters specific color from the image\n",
    "    lower = np.array([ z-threshold for z in color ])\n",
    "    upper = np.array([ z+threshold for z in color ])\n",
    "#     print('filtering by color range:', lower, upper)\n",
    "    mask = cv2.inRange(image, lower, upper)\n",
    "    res = cv2.bitwise_and(image, image, mask= mask)\n",
    "    # cv2.GaussianBlur(res, (5,5), 0);\n",
    "    res = cv2.medianBlur(res, 1);\n",
    "    res = cv2.medianBlur(mask, 1);\n",
    "\n",
    "    return res"
   ]
  },
  {
   "cell_type": "code",
   "execution_count": 12,
   "metadata": {
    "collapsed": false
   },
   "outputs": [],
   "source": [
    "def split_rois(image, color=[185, 172, 160], corner_cut_size=1, verbose=0):\n",
    "    \n",
    "    def find_range_start_end(sumlist):\n",
    "        region_detected = False\n",
    "        region_start = 0\n",
    "        for i in range(len(sumlist)):\n",
    "            if sumlist[i] > 0 and not region_detected:\n",
    "                region_detected = True\n",
    "                region_start = i\n",
    "\n",
    "            if sumlist[i] == 0 and region_detected:\n",
    "                break\n",
    "\n",
    "        return region_start, i\n",
    "    \n",
    "    \n",
    "    if verbose > 0:\n",
    "        plt.imshow(image);\n",
    "        plt.show();\n",
    "        \n",
    "    # filter by color\n",
    "    workscreen = col_filter(image, color=color, threshold=20)\n",
    "    \n",
    "    if verbose > 0:\n",
    "        plt.imshow(workscreen);\n",
    "        plt.show();\n",
    "\n",
    "    # sum over axis \"0\" i.e. sum the filterd color pixels in each column\n",
    "    v_sums = workscreen.sum(0)\n",
    "    if verbose > 0:\n",
    "        print('h_sums lenght prior to corner cut:', len(v_sums))\n",
    "    \n",
    "    # cut corners (because of the round edges of the UI element, there are light color pixels in the corners of the img)\n",
    "    v_sums = v_sums[corner_cut_size:-corner_cut_size]\n",
    "    \n",
    "    if verbose > 0:\n",
    "        print(v_sums)\n",
    "    \n",
    "    zones = []\n",
    "    consider_x = 0\n",
    "    for delme in range(100):\n",
    "        start_x, end_x = find_range_start_end(v_sums[consider_x:])\n",
    "        \n",
    "        # because find_range_start_end gives results relative to the input\n",
    "        start_x +=  consider_x\n",
    "        end_x += consider_x\n",
    "        \n",
    "        subimage = image[0:workscreen.shape[0], start_x:end_x + 1]\n",
    "        consider_x = end_x + 1\n",
    "        \n",
    "        if verbose > 0:\n",
    "            print(delme, start_x, end_x)\n",
    "            \n",
    "        zones.append([subimage, start_x, end_x])\n",
    "        if start_x == consider_x or sum(v_sums[consider_x:]) == 0:\n",
    "            break\n",
    "    \n",
    "    return zones"
   ]
  },
  {
   "cell_type": "code",
   "execution_count": 13,
   "metadata": {
    "collapsed": false
   },
   "outputs": [
    {
     "data": {
      "image/png": "[encoded data removed]",
      "text/plain": [
       "<matplotlib.figure.Figure at 0x7fe423751b00>"
      ]
     },
     "metadata": {},
     "output_type": "display_data"
    },
    {
     "data": {
      "image/png": "[encoded data removed]",
      "text/plain": [
       "<matplotlib.figure.Figure at 0x7fe4239187f0>"
      ]
     },
     "metadata": {},
     "output_type": "display_data"
    },
    {
     "name": "stdout",
     "output_type": "stream",
     "text": [
      "h_sums lenght prior to corner cut: 80\n",
      "[   0    0    0    0    0    0    0    0    0    0    0    0    0    0\n",
      "    0    0    0    0    0    0    0    0    0    0    0    0    0  510\n",
      "  510  765  765 3060 3570 4335    0    0    0    0    0    0    0  765\n",
      " 1275 1275  765  510  765  765 2040 3570 3060 2295 1275  765    0    0\n",
      "    0    0    0    0    0    0    0    0    0    0    0    0    0    0\n",
      "    0    0    0    0    0    0    0    0]\n",
      "0 27 34\n",
      "1 41 54\n",
      "[[27, 34], [41, 54]]\n"
     ]
    }
   ],
   "source": [
    "zones = split_rois(test_image, color=[235,235,235], verbose=1)\n",
    "print([z[1:] for z in zones ])\n",
    "# plt.imshow(i);"
   ]
  },
  {
   "cell_type": "code",
   "execution_count": 14,
   "metadata": {
    "collapsed": false
   },
   "outputs": [
    {
     "data": {
      "image/png": "[encoded data removed]",
      "text/plain": [
       "<matplotlib.figure.Figure at 0x7fe42367e8d0>"
      ]
     },
     "metadata": {},
     "output_type": "display_data"
    },
    {
     "data": {
      "image/png": "[encoded data removed]",
      "text/plain": [
       "<matplotlib.figure.Figure at 0x7fe42387a160>"
      ]
     },
     "metadata": {},
     "output_type": "display_data"
    }
   ],
   "source": [
    "for sub in [ z[0] for z in zones ]:\n",
    "    plt.imshow(sub);\n",
    "    plt.show();"
   ]
  },
  {
   "cell_type": "code",
   "execution_count": 15,
   "metadata": {
    "collapsed": false
   },
   "outputs": [
    {
     "data": {
      "image/png": "[encoded data removed]",
      "text/plain": [
       "<matplotlib.figure.Figure at 0x7fe4236d5860>"
      ]
     },
     "metadata": {},
     "output_type": "display_data"
    },
    {
     "data": {
      "image/png": "[encoded data removed]",
      "text/plain": [
       "<matplotlib.figure.Figure at 0x7fe423709710>"
      ]
     },
     "metadata": {},
     "output_type": "display_data"
    },
    {
     "data": {
      "image/png": "[encoded data removed]",
      "text/plain": [
       "<matplotlib.figure.Figure at 0x7fe42377d668>"
      ]
     },
     "metadata": {},
     "output_type": "display_data"
    },
    {
     "name": "stdout",
     "output_type": "stream",
     "text": [
      "h_sums lenght prior to corner cut: 81\n",
      "[   0    0    0    0    0    0    0    0    0    0    0    0    0    0\n",
      "    0    0    0    0    0    0    0    0    0    0    0    0    0    0\n",
      " 1275 1275 1275 1785 2040 3570 4335 4335 3825  255    0    0    0  255\n",
      " 1020 1020  765    0    0  255  510 3570 4335 4335  765  765    0    0\n",
      "    0    0    0    0    0    0    0    0    0    0    0    0    0    0\n",
      "    0    0    0    0    0    0    0    0    0]\n",
      "0 28 38\n",
      "1 41 45\n",
      "2 47 54\n"
     ]
    },
    {
     "data": {
      "image/png": "[encoded data removed]",
      "text/plain": [
       "<matplotlib.figure.Figure at 0x7fe4236014e0>"
      ]
     },
     "metadata": {},
     "output_type": "display_data"
    },
    {
     "data": {
      "image/png": "[encoded data removed]",
      "text/plain": [
       "<matplotlib.figure.Figure at 0x7fe4235e7630>"
      ]
     },
     "metadata": {},
     "output_type": "display_data"
    },
    {
     "data": {
      "image/png": "[encoded data removed]",
      "text/plain": [
       "<matplotlib.figure.Figure at 0x7fe4235aeeb8>"
      ]
     },
     "metadata": {},
     "output_type": "display_data"
    }
   ],
   "source": [
    "# ti2 = cv2.imread(os.path.join(SAMPLE_FOLDER, 'sample_344.png'))\n",
    "# ti2 = cv2.imread(os.path.join(SAMPLE_FOLDER, 'sample_346.png'))\n",
    "ti2 = cv2.imread(os.path.join(SAMPLE_FOLDER, 'sample_20.png'))\n",
    "plt.imshow(ti2);\n",
    "plt.show();\n",
    "zones = split_rois(ti2, color=[235,235,235], verbose=1)\n",
    "for sub in [ z[0] for z in zones ]:\n",
    "    plt.imshow(sub);\n",
    "    plt.show();"
   ]
  },
  {
   "cell_type": "code",
   "execution_count": 16,
   "metadata": {
    "collapsed": true
   },
   "outputs": [],
   "source": [
    "def merge_small_parts(zones, image, verbose=0):\n",
    "    part_sizes = ([ z[2]-z[1] for z in zones ])\n",
    "    new_zones = []\n",
    "    \n",
    "    if verbose > 0:\n",
    "        print('# zones', len(zones))\n",
    "    i = 1\n",
    "    while i < len(zones) + 1:\n",
    "        if verbose > 0:\n",
    "            print('processing zones', i-1, '&', i)\n",
    "        if part_sizes[i-1] < 7 and part_sizes[i] <= 11:\n",
    "            subimage = image[0:image.shape[0], zones[i-1][1]:zones[i][2]+1]\n",
    "            new_zones.append([subimage, zones[i-1][1], zones[i][2]])\n",
    "            i += 1\n",
    "            if verbose > 0:\n",
    "                print('merged, thuse increased cycle to:', i-1, '&', i)\n",
    "        else:\n",
    "            new_zones.append(zones[i-1])\n",
    "            \n",
    "        i += 1\n",
    "        if verbose > 0:\n",
    "            print('ending=?', i, len(zones) +1, i == len(zones) +1 )\n",
    "    \n",
    "    if verbose > 0:\n",
    "        print([z[1:] for z in new_zones])\n",
    "    \n",
    "    return new_zones  "
   ]
  },
  {
   "cell_type": "code",
   "execution_count": 17,
   "metadata": {
    "collapsed": true
   },
   "outputs": [],
   "source": [
    "def rois(image, corner_cut_size=1, verbose=0):\n",
    "    zones = split_rois(image, color=SCORE_COLOR, corner_cut_size=corner_cut_size, verbose=verbose)\n",
    "#     if verbose > 0:\n",
    "#         print(len(zones))\n",
    "    zones = merge_small_parts(zones, image, verbose=verbose)\n",
    "#     if verbose > 0:\n",
    "#         print(len(zones))\n",
    "        \n",
    "    return zones"
   ]
  },
  {
   "cell_type": "code",
   "execution_count": 18,
   "metadata": {
    "collapsed": false
   },
   "outputs": [
    {
     "data": {
      "image/png": "[encoded data removed]",
      "text/plain": [
       "<matplotlib.figure.Figure at 0x7fe42353cb70>"
      ]
     },
     "metadata": {},
     "output_type": "display_data"
    },
    {
     "data": {
      "image/png": "[encoded data removed]",
      "text/plain": [
       "<matplotlib.figure.Figure at 0x7fe42357ea58>"
      ]
     },
     "metadata": {},
     "output_type": "display_data"
    },
    {
     "data": {
      "image/png": "[encoded data removed]",
      "text/plain": [
       "<matplotlib.figure.Figure at 0x7fe423673da0>"
      ]
     },
     "metadata": {},
     "output_type": "display_data"
    },
    {
     "name": "stdout",
     "output_type": "stream",
     "text": [
      "h_sums lenght prior to corner cut: 95\n",
      "[   0    0    0    0    0    0    0    0    0    0    0    0    0    0\n",
      "    0    0    0    0    0    0    0    0    0    0    0    0  765 1785\n",
      " 2550 2550 2550 2550 2295 3060 3315 2805 2295  765    0    0 1275    0\n",
      "  255  255  510 1530 1530 1530 2040 2550 3825 2550 2040    0    0    0\n",
      "  765 1785 1275 1020 1020 1275 1530 2295 3570 4080 3315 2295    0    0\n",
      "    0    0    0    0    0    0    0    0    0    0    0    0    0    0\n",
      "    0    0    0    0    0    0    0    0    0]\n",
      "0 26 38\n",
      "1 40 41\n",
      "2 42 53\n",
      "3 56 68\n",
      "# zones 4\n",
      "processing zones 0 & 1\n",
      "ending=? 2 5 False\n",
      "processing zones 1 & 2\n",
      "merged, thuse increased cycle to: 2 & 3\n",
      "ending=? 4 5 False\n",
      "processing zones 3 & 4\n",
      "ending=? 5 5 True\n",
      "[[26, 38], [40, 53], [56, 68]]\n"
     ]
    },
    {
     "data": {
      "image/png": "[encoded data removed]",
      "text/plain": [
       "<matplotlib.figure.Figure at 0x7fe469645eb8>"
      ]
     },
     "metadata": {},
     "output_type": "display_data"
    },
    {
     "data": {
      "image/png": "[encoded data removed]",
      "text/plain": [
       "<matplotlib.figure.Figure at 0x7fe423512cc0>"
      ]
     },
     "metadata": {},
     "output_type": "display_data"
    },
    {
     "data": {
      "image/png": "[encoded data removed]",
      "text/plain": [
       "<matplotlib.figure.Figure at 0x7fe42387e860>"
      ]
     },
     "metadata": {},
     "output_type": "display_data"
    }
   ],
   "source": [
    "# ti3 = cv2.imread(os.path.join(SAMPLE_FOLDER, 'sample_344.png'))\n",
    "# ti3 = cv2.imread(os.path.join(SAMPLE_FOLDER, 'sample_346.png'))\n",
    "# ti3 = cv2.imread(os.path.join(SAMPLE_FOLDER, 'sample_20.png'))\n",
    "ti3 = cv2.imread(os.path.join(SAMPLE_FOLDER, 'sample_43.png'))\n",
    "plt.imshow(ti3);\n",
    "plt.show();\n",
    "# zones = split_rois(ti3, color=[235,235,235], verbose=1)\n",
    "# zones = merge_small_parts(zones, ti3)\n",
    "zones = rois(ti3, verbose=1)\n",
    "for sub in [ z[0] for z in zones ]:\n",
    "    plt.imshow(sub);\n",
    "    plt.show();"
   ]
  },
  {
   "cell_type": "code",
   "execution_count": null,
   "metadata": {
    "collapsed": true
   },
   "outputs": [],
   "source": []
  },
  {
   "cell_type": "code",
   "execution_count": 19,
   "metadata": {
    "collapsed": false
   },
   "outputs": [
    {
     "ename": "SyntaxError",
     "evalue": "invalid syntax (<ipython-input-19-f2aac8727edc>, line 1)",
     "output_type": "error",
     "traceback": [
      "\u001b[0;36m  File \u001b[0;32m\"<ipython-input-19-f2aac8727edc>\"\u001b[0;36m, line \u001b[0;32m1\u001b[0m\n\u001b[0;31m    FAIL HERE\u001b[0m\n\u001b[0m            ^\u001b[0m\n\u001b[0;31mSyntaxError\u001b[0m\u001b[0;31m:\u001b[0m invalid syntax\n"
     ]
    }
   ],
   "source": [
    "FAIL HERE"
   ]
  },
  {
   "cell_type": "code",
   "execution_count": 20,
   "metadata": {
    "collapsed": false
   },
   "outputs": [
    {
     "data": {
      "image/png": "[encoded data removed]",
      "text/plain": [
       "<matplotlib.figure.Figure at 0x7fe4235d7400>"
      ]
     },
     "metadata": {},
     "output_type": "display_data"
    },
    {
     "name": "stdout",
     "output_type": "stream",
     "text": [
      "img smpls 1002\n"
     ]
    }
   ],
   "source": [
    "# load sample images\n",
    "training_samples = []\n",
    "training_images = []\n",
    "flattened_images =  np.empty((0, RESIZED_IMAGE_WIDTH * RESIZED_IMAGE_HEIGHT), dtype=np.int)\n",
    "classifications = []\n",
    "for i in range(SAMPLES_COUNT):\n",
    "    img = cv2.imread(os.path.join(SAMPLE_FOLDER, 'sample_' + str(i+1) + '.png'))\n",
    "    # training_images.extend(preprocess_score_image(img))\n",
    "    training_samples.append(img)\n",
    "#     parts = preprocess_score_image(img)\n",
    "    parts = rois(img)\n",
    "    if len(test[i]) != len(parts):\n",
    "        print(i, len(test[i]), len(parts), '(', test[i], ')')\n",
    "        show_raw([img, img], None)\n",
    "    else:\n",
    "        for j, part in enumerate(parts):\n",
    "            classifications.append(test[i][j])\n",
    "            gray = cv2.cvtColor(part[0], cv2.COLOR_BGR2GRAY)\n",
    "            _, bw_image = cv2.threshold(gray, 200, 255, cv2.THRESH_BINARY)\n",
    "            if i==42 and j==0:\n",
    "                plt.imshow(bw_image);\n",
    "                plt.show();\n",
    "            \n",
    "            resized = cv2.resize(bw_image, (RESIZED_IMAGE_WIDTH, RESIZED_IMAGE_HEIGHT))\n",
    "            flattened = resized.reshape((1, RESIZED_IMAGE_WIDTH * RESIZED_IMAGE_HEIGHT))\n",
    "            flattened_images = np.append(flattened_images, flattened, 0)\n",
    "    training_images.extend(parts)\n",
    "\n",
    "print('img smpls', len(training_samples))"
   ]
  },
  {
   "cell_type": "code",
   "execution_count": 21,
   "metadata": {
    "collapsed": false
   },
   "outputs": [
    {
     "name": "stdout",
     "output_type": "stream",
     "text": [
      "sample digits: 3175 labels: 3175\n"
     ]
    }
   ],
   "source": [
    "# %%time\n",
    "# print('sample digits:', len(flattened_images), 'labels:', len(classifications))\n",
    "# classifications = [ int(z) for z in classifications]\n",
    "# np.savetxt(\"overlapping_classifications.txt\", classifications, fmt='%i')\n",
    "# np.savetxt(\"overlapping_flattened_images.txt\", flattened_images, fmt='%i')"
   ]
  },
  {
   "cell_type": "code",
   "execution_count": null,
   "metadata": {
    "collapsed": true
   },
   "outputs": [],
   "source": [
    "FAIL HERE"
   ]
  },
  {
   "cell_type": "markdown",
   "metadata": {},
   "source": [
    "# LOAD AND TRAIN"
   ]
  },
  {
   "cell_type": "code",
   "execution_count": 22,
   "metadata": {
    "collapsed": true
   },
   "outputs": [],
   "source": [
    "# classifications = np.loadtxt(\"overlapping_classifications.txt\") #, , fmt='%i')\n",
    "with open('overlapping_classifications.txt', 'rt') as f:\n",
    "    classifications = f.readlines()\n",
    "flattened_images = np.loadtxt(\"overlapping_flattened_images.txt\")#,  fmt='%i')"
   ]
  },
  {
   "cell_type": "code",
   "execution_count": 23,
   "metadata": {
    "collapsed": false
   },
   "outputs": [],
   "source": [
    "images = [ np.reshape(z, (RESIZED_IMAGE_HEIGHT, -1)) for z in flattened_images ]\n",
    "classifications = [int(z.strip()) for z in classifications]"
   ]
  },
  {
   "cell_type": "code",
   "execution_count": 24,
   "metadata": {
    "collapsed": false,
    "scrolled": true
   },
   "outputs": [],
   "source": [
    "####  use this to output the loaded data  ####\n",
    "\n",
    "# show_all(images, labels=classifications)"
   ]
  },
  {
   "cell_type": "code",
   "execution_count": 25,
   "metadata": {
    "collapsed": false
   },
   "outputs": [
    {
     "data": {
      "image/png": "[encoded data removed]",
      "text/plain": [
       "<matplotlib.figure.Figure at 0x7fe42356a518>"
      ]
     },
     "metadata": {},
     "output_type": "display_data"
    },
    {
     "name": "stdout",
     "output_type": "stream",
     "text": [
      "(35, 10, 3) (30, 20)\n",
      "(35, 15, 3) (30, 20)\n",
      "(35, 16, 3) (30, 20)\n"
     ]
    },
    {
     "data": {
      "image/png": "[encoded data removed]",
      "text/plain": [
       "<matplotlib.figure.Figure at 0x7fe4259ac080>"
      ]
     },
     "metadata": {},
     "output_type": "display_data"
    }
   ],
   "source": [
    "test_source = cv2.imread(\"samples/test_score.png\")\n",
    "plt.imshow(test_source, cmap=plt.cm.gray)\n",
    "plt.show()\n",
    "\n",
    "test = rois(test_source, corner_cut_size=2) #, verbose=1)\n",
    "digits = []\n",
    "for digit in test:\n",
    "    \n",
    "    gray = cv2.cvtColor(digit[0], cv2.COLOR_BGR2GRAY)\n",
    "    _, bw_image = cv2.threshold(gray, 200, 255, cv2.THRESH_BINARY)\n",
    "    resized = cv2.resize(bw_image, (RESIZED_IMAGE_WIDTH, RESIZED_IMAGE_HEIGHT))\n",
    "    print(digit[0].shape, resized.shape)\n",
    "    digits.append(resized)\n",
    "\n",
    "# test_images = [ np.reshape(z, (RESIZED_IMAGE_HEIGHT, -1)) for z in digits ]\n",
    "show_all(digits)\n",
    "\n",
    "test_images = [z.reshape((RESIZED_IMAGE_WIDTH * RESIZED_IMAGE_HEIGHT)) for z in digits]"
   ]
  },
  {
   "cell_type": "code",
   "execution_count": 26,
   "metadata": {
    "collapsed": false
   },
   "outputs": [
    {
     "data": {
      "text/plain": [
       "(30, 20)"
      ]
     },
     "execution_count": 26,
     "metadata": {},
     "output_type": "execute_result"
    }
   ],
   "source": [
    "digits[0].shape"
   ]
  },
  {
   "cell_type": "code",
   "execution_count": 27,
   "metadata": {
    "collapsed": false
   },
   "outputs": [
    {
     "data": {
      "text/plain": [
       "(600,)"
      ]
     },
     "execution_count": 27,
     "metadata": {},
     "output_type": "execute_result"
    }
   ],
   "source": [
    "test_images[0].shape"
   ]
  },
  {
   "cell_type": "code",
   "execution_count": 28,
   "metadata": {
    "collapsed": false
   },
   "outputs": [
    {
     "data": {
      "text/plain": [
       "(600,)"
      ]
     },
     "execution_count": 28,
     "metadata": {},
     "output_type": "execute_result"
    }
   ],
   "source": [
    "flattened_images[0].shape"
   ]
  },
  {
   "cell_type": "code",
   "execution_count": 29,
   "metadata": {
    "collapsed": true
   },
   "outputs": [],
   "source": [
    "from sklearn import svm"
   ]
  },
  {
   "cell_type": "code",
   "execution_count": 31,
   "metadata": {
    "collapsed": true
   },
   "outputs": [],
   "source": [
    "# naive try without params\n",
    "clf = svm.NuSVC(nu=0.3)"
   ]
  },
  {
   "cell_type": "code",
   "execution_count": 32,
   "metadata": {
    "collapsed": false
   },
   "outputs": [
    {
     "name": "stdout",
     "output_type": "stream",
     "text": [
      "CPU times: user 9.12 s, sys: 292 ms, total: 9.41 s\n",
      "Wall time: 9.41 s\n"
     ]
    },
    {
     "data": {
      "text/plain": [
       "NuSVC(cache_size=200, class_weight=None, coef0=0.0,\n",
       "   decision_function_shape='ovr', degree=3, gamma='auto', kernel='rbf',\n",
       "   max_iter=-1, nu=0.3, probability=False, random_state=None,\n",
       "   shrinking=True, tol=0.001, verbose=False)"
      ]
     },
     "execution_count": 32,
     "metadata": {},
     "output_type": "execute_result"
    }
   ],
   "source": [
    "%%time\n",
    "clf.fit(flattened_images, classifications)"
   ]
  },
  {
   "cell_type": "code",
   "execution_count": 33,
   "metadata": {
    "collapsed": false
   },
   "outputs": [
    {
     "name": "stdout",
     "output_type": "stream",
     "text": [
      "[2]\n",
      "[2]\n",
      "[2]\n"
     ]
    }
   ],
   "source": [
    "# expect fail\n",
    "for digit in test_images:\n",
    "    predict = clf.predict([digit])\n",
    "    print(predict)"
   ]
  },
  {
   "cell_type": "code",
   "execution_count": 34,
   "metadata": {
    "collapsed": false
   },
   "outputs": [
    {
     "data": {
      "image/png": "[encoded data removed]",
      "text/plain": [
       "<matplotlib.figure.Figure at 0x7fe421c52400>"
      ]
     },
     "metadata": {},
     "output_type": "display_data"
    }
   ],
   "source": [
    "# just alternative display\n",
    "predictions = [ clf.predict([z]).tolist() for z in test_images ]\n",
    "show_all(digits, labels=[ str(z[0]) for z in predictions])"
   ]
  },
  {
   "cell_type": "code",
   "execution_count": null,
   "metadata": {
    "collapsed": true
   },
   "outputs": [],
   "source": [
    "# Grid search\n",
    "\n",
    "def report(results, n_top=5):\n",
    "    for i in range(1, n_top + 1):\n",
    "        candidates = np.flatnonzero(results['rank_test_score'] == i)\n",
    "        for candidate in candidates:\n",
    "            print(\"Model with rank: {0}\".format(i))\n",
    "            print(\"Mean validation score: {0:.3f} (std: {1:.3f})\".format(\n",
    "                  results['mean_test_score'][candidate],\n",
    "                  results['std_test_score'][candidate]))\n",
    "            print(\"Parameters: {0}\".format(results['params'][candidate]))\n",
    "            print(\"\")\n",
    "\n",
    "### more_params = {'clf__nu' : [0.3, 0.28, 0.25, 0.23, 0.22, 0.2, 0.15],  - waited 3 days, interrupted\n",
    "more_params = {'clf__nu' : [0.3, 0.225, 0.2,],\n",
    "            'clf__kernel' : ['linear', 'poly', 'rbf', 'sigmoid', ],\n",
    "            'clf__shrinking' : [True, False],\n",
    "###            'clf__tol' : [0.01, 0.003, 0.001, 0.0003, 0.0001],\n",
    "            'clf__tol' : [0.01, 0.001, 0.0001],\n",
    "            'clf__decision_function_shape' : ['ovo', 'ovr'],\n",
    "        }"
   ]
  },
  {
   "cell_type": "code",
   "execution_count": null,
   "metadata": {
    "collapsed": true
   },
   "outputs": [],
   "source": [
    "from sklearn.model_selection import GridSearchCV\n",
    "from sklearn.pipeline import Pipeline"
   ]
  },
  {
   "cell_type": "code",
   "execution_count": null,
   "metadata": {
    "collapsed": true
   },
   "outputs": [],
   "source": [
    "# # need more samples to have the CV\n",
    "# double_samples = np.concatenate((flattened_images, flattened_images), axis=0)\n",
    "# double_classes = np.concatenate((classifications, classifications), axis=0)"
   ]
  },
  {
   "cell_type": "code",
   "execution_count": null,
   "metadata": {
    "collapsed": true
   },
   "outputs": [],
   "source": [
    "def grid_search():\n",
    "    params = {\n",
    "        'clf__random_state' : [1337]\n",
    "    }\n",
    "\n",
    "    params.update(more_params)\n",
    "\n",
    "    pipeline = Pipeline([\n",
    "        ('clf', svm.NuSVC())\n",
    "    ])\n",
    "\n",
    "    grid_search = GridSearchCV(pipeline, param_grid=params, cv=2, n_jobs=4)\n",
    "\n",
    "    grid_search.fit(flattened_images, classifications )\n",
    "    report(grid_search.cv_results_)"
   ]
  },
  {
   "cell_type": "code",
   "execution_count": null,
   "metadata": {
    "collapsed": false,
    "scrolled": false
   },
   "outputs": [],
   "source": [
    "grid_search()"
   ]
  },
  {
   "cell_type": "code",
   "execution_count": null,
   "metadata": {
    "collapsed": true
   },
   "outputs": [],
   "source": [
    "=-=--=-==--==--=--"
   ]
  },
  {
   "cell_type": "markdown",
   "metadata": {},
   "source": [
    "Use the results from the grid search above to fill in the next training model:"
   ]
  },
  {
   "cell_type": "code",
   "execution_count": null,
   "metadata": {
    "collapsed": true
   },
   "outputs": [],
   "source": [
    "clf = svm.NuSVC(decision_function_shape='ovo', kernel='linear', nu=0.8, random_state=1337, shrinking=True, tol=0.01)\n",
    "clf.fit(flattened_images, classifications)"
   ]
  },
  {
   "cell_type": "markdown",
   "metadata": {},
   "source": [
    "reminder of the test sample"
   ]
  },
  {
   "cell_type": "code",
   "execution_count": null,
   "metadata": {
    "collapsed": true
   },
   "outputs": [],
   "source": [
    "show_all(test_images)"
   ]
  },
  {
   "cell_type": "markdown",
   "metadata": {},
   "source": [
    "use the model to predict the test sample"
   ]
  },
  {
   "cell_type": "code",
   "execution_count": null,
   "metadata": {
    "collapsed": true
   },
   "outputs": [],
   "source": [
    "for digit in test:\n",
    "    predict = clf.predict([digit])\n",
    "    print(chr(int(predict)))"
   ]
  },
  {
   "cell_type": "code",
   "execution_count": null,
   "metadata": {
    "collapsed": true
   },
   "outputs": [],
   "source": [
    "predictions = [ clf.predict([z]) for z in test ]\n",
    "show_all(test_images, labels=[ chr(z) for z in predictions])"
   ]
  },
  {
   "cell_type": "markdown",
   "metadata": {},
   "source": [
    "SAVE it"
   ]
  },
  {
   "cell_type": "code",
   "execution_count": null,
   "metadata": {
    "collapsed": true
   },
   "outputs": [],
   "source": [
    "import pickle\n",
    "with open('score_model2.pickle', 'wb') as f:\n",
    "    pickle.dump(clf, f)\n",
    "\n",
    "with open('score_model2.pickle', 'rb') as f:\n",
    "    clf2 = pickle.load(f)\n",
    "first_digit = clf2.predict([test[0]])\n",
    "print('first digit of the score sample is', chr(first_digit))"
   ]
  }
 ],
 "metadata": {
  "kernelspec": {
   "display_name": "Python 3",
   "language": "python",
   "name": "python3"
  },
  "language_info": {
   "codemirror_mode": {
    "name": "ipython",
    "version": 3
   },
   "file_extension": ".py",
   "mimetype": "text/x-python",
   "name": "python",
   "nbconvert_exporter": "python",
   "pygments_lexer": "ipython3",
   "version": "3.6.3"
  }
 },
 "nbformat": 4,
 "nbformat_minor": 2
}
